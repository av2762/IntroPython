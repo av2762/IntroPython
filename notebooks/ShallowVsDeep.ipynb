{
 "cells": [
  {
   "cell_type": "markdown",
   "metadata": {},
   "source": [
    "# Shallow Copy Versus Deep Copy Operations"
   ]
  },
  {
   "cell_type": "markdown",
   "metadata": {},
   "source": [
    "Here's the issue we are looking at now: when we make a copy of an object that contains other objects, what happens if the object we are copying \"contains\" other objects. So, if `list_orig` has `inner_list` as one of its members, like...\n",
    "\n",
    "`list_orig = [1, 2, [3, 5], 4]`\n",
    "\n",
    "and we make a copy of `list_orig` into `list_copy`...\n",
    "\n",
    "`list_orig` ---> `list_copy`\n",
    "\n",
    "\n",
    "does `list_copy` have a **copy** of `inner_list`, or do `list_orig` and `list_copy` share the **same** `inner_list`?\n",
    "\n",
    "As we will see, the default Python behavior is that `list_orig` and `list_copy` will **share** `inner_list`. That is called a *shallow copy*.\n",
    "\n",
    "However, Python also permits the programmer to \"order up\" a *deep copy* so that `inner_list` is copied also.\n",
    "\n",
    "<img src=\"https://i.stack.imgur.com/AWKJa.jpg\" width=\"30%\">"
   ]
  },
  {
   "cell_type": "markdown",
   "metadata": {},
   "source": [
    "## Deep copy\n",
    "\n",
    "Let's first look at a deep copy."
   ]
  },
  {
   "cell_type": "code",
   "execution_count": 2,
   "metadata": {},
   "outputs": [
    {
     "name": "stdout",
     "output_type": "stream",
     "text": [
      "The original elements before deep copying\n",
      "[1, 2, [3, 5], 4]\n",
      "3\n"
     ]
    }
   ],
   "source": [
    "# initializing list_a \n",
    "INNER_LIST_IDX = 2\n",
    "list_orig = [1, 2, [3, 5], 4] \n",
    "\n",
    "print (\"The original elements before deep copying\") \n",
    "print(list_orig)\n",
    "print(list_orig[INNER_LIST_IDX][0])"
   ]
  },
  {
   "cell_type": "markdown",
   "metadata": {},
   "source": [
    "We will use deepcopy to deep copy `list_orig` and change an element in the new list."
   ]
  },
  {
   "cell_type": "code",
   "execution_count": 3,
   "metadata": {},
   "outputs": [],
   "source": [
    "import copy "
   ]
  },
  {
   "cell_type": "markdown",
   "metadata": {},
   "source": [
    "(What's in the `copy` module?)"
   ]
  },
  {
   "cell_type": "code",
   "execution_count": 4,
   "metadata": {},
   "outputs": [
    {
     "data": {
      "text/plain": [
       "['Error',\n",
       " '__all__',\n",
       " '__builtins__',\n",
       " '__cached__',\n",
       " '__doc__',\n",
       " '__file__',\n",
       " '__loader__',\n",
       " '__name__',\n",
       " '__package__',\n",
       " '__spec__',\n",
       " '_copy_dispatch',\n",
       " '_copy_immutable',\n",
       " '_deepcopy_atomic',\n",
       " '_deepcopy_dict',\n",
       " '_deepcopy_dispatch',\n",
       " '_deepcopy_list',\n",
       " '_deepcopy_method',\n",
       " '_deepcopy_tuple',\n",
       " '_keep_alive',\n",
       " '_reconstruct',\n",
       " 'copy',\n",
       " 'deepcopy',\n",
       " 'dispatch_table',\n",
       " 'error']"
      ]
     },
     "execution_count": 4,
     "metadata": {},
     "output_type": "execute_result"
    }
   ],
   "source": [
    "dir(copy)"
   ]
  },
  {
   "cell_type": "markdown",
   "metadata": {},
   "source": [
    "The change is made in list_b: "
   ]
  },
  {
   "cell_type": "code",
   "execution_count": 5,
   "metadata": {},
   "outputs": [
    {
     "name": "stdout",
     "output_type": "stream",
     "text": [
      "The new list (list_copy) of elements after deep copying and list modification\n",
      "[1, 2, [7, 5], 4]\n"
     ]
    }
   ],
   "source": [
    "list_copy = copy.deepcopy(list_orig)\n",
    "# Now change first element of the inner list:\n",
    "list_copy[INNER_LIST_IDX][0] = 7\n",
    "\n",
    "print(\"The new list (list_copy) of elements after deep copying and list modification\") \n",
    "print(list_copy)"
   ]
  },
  {
   "cell_type": "markdown",
   "metadata": {},
   "source": [
    "That change is **not** reflected in original list as we made a deep copy:"
   ]
  },
  {
   "cell_type": "code",
   "execution_count": 6,
   "metadata": {},
   "outputs": [
    {
     "name": "stdout",
     "output_type": "stream",
     "text": [
      "The original list (list_orig) elements after deep copying\n",
      "[1, 2, [3, 5], 4]\n"
     ]
    }
   ],
   "source": [
    "print (\"The original list (list_orig) elements after deep copying\") \n",
    "print(list_orig)"
   ]
  },
  {
   "cell_type": "code",
   "execution_count": 8,
   "metadata": {},
   "outputs": [
    {
     "name": "stdout",
     "output_type": "stream",
     "text": [
      "The list IDs are: 140420742353216 140420742563648\n",
      "The inner list IDs are: 140420742374464 140420742347968\n"
     ]
    }
   ],
   "source": [
    "print(\"The list IDs are:\", id(list_orig), id(list_copy))\n",
    "print(\"The inner list IDs are:\", id(list_orig[INNER_LIST_IDX]),\n",
    "      id(list_copy[INNER_LIST_IDX]))"
   ]
  },
  {
   "cell_type": "markdown",
   "metadata": {},
   "source": [
    "## Shallow copy"
   ]
  },
  {
   "cell_type": "markdown",
   "metadata": {},
   "source": [
    "Like a \"shallow\" person, and shallow copy only sees the \"surface\" of the object it is copying... it doesn't peer further inside.\n",
    "\n",
    "We'll set up `list_orig` as before:"
   ]
  },
  {
   "cell_type": "code",
   "execution_count": 10,
   "metadata": {},
   "outputs": [
    {
     "name": "stdout",
     "output_type": "stream",
     "text": [
      "The original elements before shallow copying\n",
      "[1, 2, [3, 5], 4]\n"
     ]
    }
   ],
   "source": [
    "INNER_LIST_IDX = 2\n",
    "\n",
    "# initializing list_1 \n",
    "list_orig = [1, 2, [3, 5], 4] \n",
    "\n",
    "# original elements of list \n",
    "print (\"The original elements before shallow copying\") \n",
    "print(list_orig)"
   ]
  },
  {
   "cell_type": "markdown",
   "metadata": {},
   "source": [
    "Using copy to shallow copy adding an element to new list"
   ]
  },
  {
   "cell_type": "code",
   "execution_count": 11,
   "metadata": {},
   "outputs": [],
   "source": [
    "import copy \n",
    "\n",
    "list_copy = copy.copy(list_orig)  # not deepcopy()!\n",
    "list_copy[INNER_LIST_IDX][0] = 7"
   ]
  },
  {
   "cell_type": "markdown",
   "metadata": {},
   "source": [
    "Let's check the result: "
   ]
  },
  {
   "cell_type": "code",
   "execution_count": 12,
   "metadata": {},
   "outputs": [
    {
     "name": "stdout",
     "output_type": "stream",
     "text": [
      "The original elements after shallow copying\n",
      "[1, 2, [7, 5], 4]\n"
     ]
    }
   ],
   "source": [
    "print (\"The original elements after shallow copying\") \n",
    "print(list_orig)"
   ]
  },
  {
   "cell_type": "markdown",
   "metadata": {},
   "source": [
    "Let's change `inner_list` in `list_orig`:"
   ]
  },
  {
   "cell_type": "code",
   "execution_count": 13,
   "metadata": {},
   "outputs": [],
   "source": [
    "list_orig[INNER_LIST_IDX][0] = \"That's different!\""
   ]
  },
  {
   "cell_type": "markdown",
   "metadata": {},
   "source": [
    "And let's see what `list_copy`'s inner list now looks like:"
   ]
  },
  {
   "cell_type": "code",
   "execution_count": 14,
   "metadata": {},
   "outputs": [
    {
     "name": "stdout",
     "output_type": "stream",
     "text": [
      "[1, 2, [\"That's different!\", 5], 4]\n"
     ]
    }
   ],
   "source": [
    "print(list_copy)"
   ]
  },
  {
   "cell_type": "markdown",
   "metadata": {},
   "source": [
    "So we can see that `list_orig` and `list_copy` share the same inner list, which is now `[\"That's different!\", 5]`. And their IDs show this:"
   ]
  },
  {
   "cell_type": "code",
   "execution_count": 16,
   "metadata": {},
   "outputs": [
    {
     "name": "stdout",
     "output_type": "stream",
     "text": [
      "The list IDs are: 140420742563840 140420471081280\n",
      "The inner list IDs are: 140420742374464 140420742374464\n"
     ]
    }
   ],
   "source": [
    "print(\"The list IDs are:\", id(list_orig), id(list_copy))\n",
    "print(\"The inner list IDs are:\", id(list_orig[INNER_LIST_IDX]),\n",
    "      id(list_copy[INNER_LIST_IDX]))"
   ]
  },
  {
   "cell_type": "markdown",
   "metadata": {},
   "source": [
    "**But**... if we change the outer list element at INNER_LIST_IDX... **that** change is not shared!"
   ]
  },
  {
   "cell_type": "code",
   "execution_count": null,
   "metadata": {},
   "outputs": [],
   "source": [
    "list_orig[INNER_LIST_IDX] = [\"Brand new list!\", 16]\n",
    "print(\"list_orig:\", list_orig)\n",
    "print(\"list_copy:\", list_copy)"
   ]
  },
  {
   "cell_type": "markdown",
   "metadata": {},
   "source": [
    "### Slicing\n",
    "\n",
    "We should see which of the above slicing gets us!"
   ]
  },
  {
   "cell_type": "code",
   "execution_count": 17,
   "metadata": {},
   "outputs": [
    {
     "name": "stdout",
     "output_type": "stream",
     "text": [
      "[1, 2, [\"That's different!\", 5], 4]\n"
     ]
    }
   ],
   "source": [
    "list_slice = list_orig[:]\n",
    "print(list_slice)"
   ]
  },
  {
   "cell_type": "markdown",
   "metadata": {},
   "source": [
    "What happens to `list_slice` if we change `list_a`:"
   ]
  },
  {
   "cell_type": "code",
   "execution_count": 23,
   "metadata": {},
   "outputs": [
    {
     "name": "stdout",
     "output_type": "stream",
     "text": [
      "Original list: ['New value at 0!', 2, ['Did our slice change?', 5], 4]\n",
      "Our slice: [1, 2, ['Did our slice change?', 5], 4]\n"
     ]
    }
   ],
   "source": [
    "list_orig[INNER_LIST_IDX][0] = \"Did our slice change?\"\n",
    "list_orig[0] = \"New value at 0!\"\n",
    "print(\"Original list:\", list_orig)\n",
    "print(\"Our slice:\", list_slice)"
   ]
  },
  {
   "cell_type": "markdown",
   "metadata": {},
   "source": [
    "So, slicing make a *shallow* copy."
   ]
  },
  {
   "cell_type": "markdown",
   "metadata": {},
   "source": [
    "### Assignment\n",
    "\n",
    "And if we don't even slice, but just assign, even the outer lists will be the same, since we haven't made **any** sort of copy at all... we've just put two labels on the same \"box\":"
   ]
  },
  {
   "cell_type": "code",
   "execution_count": 27,
   "metadata": {},
   "outputs": [
    {
     "name": "stdout",
     "output_type": "stream",
     "text": [
      "['Even the outer elems are the same.', 2, ['Did our slice change?', 5], 4]\n",
      "\n",
      "List alias has element 0 altered: ['Even the outer elems are the same.', 2, ['Did our slice change?', 5], 4]\n",
      "\n",
      "List slice does not have element 0 altered: [1, 2, ['Did our slice change?', 5], 4]\n",
      "\n",
      "list_orig ID: 140420742563840\n",
      "\n",
      "list_alias ID: 140420742563840\n",
      "\n",
      "another_alias ID: 140420742563840\n",
      "\n",
      "list_slice ID: 140420742163840\n",
      "\n"
     ]
    }
   ],
   "source": [
    "list_alias = list_orig\n",
    "another_alias = list_alias\n",
    "yet_another = list_orig\n",
    "print(list_alias, end=\"\\n\\n\")\n",
    "\n",
    "# change elem 0:\n",
    "list_orig[0] = \"Even the outer elems are the same.\"\n",
    "print(\"List alias has element 0 altered:\", list_alias, end=\"\\n\\n\")\n",
    "print(\"List slice does not have element 0 altered:\", list_slice, end=\"\\n\\n\")\n",
    "\n",
    "# see their IDs:\n",
    "print(\"list_orig ID:\", id(list_orig), end=\"\\n\\n\")\n",
    "print(\"list_alias ID:\", id(list_alias), end=\"\\n\\n\")\n",
    "print(\"another_alias ID:\", id(another_alias), end=\"\\n\\n\")\n",
    "print(\"list_slice ID:\", id(list_slice), end=\"\\n\\n\")"
   ]
  },
  {
   "cell_type": "markdown",
   "metadata": {},
   "source": [
    "What does `append()` do in terms of shallow versus deep copy?"
   ]
  },
  {
   "cell_type": "code",
   "execution_count": null,
   "metadata": {},
   "outputs": [],
   "source": [
    "INNER_LIST_IDX = 3\n",
    "list_orig = [1, 2, 3, [4, 5]]\n",
    "list_copy = []\n",
    "for elem in list_orig:\n",
    "    list_copy.append(elem)\n",
    "list_orig[INNER_LIST_IDX][0] = \"Did the copy's inner list change?\"\n",
    "print(\"list_copy:\", list_copy)"
   ]
  },
  {
   "cell_type": "markdown",
   "metadata": {},
   "source": [
    "## What If We Need Different Copy Behavior for Our Own Class?"
   ]
  },
  {
   "cell_type": "markdown",
   "metadata": {},
   "source": [
    "**Advanced topic**: Python has *dunder* (double-underscore) methods `__copy__()` and `__deepcopy__()` that we can implement in our own class when we have special copying needs."
   ]
  }
 ],
 "metadata": {
  "kernelspec": {
   "display_name": "Python 3",
   "language": "python",
   "name": "python3"
  },
  "language_info": {
   "codemirror_mode": {
    "name": "ipython",
    "version": 3
   },
   "file_extension": ".py",
   "mimetype": "text/x-python",
   "name": "python",
   "nbconvert_exporter": "python",
   "pygments_lexer": "ipython3",
   "version": "3.9.0"
  }
 },
 "nbformat": 4,
 "nbformat_minor": 2
}
