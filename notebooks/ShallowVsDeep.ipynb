{
 "cells": [
  {
   "cell_type": "markdown",
   "metadata": {},
   "source": [
    "# Shallow Versus Deep Copy Operations"
   ]
  },
  {
   "cell_type": "markdown",
   "metadata": {},
   "source": [
    "Here's the issue we are looking at now: when we make a copy of an object that contains other objects, what happens if the object we are copying \"contains\" other objects. So, if `list_a` has `inner_list` as one of its members, and we make a copy of `list_a` into `list_b`, does `list_b` have a **copy** of `inner_list`, or do `list_a` and `list_b` share the **same** `inner_list`?\n",
    "\n",
    "As we will see, the default Python behavior is that `list_a` and `list_b` will **share** `inner_list`. That is called a *shallow copy*.\n",
    "\n",
    "However, Python also permits the programmer to \"order up\" a *deep copy* so that `inner_list` is copied also."
   ]
  },
  {
   "cell_type": "markdown",
   "metadata": {},
   "source": [
    "## Deep copy\n",
    "\n",
    "Let's first look at a deep copy."
   ]
  },
  {
   "cell_type": "code",
   "execution_count": 9,
   "metadata": {},
   "outputs": [
    {
     "name": "stdout",
     "output_type": "stream",
     "text": [
      "The original elements before deep copying\n",
      "[1, 2, [3, 5], 4]\n",
      "3\n"
     ]
    }
   ],
   "source": [
    "import copy \n",
    "\n",
    "# initializing list_a \n",
    "list_a = [1, 2, [3, 5], 4] \n",
    "\n",
    "print (\"The original elements before deep copying\") \n",
    "print(list_a)\n",
    "print(list_a[2][0])"
   ]
  },
  {
   "cell_type": "markdown",
   "metadata": {},
   "source": [
    "We will use deepcopy to deep copy list_a and change an element in the new list "
   ]
  },
  {
   "cell_type": "code",
   "execution_count": 11,
   "metadata": {},
   "outputs": [],
   "source": [
    "list_b = copy.deepcopy(list_a)\n",
    "list_b[2][0] = 7"
   ]
  },
  {
   "cell_type": "markdown",
   "metadata": {},
   "source": [
    "The change is reflected in list_b: "
   ]
  },
  {
   "cell_type": "code",
   "execution_count": 12,
   "metadata": {},
   "outputs": [
    {
     "name": "stdout",
     "output_type": "stream",
     "text": [
      "The new list (list_b) of elements after deep copying and list modification\n",
      "[1, 2, [7, 5], 4]\n"
     ]
    }
   ],
   "source": [
    "print(\"The new list (list_b) of elements after deep copying and list modification\") \n",
    "print(list_b)"
   ]
  },
  {
   "cell_type": "markdown",
   "metadata": {},
   "source": [
    "That change is **not** reflected in original list as we made a deep copy:"
   ]
  },
  {
   "cell_type": "code",
   "execution_count": 13,
   "metadata": {},
   "outputs": [
    {
     "name": "stdout",
     "output_type": "stream",
     "text": [
      "The original list (list_a) elements after deep copying\n",
      "[1, 2, [3, 5], 4]\n"
     ]
    }
   ],
   "source": [
    "print (\"The original list (list_a) elements after deep copying\") \n",
    "print(list_a)"
   ]
  },
  {
   "cell_type": "code",
   "execution_count": 14,
   "metadata": {},
   "outputs": [
    {
     "name": "stdout",
     "output_type": "stream",
     "text": [
      "The list IDs are: 140321017970496 140320479967040\n",
      "The inner list IDs are: 140321017980032 140321017980032\n"
     ]
    }
   ],
   "source": [
    "print(\"The list IDs are:\", id(list_1), id(list_2))\n",
    "print(\"The inner list IDs are:\", id(list_1[2]), id(list_2[2]))"
   ]
  },
  {
   "cell_type": "markdown",
   "metadata": {},
   "source": [
    "## Shallow copy"
   ]
  },
  {
   "cell_type": "markdown",
   "metadata": {},
   "source": [
    "Like a \"shallow\" person, and shallow copy only sees the \"surface\" of the object it is copying... it doesn't peer further inside."
   ]
  },
  {
   "cell_type": "code",
   "execution_count": 5,
   "metadata": {},
   "outputs": [
    {
     "name": "stdout",
     "output_type": "stream",
     "text": [
      "The original elements before shallow copying\n",
      "[1, 2, [3, 5], 4]\n"
     ]
    }
   ],
   "source": [
    "import copy \n",
    "\n",
    "# initializing list_1 \n",
    "list_a = [1, 2, [3, 5], 4] \n",
    "\n",
    "# original elements of list \n",
    "print (\"The original elements before shallow copying\") \n",
    "print(list_a)"
   ]
  },
  {
   "cell_type": "markdown",
   "metadata": {},
   "source": [
    "Using copy to shallow copy adding an element to new list"
   ]
  },
  {
   "cell_type": "code",
   "execution_count": 6,
   "metadata": {},
   "outputs": [],
   "source": [
    "list_b = copy.copy(list_a)\n",
    "list_b[2][0] = 7"
   ]
  },
  {
   "cell_type": "markdown",
   "metadata": {},
   "source": [
    "Let's check the result: "
   ]
  },
  {
   "cell_type": "code",
   "execution_count": 7,
   "metadata": {},
   "outputs": [
    {
     "name": "stdout",
     "output_type": "stream",
     "text": [
      "The original elements after shallow copying\n",
      "[1, 2, [7, 5], 4]\n"
     ]
    }
   ],
   "source": [
    "print (\"The original elements after shallow copying\") \n",
    "print(list_a)"
   ]
  },
  {
   "cell_type": "markdown",
   "metadata": {},
   "source": [
    "So we can see that `list_a` and `list_b` share the same inner list, which is now `[7, 5]`."
   ]
  },
  {
   "cell_type": "code",
   "execution_count": 4,
   "metadata": {},
   "outputs": [
    {
     "name": "stdout",
     "output_type": "stream",
     "text": [
      "The list IDs are: 140321017970496 140320479967040\n",
      "The inner list IDs are: 140321017980032 140321017980032\n"
     ]
    }
   ],
   "source": [
    "print(\"The list IDs are:\", id(list_1), id(list_2))\n",
    "print(\"The inner list IDs are:\", id(list_1[2]), id(list_2[2]))"
   ]
  },
  {
   "cell_type": "markdown",
   "metadata": {},
   "source": [
    "## What If We Need Different Copy Behavior for Our Own Class?"
   ]
  },
  {
   "cell_type": "markdown",
   "metadata": {},
   "source": [
    "Python has *dunder* (double-underscore) methods `__copy__()` and `__deepcopy__()` that we can implement in our own class when we have special copying needs."
   ]
  },
  {
   "cell_type": "code",
   "execution_count": null,
   "metadata": {},
   "outputs": [],
   "source": []
  }
 ],
 "metadata": {
  "kernelspec": {
   "display_name": "Python 3",
   "language": "python",
   "name": "python3"
  },
  "language_info": {
   "codemirror_mode": {
    "name": "ipython",
    "version": 3
   },
   "file_extension": ".py",
   "mimetype": "text/x-python",
   "name": "python",
   "nbconvert_exporter": "python",
   "pygments_lexer": "ipython3",
   "version": "3.9.0"
  }
 },
 "nbformat": 4,
 "nbformat_minor": 2
}
