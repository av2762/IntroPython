{
 "cells": [
  {
   "cell_type": "markdown",
   "metadata": {},
   "source": [
    "# Object Oriented Programming: Inheritance"
   ]
  },
  {
   "cell_type": "markdown",
   "metadata": {},
   "source": [
    "<img src=\"https://upload.wikimedia.org/wikipedia/en/3/32/Single_Inheritance.jpg\" width=\"20%\">\n",
    "\n",
    "[Inheritance](https://en.wikipedia.org/wiki/Inheritance_(object-oriented_programming)) is the way we can make new types extend already existing types.\n",
    "\n",
    "Inheritance tries to capture the real-world relationship of more general categories to more specific ones.\n",
    "\n",
    "<img src=\"https://upload.wikimedia.org/wikipedia/commons/e/ea/Porphyrian_Tree.png\" width=\"33%\">\n",
    "\n",
    "When we inherit from a previously existing type we want to make sure our new type [IS-A](https://en.wikipedia.org/wiki/Is-a) instance of the old type."
   ]
  },
  {
   "cell_type": "markdown",
   "metadata": {},
   "source": [
    " Let's recall our `Student` class from the previous notebook:"
   ]
  },
  {
   "cell_type": "code",
   "execution_count": 5,
   "metadata": {},
   "outputs": [
    {
     "name": "stdout",
     "output_type": "stream",
     "text": [
      "Professor Callahan: N897897\n"
     ]
    }
   ],
   "source": [
    "class Student(object):\n",
    "    '''\n",
    "    A simple Student class to represent a single student at NYU.\n",
    "    `__init__()` and `__str__()` are instances of *dunder* methods.\n",
    "    '''\n",
    "    def __init__(self, first, last, nyu_id):   # initializer\n",
    "        self.first_name = first\n",
    "        self.last_name = last\n",
    "        self.nyu_id = nyu_id\n",
    "        \n",
    "    def __str__(self):\n",
    "        return \"{} {}: {}\".format(self.first_name,\n",
    "                                    self.last_name,\n",
    "                                    self.nyu_id)\n",
    "\n",
    "    def __len__(self):\n",
    "        '''\n",
    "        Let us make the len() of a student\n",
    "        be the len of first + len of last name\n",
    "        '''\n",
    "        return len(self.first_name) + len(self.last_name)    \n",
    "\n",
    "    def get_name(self):\n",
    "        return self.first_name + ' ' + self.last_name\n",
    "    \n",
    "    def email(self, msg):\n",
    "        print(\"Hey {}, message for you: {}\".format(self.get_name(), msg))\n",
    "\n",
    "\n",
    "student1 = Student(\"Professor\", \"Callahan\", \"N897897\")\n",
    "print(student1)"
   ]
  },
  {
   "cell_type": "markdown",
   "metadata": {},
   "source": [
    "### `StudentWorker`: a sub-class of `Student`\n",
    "\n",
    "We might decide that given student workers have somewhat different characteristics than \"plain-ole\" students (for instance, they get a paycheck), we want to have a different class for them.\n",
    "\n",
    "Do we need to re-do everything from the `Student` class that they share? No, we don't!\n",
    "\n",
    "We can use *inheritance* to re-use parts of the `Student` class in `StudentWorker`."
   ]
  },
  {
   "cell_type": "code",
   "execution_count": 7,
   "metadata": {},
   "outputs": [
    {
     "name": "stdout",
     "output_type": "stream",
     "text": [
      "Joe Smith: N98098; works as: librarian\n",
      "Worker is 8 long\n",
      "Employee Joe Smith, work message for you: Stay awake in Zoom lectures!\n"
     ]
    }
   ],
   "source": [
    "class StudentWorker(Student):\n",
    "    '''\n",
    "    A StudentWorker class to represent a \n",
    "    student who also works at NYU.\n",
    "    '''\n",
    "    def __init__(self, first, last, nyu_id, job, rate):   # initializer\n",
    "        super().__init__(first, last, nyu_id)\n",
    "        # we call super().__init__() instead of doing this:\n",
    "        # self.first_name = first\n",
    "        # self.last_name = last\n",
    "        # self.nyu_id = nyu_id\n",
    "        self.job = job\n",
    "        self.rate = rate\n",
    "        \n",
    "    def __str__(self):\n",
    "        return super().__str__() + \"; works as: {}\".format(self.job)\n",
    "     \n",
    "    def email(self, msg):\n",
    "        print(\"Employee {}, work message for you: {}\".format(self.get_name(), msg))\n",
    "\n",
    "\n",
    "worker = StudentWorker(\"Joe\", \"Smith\", \"N98098\", \"librarian\", 23.15)\n",
    "print(worker)\n",
    "print(\"Worker is {} long\".format(len(worker)))\n",
    "worker.email(\"Stay awake in Zoom lectures!\")"
   ]
  },
  {
   "cell_type": "markdown",
   "metadata": {},
   "source": [
    "Line 1:\n",
    "\n",
    "- 'class': keyword that indicates that a class is being defined\n",
    "- 'StudentWorker': name of the class we are defining. Note the upper case letters!\n",
    "- 'Student': defines that the StudentWorker class' parent is the Student class (inheritance)\n",
    "\n",
    "All of the indented code above is in the scope of the class (it's \"in\" the class).\n",
    "\n",
    "`__init__()` defines an initializer method (constructor) which is called to create an instance of Student\n",
    "\n",
    "`some_student = Student('Jimmy', 'Hoffa', 'N44554322')`\n",
    "\n",
    "`self`: in class methods, refers to the object that calls the method\n",
    "        \n",
    "`some_student.__str__()`\n",
    "        \n",
    "`self` in \"some_student\": allows the method to be able to refer to the object\n",
    "\n",
    "Reference to self must be the first parameter, but it is not used when we call the method value for self at the time of the call is autoamatically populated by Python.\n",
    "\n",
    "The code in `__init__()` defines new attributes of the class (`first_name`, `last_name`, `nyu_n`) which will contain the values stored for each object of the Student class.\n",
    "\n",
    "`super()` is used to call a method in the parent class."
   ]
  },
  {
   "cell_type": "markdown",
   "metadata": {},
   "source": [
    "Again, the `dir()` function shows a classes members (methods and attributes)."
   ]
  },
  {
   "cell_type": "code",
   "execution_count": null,
   "metadata": {},
   "outputs": [],
   "source": [
    "print(dir(Student))\n",
    "help(Student)\n",
    "help(StudentWorker)"
   ]
  },
  {
   "cell_type": "code",
   "execution_count": null,
   "metadata": {},
   "outputs": [],
   "source": [
    "a_student = Student('Carson', 'Wentz', 'N23234')\n",
    "print(dir(a_student))"
   ]
  },
  {
   "cell_type": "markdown",
   "metadata": {},
   "source": [
    "### Real Inheritance Example"
   ]
  },
  {
   "cell_type": "code",
   "execution_count": null,
   "metadata": {},
   "outputs": [],
   "source": []
  }
 ],
 "metadata": {
  "kernelspec": {
   "display_name": "Python 3",
   "language": "python",
   "name": "python3"
  },
  "language_info": {
   "codemirror_mode": {
    "name": "ipython",
    "version": 3
   },
   "file_extension": ".py",
   "mimetype": "text/x-python",
   "name": "python",
   "nbconvert_exporter": "python",
   "pygments_lexer": "ipython3",
   "version": "3.9.0"
  }
 },
 "nbformat": 4,
 "nbformat_minor": 2
}
