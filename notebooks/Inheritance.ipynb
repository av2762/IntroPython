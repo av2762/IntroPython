{
 "cells": [
  {
   "cell_type": "markdown",
   "metadata": {},
   "source": [
    "# Object Oriented Programming: Inheritance"
   ]
  },
  {
   "cell_type": "markdown",
   "metadata": {},
   "source": [
    " Let's recall our `Student` class from the previous notebook:"
   ]
  },
  {
   "cell_type": "code",
   "execution_count": 7,
   "metadata": {},
   "outputs": [],
   "source": [
    "class Student(object):\n",
    "    '''\n",
    "    A simple Student class to represent a single student at NYU.\n",
    "    `__init__()` and `__str__()` are instances of *dunder* methods.\n",
    "    '''\n",
    "    def __init__(self, first='', last='', n_num=\"N0000\"):   # initializer\n",
    "        self.first_name_str = first\n",
    "        self.last_name_str = last\n",
    "        self.nyu_num = n_num\n",
    "        \n",
    "    def __str__(self):\n",
    "        return \"{} {}: ({})\".format(self.first_name_str,\n",
    "                                    self.last_name_str,\n",
    "                                    self.nyu_num)"
   ]
  },
  {
   "cell_type": "code",
   "execution_count": null,
   "metadata": {},
   "outputs": [],
   "source": [
    "some_list = [1, 2, 3] \n",
    "some_dict = dict(food=1, beverage=2, desert=3)\n",
    "string = str(123.4)"
   ]
  },
  {
   "cell_type": "code",
   "execution_count": null,
   "metadata": {},
   "outputs": [],
   "source": [
    "print(type(some_list), type(some_dict), type(string))"
   ]
  },
  {
   "cell_type": "markdown",
   "metadata": {},
   "source": [
    "### `StudentWorker`: a sub-class of `Student`\n",
    "\n",
    "We might decide that given student workers have somewhat different characteristics than \"plain-ole\" students (for instance, they get a paycheck), we want to have a different class for them.\n",
    "\n",
    "Do we need to re-do everything from the `Student` class that they share? No, we don't!\n",
    "\n",
    "We can use *inheritance* to re-use parts of the `Student` class in `StudentWorker`."
   ]
  },
  {
   "cell_type": "code",
   "execution_count": 9,
   "metadata": {},
   "outputs": [
    {
     "name": "stdout",
     "output_type": "stream",
     "text": [
      "Joe Smith: (N98098); works as: librarian\n"
     ]
    }
   ],
   "source": [
    "class StudentWorker(Student):\n",
    "    '''\n",
    "    A StudentWorker class to represent a \n",
    "    student who also works at NYU.\n",
    "    '''\n",
    "    def __init__(self, first='', last='', n_num=\"N0000\", job=None):   # initializer\n",
    "        super().__init__(first, last, n_num)\n",
    "        self.job = job\n",
    "        \n",
    "    def __str__(self):\n",
    "        return super().__str__() + \"; works as: {}\".format(self.job)\n",
    "    \n",
    "worker = StudentWorker(first=\"Joe\", last=\"Smith\", n_num=\"N98098\", job=\"librarian\")\n",
    "print(worker)"
   ]
  },
  {
   "cell_type": "markdown",
   "metadata": {},
   "source": [
    "Line 1:\n",
    "\n",
    "- 'class': keyword that indicates that a class is being defined\n",
    "- 'StudentWorker': name of the class we are defining. Note the upper case letters!\n",
    "- 'Student': defines that the StudentWorker class' parent is the Student class (inheritance)\n",
    "\n",
    "All of the indented code above is in the scope of the class (it's \"in\" the class).\n",
    "\n",
    "`__init__()` defines an initializer method (constructor) which is called to create an instance of Student\n",
    "\n",
    "`some_student = Student('Jimmy', 'Hoffa', 'N44554322')`\n",
    "\n",
    "`self`: in class methods, refers to the object that calls the method\n",
    "        \n",
    "`some_student.__str__()`\n",
    "        \n",
    "`self` in \"some_student\": allows the method to be able to refer to the object\n",
    "\n",
    "Reference to self must be the first parameter, but it is not used when we call the method value for self at the time of the call is autoamatically populated by Python.\n",
    "\n",
    "The code in `__init__()` defines new attributes of the class (`first_name`, `last_name`, `nyu_n`) which will contain the values stored for each object of the Student class.\n",
    "\n",
    "`super()` is used to call a method in the parent class."
   ]
  },
  {
   "cell_type": "markdown",
   "metadata": {},
   "source": [
    "Again, the `dir()` function shows a classes members (methods and attributes)."
   ]
  },
  {
   "cell_type": "code",
   "execution_count": null,
   "metadata": {},
   "outputs": [],
   "source": [
    "print(dir(Student))\n",
    "help(Student)\n",
    "help(StudentWorker)"
   ]
  },
  {
   "cell_type": "code",
   "execution_count": null,
   "metadata": {},
   "outputs": [],
   "source": [
    "a_student = Student('Carson', 'Wentz', 'N23234')\n",
    "print(dir(a_student))"
   ]
  },
  {
   "cell_type": "markdown",
   "metadata": {},
   "source": [
    "### Real Inheritance Example"
   ]
  },
  {
   "cell_type": "code",
   "execution_count": null,
   "metadata": {},
   "outputs": [],
   "source": []
  }
 ],
 "metadata": {
  "kernelspec": {
   "display_name": "Python 3",
   "language": "python",
   "name": "python3"
  },
  "language_info": {
   "codemirror_mode": {
    "name": "ipython",
    "version": 3
   },
   "file_extension": ".py",
   "mimetype": "text/x-python",
   "name": "python",
   "nbconvert_exporter": "python",
   "pygments_lexer": "ipython3",
   "version": "3.9.0"
  }
 },
 "nbformat": 4,
 "nbformat_minor": 2
}
