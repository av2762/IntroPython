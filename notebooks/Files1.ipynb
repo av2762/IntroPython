{
 "cells": [
  {
   "cell_type": "markdown",
   "metadata": {},
   "source": [
    "# Command-Line Arguments and File I/O"
   ]
  },
  {
   "cell_type": "markdown",
   "metadata": {},
   "source": [
    "## Command-line arguments"
   ]
  },
  {
   "cell_type": "markdown",
   "metadata": {},
   "source": [
    "We have looked at how to pass arguments to *functions*. But what if we want to pass an argument to a *program*?\n",
    "\n",
    "This is often very important: let's say we want to convert HTML files to Microsoft Word format? We don't want to write a new program for every single file name we might want to convert! We could use `input()` to ask the user for a file name, but what if the program is going to be run as part of some automated process: then there is no user to ask!\n",
    "\n",
    "The solution is to use *command-line arguments*. Let's see how to use these in Python. The key to doing to is to know that every Python program gets a list of arguments it was passed on the command line in a special list called `argv`. `argv` is contained in the standard library module called `sys`, which is short for *system*.\n",
    "\n",
    "But here we hit a limitation of Jupyter Notebooks: they are not run from the command line, so we will have to leave our notebook and go to a terminal program to actually use them.\n",
    "\n",
    "In my notebook directory, you will find a little Python program called `command_line.py`. You can download that and experiment with it for yourself. But now I will leave this notebook, and show you it running in a terminal.\n",
    "\n",
    "But we can show some sample code here:\n",
    "\n",
    "```\n",
    "import sys\n",
    "\n",
    "if len(sys.argv) < 2:\n",
    "    print(\"You must pass a file name.\")\n",
    "    exit(1)\n",
    "    \n",
    "file_to_process = sys.argv[1]\n"
   ]
  },
  {
   "cell_type": "markdown",
   "metadata": {},
   "source": [
    "## File Input and Output"
   ]
  },
  {
   "cell_type": "markdown",
   "metadata": {},
   "source": [
    "OK, so we can pass a filename to our program. How do we access that file? And first of all, what is a *file*?\n",
    "\n",
    "File: collection of bytes of information residing permanently on disk. There are two major types: *binary files* and *text files*.\n",
    "\n",
    "- **binary files**: info encoded in some scheme that is not human-readable\n",
    "- **text files**: info encoded in ASCII/UNICODE characters and IS human-readable\n",
    "\n",
    "In Python, we create a *file object* to access the contents of a file. Let's write a little program, equivalent to the UNIX `cat` command, that simply outputs the contents of a file to the screen -- notice that Python breaks the file into lines for us:"
   ]
  },
  {
   "cell_type": "code",
   "execution_count": 1,
   "metadata": {},
   "outputs": [],
   "source": [
    "def catfile(filename):\n",
    "    temp_file = open(filename, \"r\")\n",
    "    # print(temp_file)\n",
    "    for line in temp_file:\n",
    "        print(line, end='')   # why end=''???\n",
    "\n",
    "    temp_file.close()  # always close your files."
   ]
  },
  {
   "cell_type": "code",
   "execution_count": 2,
   "metadata": {},
   "outputs": [
    {
     "name": "stdout",
     "output_type": "stream",
     "text": [
      "Perhaps she had not told him all the story.\n",
      "His eyes moved to the chair over which she had thrown some of her clothes.\n",
      "A petticoat string dangled to the floor.\n",
      "One boot stood upright, its limp upper fallen down: the fellow of it lay upon its side.\n",
      "He wondered at his riot of emotions of an hour before.\n",
      "From what had it proceeded? From his aunt’s supper, from his own foolish speech, from the wine and dancing, the merry-making when saying good-night in the hall, the pleasure of the walk along the river in the snow.\n",
      "Poor Aunt Julia! She, too, would soon be a shade with the shade of Patrick Morkan and his horse.\n",
      "He had caught that haggard look upon her face for a moment when she was singing Arrayed for the Bridal.\n",
      "Soon, perhaps, he would be sitting in that same drawing-room, dressed in black, his silk hat on his knees.\n",
      "The blinds would be drawn down and Aunt Kate would be sitting beside him, crying and blowing her nose and telling him how Julia had died.\n",
      "He would cast about in his mind for some words that might console her, and would find only lame and useless ones.\n",
      "Yes, yes: that would happen very soon.\n"
     ]
    }
   ],
   "source": [
    "catfile(\"input.txt\")"
   ]
  },
  {
   "cell_type": "markdown",
   "metadata": {},
   "source": [
    "### Writing to files"
   ]
  },
  {
   "cell_type": "markdown",
   "metadata": {},
   "source": [
    "Besides reading a file, we also want to be able to write to files. Without that capability, our programs output won't last beyond the moment in which it is run!"
   ]
  },
  {
   "cell_type": "code",
   "execution_count": 3,
   "metadata": {},
   "outputs": [],
   "source": [
    "temp_file = open(\"temp_out.txt\", \"w\")\n",
    "\n",
    "print(\"first line\", file=temp_file)\n",
    "print(\"second line!!!!!\", file=temp_file)\n",
    "\n",
    "temp_file.close()"
   ]
  },
  {
   "cell_type": "markdown",
   "metadata": {},
   "source": [
    "Let's look at the result, using our previously defined `catfile()` function:"
   ]
  },
  {
   "cell_type": "code",
   "execution_count": 4,
   "metadata": {},
   "outputs": [
    {
     "name": "stdout",
     "output_type": "stream",
     "text": [
      "first line\n",
      "second line!!!!!\n"
     ]
    }
   ],
   "source": [
    "catfile(\"temp_out.txt\")"
   ]
  },
  {
   "cell_type": "markdown",
   "metadata": {},
   "source": [
    "## File I/O details"
   ]
  },
  {
   "cell_type": "markdown",
   "metadata": {},
   "source": [
    "### File behaviour and errors\n",
    "\n",
    "Reading: attempt to open a non-existent file for reading: error\n",
    "\n",
    "File opening modes:\n",
    "\n",
    "- `r`: read-only\n",
    "- `w`: write-only\n",
    "- `a`: write-only at end of file (append)\n",
    "- `r+`: reads and writes from start of the file; it doesn't delete the content, and won't create the file if it doesn't exist\n",
    "- `w+`: clears the file's contents, reads and writes; this mode *will* create the file it's not there\n",
    "- `a+`: read and write from file's end"
   ]
  },
  {
   "cell_type": "markdown",
   "metadata": {},
   "source": [
    "### Reading and writing simultaneously"
   ]
  },
  {
   "cell_type": "markdown",
   "metadata": {},
   "source": [
    "Let's see how to both read one file and write another:"
   ]
  },
  {
   "cell_type": "code",
   "execution_count": null,
   "metadata": {},
   "outputs": [],
   "source": [
    "input_file = open(\"input.txt\", \"r\")\n",
    "output_file = open(\"output.txt\", \"w\")\n",
    "\n",
    "for line_str in input_file:\n",
    "    new_str = ''\n",
    "    line_str = line_str.strip()\n",
    "\n",
    "    for char in line_str:\n",
    "        new_str = char + new_str\n",
    "\n",
    "    print(new_str, file=output_file)\n",
    "    print(\"Line '{:s}' reversed is '{:s}'\".format(line_str, new_str))\n",
    "\n",
    "input_file.close()\n",
    "output_file.close()"
   ]
  },
  {
   "cell_type": "markdown",
   "metadata": {},
   "source": [
    "### Doing something interesting with a file"
   ]
  },
  {
   "cell_type": "markdown",
   "metadata": {},
   "source": [
    "So far, we have only dumped out the contents of a file to the screen, which can be useful. But we can do more:"
   ]
  },
  {
   "cell_type": "code",
   "execution_count": 1,
   "metadata": {},
   "outputs": [
    {
     "name": "stdout",
     "output_type": "stream",
     "text": [
      "The average is:  74.8125\n"
     ]
    }
   ],
   "source": [
    "input_file=open(\"grades.txt\",\"r\")\n",
    "\n",
    "sum = counter = 0\n",
    "\n",
    "for line in input_file:\n",
    "    grade = float(line)\n",
    "    sum += grade\n",
    "    counter += 1\n",
    "\n",
    "print(\"The average is: \", sum/counter)\n",
    "\n",
    "input_file.close()"
   ]
  },
  {
   "cell_type": "code",
   "execution_count": null,
   "metadata": {},
   "outputs": [],
   "source": []
  }
 ],
 "metadata": {
  "kernelspec": {
   "display_name": "Python 3",
   "language": "python",
   "name": "python3"
  },
  "language_info": {
   "codemirror_mode": {
    "name": "ipython",
    "version": 3
   },
   "file_extension": ".py",
   "mimetype": "text/x-python",
   "name": "python",
   "nbconvert_exporter": "python",
   "pygments_lexer": "ipython3",
   "version": "3.6.9"
  }
 },
 "nbformat": 4,
 "nbformat_minor": 2
}
