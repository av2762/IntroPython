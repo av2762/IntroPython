{
 "cells": [
  {
   "cell_type": "markdown",
   "metadata": {},
   "source": [
    "# An Adventure Game: Dungeon Dice Monsters"
   ]
  },
  {
   "cell_type": "markdown",
   "metadata": {},
   "source": [
    "We're going to write the basics of a text-based adventure game.\n",
    "\n",
    "First we're going to \"steal\" our Die class from the OOP notebook. **Note**: this could be put in a different file and imported."
   ]
  },
  {
   "cell_type": "code",
   "execution_count": 3,
   "metadata": {},
   "outputs": [
    {
     "data": {
      "text/plain": [
       "3"
      ]
     },
     "execution_count": 3,
     "metadata": {},
     "output_type": "execute_result"
    }
   ],
   "source": [
    "import die\n",
    "\n",
    "test_die = die.Die()\n",
    "test_die()"
   ]
  },
  {
   "cell_type": "markdown",
   "metadata": {},
   "source": [
    "We will define a class `Creature` that will be the parent of `Player`s and `Monster`s."
   ]
  },
  {
   "cell_type": "code",
   "execution_count": 4,
   "metadata": {},
   "outputs": [],
   "source": [
    "DEF_HEALTH = 12\n",
    "DEF_STRENGTH = die.DEF_FACES\n",
    "\n",
    "\n",
    "class Creature(object):\n",
    "    '''This class will be the parent of Player and Monster.\n",
    "       Creatures will have a name, a location (?),\n",
    "       health rating, and strength rating.\n",
    "    '''\n",
    "    def __init__(self, name, health=DEF_HEALTH, strength=DEF_STRENGTH):\n",
    "        '''Initialize a Creature.'''\n",
    "        self.name = name\n",
    "        self.health = health\n",
    "        self.strength = strength\n",
    "        self.alive = True\n",
    "        self.dungeon = None\n",
    "        \n",
    "    def __str__(self):\n",
    "        return self.name\n",
    "    \n",
    "    def __repr__(self):\n",
    "        return \"I am {} with health of {} and strength of {}\".format(self.name,\n",
    "                                                                     self.health,\n",
    "                                                                     self.strength)\n",
    "    \n",
    "    def is_hit(self, damage):\n",
    "        '''Suffer a blow from a foe.'''\n",
    "        self.health -= damage\n",
    "        if self.health <= 0:\n",
    "            self.alive = False\n",
    "            \n",
    "    def reveal(self):\n",
    "        if self.dungeon is None:\n",
    "            print(\"You are a real nowhere creature!\")\n",
    "        else:\n",
    "            print(self.dungeon.get_monsters(self))\n",
    "            \n",
    "    def locate(self, dungeon):\n",
    "        self.dungeon = dungeon"
   ]
  },
  {
   "cell_type": "code",
   "execution_count": 11,
   "metadata": {},
   "outputs": [
    {
     "name": "stdout",
     "output_type": "stream",
     "text": [
      "John Li\n",
      "I am John Li with health of 4 and strength of 6\n",
      "You are a real nowhere creature!\n"
     ]
    }
   ],
   "source": [
    "cr1 = Creature(\"John Li\")\n",
    "print(cr1)\n",
    "cr1.is_hit(4)\n",
    "cr1.is_hit(4)\n",
    "print(repr(cr1))\n",
    "cr1.reveal()"
   ]
  },
  {
   "cell_type": "markdown",
   "metadata": {},
   "source": [
    "Let's set up the descendant classes of `Creature`:"
   ]
  },
  {
   "cell_type": "code",
   "execution_count": 5,
   "metadata": {},
   "outputs": [],
   "source": [
    "class Monster(Creature):\n",
    "    '''A dangerous, dice-rolling monster!'''\n",
    "    def __init__(self, name, health=DEF_HEALTH, strength=DEF_STRENGTH):\n",
    "        super().__init__(name, health=health, strength=strength)\n",
    "        self.die = die.Die(strength)\n",
    "        \n",
    "    def attack(self):\n",
    "        '''Attack a foe with a certain force.'''\n",
    "        return self.die()"
   ]
  },
  {
   "cell_type": "code",
   "execution_count": 9,
   "metadata": {},
   "outputs": [
    {
     "name": "stdout",
     "output_type": "stream",
     "text": [
      "Blob attack: 1\n",
      "The Blob\n",
      "I am The Blob with health of 10 and strength of 6\n"
     ]
    }
   ],
   "source": [
    "blob = Monster(\"The Blob\")\n",
    "print(\"Blob attack:\", blob.attack())\n",
    "blob.is_hit(2)\n",
    "print(blob)\n",
    "print(repr(blob))\n",
    "dark_magic = Monster(\"Dark Magician\")\n",
    "blue_eyes = Monster(\"Endless Dragon with Blue Eyes\")"
   ]
  },
  {
   "cell_type": "code",
   "execution_count": 7,
   "metadata": {},
   "outputs": [],
   "source": [
    "ATTACK_RATIO = 2\n",
    "MAGE_DISC = 1\n",
    "\n",
    "class Player(Creature):\n",
    "    '''A heroic adventurer facing dice monsters in a dungeon.'''\n",
    "    def __init__(self, name):\n",
    "        super().__init__(name)\n",
    "        \n",
    "    def attack(self):\n",
    "        '''Attack a foe with a certain force.'''\n",
    "        return self.strength // ATTACK_RATIO\n",
    "    \n",
    "class Mage(Player):\n",
    "    '''A mage: can reveal.'''\n",
    "    def __init__(self, name):\n",
    "        super().__init__(name)\n",
    "        \n",
    "    def attack(self):\n",
    "        '''Attack a foe with a certain force.'''\n",
    "        return super().attack() - MAGE_DISC\n",
    "\n",
    "        \n",
    "class Healer(Player):\n",
    "    '''A healer: can increase health of teammates.'''\n",
    "    def __init__(self, name):\n",
    "        super().__init__(name)"
   ]
  },
  {
   "cell_type": "code",
   "execution_count": 10,
   "metadata": {},
   "outputs": [
    {
     "name": "stdout",
     "output_type": "stream",
     "text": [
      "I am Michael Lippe with health of 12 and strength of 6\n",
      "Michael attack: 3\n"
     ]
    }
   ],
   "source": [
    "michael = Player(\"Michael Lippe\")\n",
    "print(repr(michael))\n",
    "print(\"Michael attack:\", michael.attack())\n",
    "pablo = Player(\"Pablo Parra\")\n",
    "somya = Mage(\"Somya Mehta\")\n",
    "yaseen = Player(\"Yaseen Elsebaie\")\n",
    "hailey = Player(\"Hailey Lint\")"
   ]
  },
  {
   "cell_type": "code",
   "execution_count": 27,
   "metadata": {},
   "outputs": [],
   "source": [
    "DEF_HEIGHT = 10\n",
    "DEF_WIDTH = 10\n",
    "\n",
    "\n",
    "class Dungeon(object):\n",
    "    '''A place for monsters and players to roam and battle.'''\n",
    "    def __init__(self, name, width=DEF_WIDTH, height=DEF_HEIGHT):\n",
    "        self.name = name\n",
    "        self.width = width\n",
    "        self.height = height\n",
    "        self.creatures = {}  # dict for now!\n",
    "\n",
    "    def __getitem__(self, name):\n",
    "        return self.creatures[name]\n",
    "\n",
    "    def __str__(self):\n",
    "        return self.name\n",
    "\n",
    "    def __repr__(self):\n",
    "        inhabs = ''\n",
    "        for name in self.creatures:\n",
    "            inhabs += \"\\t{}\\n\".format(name)\n",
    "        return str(self) + \"\\nInhabitants:\\n\" + inhabs\n",
    "    \n",
    "    def get_type(self, creat_type):\n",
    "        '''Get all creatures of `type` in this dungeon.'''\n",
    "        # list compr: [expr for condition]\n",
    "        return [creat for creat in self.creatures.values()\n",
    "                if isinstance(creat, creat_type)]\n",
    "        \n",
    "    def get_monsters(self, creat):\n",
    "        '''Get all monsters in this dungeon.'''\n",
    "        if isinstance(creat, Mage):\n",
    "            return self.get_type(Monster)\n",
    "        else:\n",
    "            print(\"You have no power to reveal what lurks in the darkness!\")\n",
    "            return []\n",
    "    \n",
    "    def get_players(self):\n",
    "        '''Get all players in this dungeon.'''\n",
    "        return self.get_type(Player)\n",
    "    \n",
    "    def add_creat(self, creat):\n",
    "        '''Add a creature to this object.\n",
    "        Should we allow re-adding?'''\n",
    "        self.creatures[str(creat)] = creat\n",
    "        creat.locate(self)\n",
    "    \n",
    "    def meet(self, creat1, creat2):\n",
    "        '''Two denizens of the dungeon confront each other.'''\n",
    "        if str(creat1) not in self.creatures:\n",
    "            print(\"{} is not in the {}\".format(str(creat1), str(self)))\n",
    "        elif str(creat2) not in self.creatures:\n",
    "            print(\"{} is not in the {}\".format(str(creat2), str(self)))\n",
    "        elif isinstance(creat1, Player) and isinstance(creat2, Player):\n",
    "            print(\"Hi {} I am {}\".format(str(creat1), str(creat2)))\n",
    "        elif isinstance(creat1, Monster) and isinstance(creat2, Monster):\n",
    "            print(\"Aaargh! Growl!\")\n",
    "        else:\n",
    "            print(\"{} is fighting {}\".format(str(creat1), str(creat2)))\n",
    "            creat1.is_hit(creat2.attack())\n",
    "            creat2.is_hit(creat1.attack())"
   ]
  },
  {
   "cell_type": "code",
   "execution_count": 28,
   "metadata": {},
   "outputs": [
    {
     "name": "stdout",
     "output_type": "stream",
     "text": [
      "String version: Catacomb of Horrors\n",
      "Catacomb of Horrors\n",
      "Inhabitants:\n",
      "\tThe Blob\n",
      "\tMichael Lippe\n",
      "\tSomya Mehta\n",
      "\tDark Magician\n",
      "\tPablo Parra\n",
      "\tHailey Lint\n",
      "\tEndless Dragon with Blue Eyes\n",
      "\n"
     ]
    },
    {
     "data": {
      "text/plain": [
       "I am The Blob with health of 10 and strength of 6"
      ]
     },
     "execution_count": 28,
     "metadata": {},
     "output_type": "execute_result"
    }
   ],
   "source": [
    "catacomb = Dungeon(\"Catacomb of Horrors\")\n",
    "catacomb.add_creat(blob)\n",
    "catacomb.add_creat(michael)\n",
    "catacomb.add_creat(somya)\n",
    "catacomb.add_creat(dark_magic)\n",
    "catacomb.add_creat(pablo)\n",
    "catacomb.add_creat(hailey)\n",
    "catacomb.add_creat(blue_eyes)\n",
    "print(\"String version:\", catacomb)\n",
    "print(repr(catacomb))\n",
    "catacomb[\"The Blob\"]"
   ]
  },
  {
   "cell_type": "code",
   "execution_count": 24,
   "metadata": {},
   "outputs": [
    {
     "name": "stdout",
     "output_type": "stream",
     "text": [
      "['Michael Lippe', 'Somya Mehta', 'Pablo Parra', 'Hailey Lint']\n"
     ]
    }
   ],
   "source": [
    "# print(catacomb.get_monsters())\n",
    "print([str(player) for player in catacomb.get_players()])"
   ]
  },
  {
   "cell_type": "code",
   "execution_count": null,
   "metadata": {},
   "outputs": [],
   "source": [
    "catacomb.meet(blob, michael)\n",
    "# debug prints:\n",
    "# print(repr(blob))\n",
    "# print(repr(michael))"
   ]
  },
  {
   "cell_type": "code",
   "execution_count": 29,
   "metadata": {},
   "outputs": [
    {
     "name": "stdout",
     "output_type": "stream",
     "text": [
      "You have no power to reveal what lurks in the darkness!\n",
      "[]\n"
     ]
    }
   ],
   "source": [
    "michael.reveal()"
   ]
  },
  {
   "cell_type": "code",
   "execution_count": 30,
   "metadata": {},
   "outputs": [
    {
     "name": "stdout",
     "output_type": "stream",
     "text": [
      "[I am The Blob with health of 10 and strength of 6, I am Dark Magician with health of 12 and strength of 6, I am Endless Dragon with Blue Eyes with health of 12 and strength of 6]\n"
     ]
    }
   ],
   "source": [
    "somya.reveal()"
   ]
  },
  {
   "cell_type": "code",
   "execution_count": null,
   "metadata": {},
   "outputs": [],
   "source": [
    "catacomb.meet(pablo, michael)"
   ]
  },
  {
   "cell_type": "code",
   "execution_count": 25,
   "metadata": {},
   "outputs": [
    {
     "name": "stdout",
     "output_type": "stream",
     "text": [
      "Yaseen Elsebaie is not in the Catacomb of Horrors\n"
     ]
    }
   ],
   "source": [
    "catacomb.meet(blob, yaseen)"
   ]
  },
  {
   "cell_type": "code",
   "execution_count": null,
   "metadata": {},
   "outputs": [],
   "source": []
  }
 ],
 "metadata": {
  "kernelspec": {
   "display_name": "Python 3",
   "language": "python",
   "name": "python3"
  },
  "language_info": {
   "codemirror_mode": {
    "name": "ipython",
    "version": 3
   },
   "file_extension": ".py",
   "mimetype": "text/x-python",
   "name": "python",
   "nbconvert_exporter": "python",
   "pygments_lexer": "ipython3",
   "version": "3.9.0"
  }
 },
 "nbformat": 4,
 "nbformat_minor": 4
}
