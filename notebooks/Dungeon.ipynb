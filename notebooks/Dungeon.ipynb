{
 "cells": [
  {
   "cell_type": "markdown",
   "metadata": {},
   "source": [
    "# An Adventure Game: Dungeon Dice Monsters"
   ]
  },
  {
   "cell_type": "markdown",
   "metadata": {},
   "source": [
    "We're going to write the basics of a text-based adventure game.\n",
    "\n",
    "First we're going to \"steal\" our Die class from the OOP notebook. **Note**: this could be put in a different file and imported."
   ]
  },
  {
   "cell_type": "code",
   "execution_count": 1,
   "metadata": {},
   "outputs": [
    {
     "data": {
      "text/plain": [
       "3"
      ]
     },
     "execution_count": 1,
     "metadata": {},
     "output_type": "execute_result"
    }
   ],
   "source": [
    "import random\n",
    "import die\n",
    "\n",
    "test_die = die.Die()\n",
    "test_die()"
   ]
  },
  {
   "cell_type": "markdown",
   "metadata": {},
   "source": [
    "We will define a class `Creature` that will be the parent of `Player`s and `Monster`s."
   ]
  },
  {
   "cell_type": "code",
   "execution_count": 2,
   "metadata": {},
   "outputs": [],
   "source": [
    "DEF_HEALTH = 12\n",
    "DEF_STRENGTH = die.DEF_FACES\n",
    "\n",
    "\n",
    "class Participant(object):\n",
    "    '''This class will be the parent of Player and Monster.\n",
    "       Participants will have a name, a location (?),\n",
    "       health rating, and strength rating.\n",
    "    '''\n",
    "    def __init__(self, name, health=DEF_HEALTH, strength=DEF_STRENGTH):\n",
    "        '''Initialize a Creature.'''\n",
    "        self.name = name\n",
    "        self.health = health\n",
    "        self.strength = strength\n",
    "        self.alive = True\n",
    "        self.dungeon = None\n",
    "        self.visible = True\n",
    "        self.can_disappear = False\n",
    "        \n",
    "    def __str__(self):\n",
    "        return self.name\n",
    "    \n",
    "    def __repr__(self):\n",
    "        return \"I am {} with health of {} and strength of {}\".format(self.name,\n",
    "                                                                     self.health,\n",
    "                                                                     self.strength)\n",
    "    \n",
    "    def hide(self):\n",
    "        '''Make this creature hide in the shadows.'''\n",
    "        if self.can_disappear:\n",
    "            self.visible = False\n",
    "\n",
    "    def show(self):\n",
    "        '''Make this monster come out of the shadows.'''\n",
    "        self.visible = True\n",
    "\n",
    "    def is_visible(self):\n",
    "        '''Is this creature visible?'''\n",
    "        return self.visible\n",
    "\n",
    "    def can_reveal(self):\n",
    "        return False\n",
    "\n",
    "    def take_a_hit(self, damage):\n",
    "        '''Suffer a blow from a foe.'''\n",
    "        self.health -= damage\n",
    "        if self.health <= 0:\n",
    "            self.alive = False\n",
    "\n",
    "    # also add super_reveal()!\n",
    "    def reveal(self):\n",
    "        if self.dungeon is None:\n",
    "            print(\"You are a real nowhere creature!\")\n",
    "            return []\n",
    "        else:\n",
    "            return self.dungeon.get_monsters(self)\n",
    "            \n",
    "    def locate(self, dungeon):\n",
    "        self.dungeon = dungeon"
   ]
  },
  {
   "cell_type": "code",
   "execution_count": 3,
   "metadata": {},
   "outputs": [
    {
     "name": "stdout",
     "output_type": "stream",
     "text": [
      "John Li\n",
      "I am John Li with health of 4 and strength of 6\n",
      "You are a real nowhere creature!\n"
     ]
    },
    {
     "data": {
      "text/plain": [
       "[]"
      ]
     },
     "execution_count": 3,
     "metadata": {},
     "output_type": "execute_result"
    }
   ],
   "source": [
    "cr1 = Participant(\"John Li\")\n",
    "print(cr1)\n",
    "cr1.take_a_hit(4)\n",
    "cr1.take_a_hit(4)\n",
    "print(repr(cr1))\n",
    "cr1.reveal()"
   ]
  },
  {
   "cell_type": "markdown",
   "metadata": {},
   "source": [
    "Let's set up the descendant classes of `Participant`:"
   ]
  },
  {
   "cell_type": "code",
   "execution_count": 4,
   "metadata": {},
   "outputs": [],
   "source": [
    "class Monster(Participant):\n",
    "    '''A dangerous, dice-rolling monster!'''\n",
    "    def __init__(self, name, health=DEF_HEALTH, strength=DEF_STRENGTH):\n",
    "        super().__init__(name, health=health, strength=strength)\n",
    "        self.die = die.Die(strength)\n",
    "        self.visible = True\n",
    "    \n",
    "    def attack(self):\n",
    "        '''Attack a foe with a certain force.'''\n",
    "        return self.die()\n",
    "    \n",
    "class VanishingMonster(Monster):\n",
    "    '''A dangerous monster that can disappear!'''\n",
    "    def __init__(self, name, health=DEF_HEALTH, strength=DEF_STRENGTH):\n",
    "        super().__init__(name, health=health, strength=strength)\n",
    "        self.die = die.Die(strength)\n",
    "        self.visible = True\n",
    "        self.can_disappear = True"
   ]
  },
  {
   "cell_type": "code",
   "execution_count": 5,
   "metadata": {},
   "outputs": [
    {
     "name": "stdout",
     "output_type": "stream",
     "text": [
      "Blob attack: 3\n",
      "The Blob\n",
      "I am The Blob with health of 10 and strength of 6\n"
     ]
    }
   ],
   "source": [
    "blob = Monster(\"The Blob\")\n",
    "print(\"Blob attack:\", blob.attack())\n",
    "blob.take_a_hit(2)\n",
    "print(blob)\n",
    "print(repr(blob))\n",
    "dark_magic = Monster(\"Dark Magician\")\n",
    "blue_eyes = Monster(\"Endless Dragon with Blue Eyes\")\n",
    "yz_dragon = VanishingMonster(\"YZ-track Dragon\")\n",
    "yz_dragon.hide()"
   ]
  },
  {
   "cell_type": "code",
   "execution_count": 6,
   "metadata": {},
   "outputs": [],
   "source": [
    "ATTACK_RATIO = 2\n",
    "MAGE_ATTACK_DOWN = 1\n",
    "HEALER_ATTACK_DOWN = 2\n",
    "\n",
    "\n",
    "class Player(Participant):\n",
    "    '''A heroic adventurer facing dice monsters in a dungeon.'''\n",
    "    def __init__(self, name):\n",
    "        super().__init__(name)\n",
    "        \n",
    "    def attack(self):\n",
    "        '''Attack a foe with a certain force.'''\n",
    "        return self.strength // ATTACK_RATIO\n",
    "    \n",
    "class Mage(Player):\n",
    "    '''A mage: can reveal.'''\n",
    "    def __init__(self, name):\n",
    "        super().__init__(name)\n",
    "        \n",
    "    def attack(self):\n",
    "        '''Attack a foe with a certain force.'''\n",
    "        return super().attack() - MAGE_ATTACK_DOWN\n",
    "\n",
    "    def can_reveal(self):\n",
    "        return True\n",
    "\n",
    "        \n",
    "class Healer(Player):\n",
    "    '''A healer: can increase health of teammates.'''\n",
    "    def __init__(self, name):\n",
    "        super().__init__(name)\n",
    "        \n",
    "            \n",
    "    def attack(self):\n",
    "        '''Attack a foe with a certain force.'''\n",
    "        return super().attack() - HEALER_ATTACK_DOWN"
   ]
  },
  {
   "cell_type": "code",
   "execution_count": 7,
   "metadata": {},
   "outputs": [
    {
     "name": "stdout",
     "output_type": "stream",
     "text": [
      "I am Michael Lippe with health of 12 and strength of 6\n",
      "Michael attack: 3\n"
     ]
    }
   ],
   "source": [
    "michael = Player(\"Michael Lippe\")\n",
    "print(repr(michael))\n",
    "print(\"Michael attack:\", michael.attack())\n",
    "pablo = Player(\"Pablo Parra\")\n",
    "somya = Mage(\"Somya Mehta\")\n",
    "yaseen = Player(\"Yaseen Elsebaie\")\n",
    "hailey = Player(\"Hailey Lint\")"
   ]
  },
  {
   "cell_type": "code",
   "execution_count": 8,
   "metadata": {},
   "outputs": [],
   "source": [
    "DEF_HEIGHT = 4\n",
    "DEF_WIDTH = 4\n",
    "\n",
    "\n",
    "class Dungeon(object):\n",
    "    '''A place for monsters and players to roam and battle.'''\n",
    "    def __init__(self, name, width=DEF_WIDTH, height=DEF_HEIGHT):\n",
    "        self.name = name\n",
    "        self.width = width\n",
    "        self.height = height\n",
    "        self.participants = {}  # dict for now!\n",
    "        self.part_locs = {}\n",
    "\n",
    "    def __getitem__(self, name):\n",
    "        return self.participants[name]\n",
    "\n",
    "    def __str__(self):\n",
    "        return self.name\n",
    "\n",
    "    def __repr__(self):\n",
    "        inhabs = [\"\\t{}\\n\".format(name)  # expr\n",
    "                  for (name, particip) in self.participants.items()  # for\n",
    "                  if particip.is_visible()  # cond\n",
    "                 ]\n",
    "        inhabs_str = ''.join(inhabs)\n",
    "        return str(self) + \"\\nInhabitants:\\n\" + inhabs_str\n",
    "    \n",
    "    def get_particip_of_type(self, particip_type):\n",
    "        '''Get all participures of `type` in this dungeon.'''\n",
    "        return [particip  # expr\n",
    "                for particip in self.participants.values()  # for loop\n",
    "                if isinstance(particip, particip_type) and particip.is_visible()]  # cond\n",
    "        \n",
    "    def get_monsters(self, particip):\n",
    "        '''Get all monsters in this dungeon.'''\n",
    "        if particip.can_reveal():\n",
    "            return self.get_particip_of_type(Monster)\n",
    "        else:\n",
    "            print(\"You have no power to reveal what lurks in the darkness!\")\n",
    "            return []\n",
    "    \n",
    "    def get_players(self):\n",
    "        '''Get all players in this dungeon.'''\n",
    "        return self.get_particip_of_type(Player)\n",
    "    \n",
    "    def get_rand_x(self):\n",
    "        return random.randint(0, self.width - 1)\n",
    "        \n",
    "    def get_rand_y(self):\n",
    "        return random.randint(0, self.height - 1)\n",
    "\n",
    "    def is_full(self):\n",
    "        '''Is there any room on the grid?'''\n",
    "        return len(self.part_locs) >= self.width * self.height\n",
    "\n",
    "    def get_free_loc(self):\n",
    "        '''Find a spot that is free.'''\n",
    "        x = self.get_rand_x()\n",
    "        y = self.get_rand_y()\n",
    "        loc = (x, y)\n",
    "        # Check if this spot is occupied:\n",
    "        while loc in self.part_locs:\n",
    "            print(\"Looking for a free spot!\")\n",
    "            x = self.get_rand_x()\n",
    "            y = self.get_rand_y()\n",
    "            loc = (x, y)\n",
    "        return loc\n",
    "        \n",
    "    def add_partcip(self, particip):\n",
    "        '''Add a participure to this object.\n",
    "        Should we allow re-adding?'''\n",
    "        if not self.is_full():\n",
    "            self.participants[str(particip)] = particip\n",
    "            free_loc = self.get_free_loc()\n",
    "            self.part_locs[free_loc] = particip\n",
    "            particip.locate(self)\n",
    "        else:\n",
    "            print(\"Sorry, no room in {}; try somewhere else!\".format(str(self)))\n",
    "    \n",
    "    def meet(self, particip1, particip2):\n",
    "        '''Two denizens of the dungeon confront each other.'''\n",
    "        if str(particip1) not in self.participants:\n",
    "            print(\"{} is not in the {}\".format(str(particip1), str(self)))\n",
    "        elif str(particip2) not in self.participants:\n",
    "            print(\"{} is not in the {}\".format(str(particip2), str(self)))\n",
    "        elif isinstance(particip1, Player) and isinstance(particip2, Player):\n",
    "            print(\"Hi {} I am {}\".format(str(particip1), str(particip2)))\n",
    "        elif isinstance(particip1, Monster) and isinstance(particip2, Monster):\n",
    "            print(\"Aaargh! Growl!\")\n",
    "        else:\n",
    "            print(\"{} is fighting {}\".format(str(particip1), str(particip2)))\n",
    "            particip1.take_a_hit(particip2.attack())\n",
    "            particip2.take_a_hit(particip1.attack())"
   ]
  },
  {
   "cell_type": "code",
   "execution_count": 9,
   "metadata": {},
   "outputs": [
    {
     "name": "stdout",
     "output_type": "stream",
     "text": [
      "Looking for a free spot!\n",
      "String version: Catacomb of Horrors\n",
      "Catacomb of Horrors\n",
      "Inhabitants:\n",
      "\tThe Blob\n",
      "\tMichael Lippe\n",
      "\tSomya Mehta\n",
      "\tDark Magician\n",
      "\tPablo Parra\n",
      "\tHailey Lint\n",
      "\tEndless Dragon with Blue Eyes\n",
      "\n"
     ]
    },
    {
     "data": {
      "text/plain": [
       "I am The Blob with health of 10 and strength of 6"
      ]
     },
     "execution_count": 9,
     "metadata": {},
     "output_type": "execute_result"
    }
   ],
   "source": [
    "catacomb = Dungeon(\"Catacomb of Horrors\")\n",
    "catacomb.add_partcip(blob)\n",
    "catacomb.add_partcip(michael)\n",
    "catacomb.add_partcip(somya)\n",
    "catacomb.add_partcip(dark_magic)\n",
    "catacomb.add_partcip(pablo)\n",
    "catacomb.add_partcip(hailey)\n",
    "catacomb.add_partcip(blue_eyes)\n",
    "catacomb.add_partcip(yz_dragon)\n",
    "print(\"String version:\", catacomb)\n",
    "print(repr(catacomb))\n",
    "catacomb[\"The Blob\"]\n",
    "# help(catacomb.creatures)\n",
    "# print(catacomb.creat_locs)"
   ]
  },
  {
   "cell_type": "code",
   "execution_count": 21,
   "metadata": {},
   "outputs": [
    {
     "name": "stdout",
     "output_type": "stream",
     "text": [
      "You have no power to reveal what lurks in the darkness!\n",
      "[]\n",
      "['The Blob']\n",
      "['The Blob']\n"
     ]
    }
   ],
   "source": [
    "print([str(monster) for monster in michael.reveal()])\n",
    "# I don't want long-ass descriptions like print will give me!\n",
    "# print(somya.reveal())\n",
    "# So instead:\n",
    "print([str(monster) for monster in somya.reveal() if \"Blob\" in str(monster)])\n",
    "# the above as a loop:\n",
    "monster_names = []\n",
    "for monster in somya.reveal():\n",
    "    if \"Blob\" in str(monster):\n",
    "        monster_names.append(str(monster))\n",
    "print(monster_names)"
   ]
  },
  {
   "cell_type": "code",
   "execution_count": 11,
   "metadata": {},
   "outputs": [
    {
     "name": "stdout",
     "output_type": "stream",
     "text": [
      "The Blob is fighting Michael Lippe\n"
     ]
    }
   ],
   "source": [
    "catacomb.meet(blob, michael)\n",
    "# debug prints:\n",
    "# print(repr(blob))\n",
    "# print(repr(michael))"
   ]
  },
  {
   "cell_type": "code",
   "execution_count": 12,
   "metadata": {},
   "outputs": [
    {
     "name": "stdout",
     "output_type": "stream",
     "text": [
      "Hi Pablo Parra I am Michael Lippe\n"
     ]
    }
   ],
   "source": [
    "catacomb.meet(pablo, michael)"
   ]
  },
  {
   "cell_type": "code",
   "execution_count": 13,
   "metadata": {},
   "outputs": [
    {
     "name": "stdout",
     "output_type": "stream",
     "text": [
      "Yaseen Elsebaie is not in the Catacomb of Horrors\n"
     ]
    }
   ],
   "source": [
    "catacomb.meet(blob, yaseen)"
   ]
  },
  {
   "cell_type": "code",
   "execution_count": null,
   "metadata": {},
   "outputs": [],
   "source": []
  }
 ],
 "metadata": {
  "kernelspec": {
   "display_name": "Python 3",
   "language": "python",
   "name": "python3"
  },
  "language_info": {
   "codemirror_mode": {
    "name": "ipython",
    "version": 3
   },
   "file_extension": ".py",
   "mimetype": "text/x-python",
   "name": "python",
   "nbconvert_exporter": "python",
   "pygments_lexer": "ipython3",
   "version": "3.9.0"
  }
 },
 "nbformat": 4,
 "nbformat_minor": 4
}
