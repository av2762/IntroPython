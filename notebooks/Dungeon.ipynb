{
 "cells": [
  {
   "cell_type": "markdown",
   "metadata": {},
   "source": [
    "# An Adventure Game: Dungeon Dice Monsters"
   ]
  },
  {
   "cell_type": "markdown",
   "metadata": {},
   "source": [
    "We're going to write the basics of a text-based adventure game.\n",
    "\n",
    "First we're going to \"steal\" our Die class from the OOP notebook. **Note**: this could be put in a different file and imported."
   ]
  },
  {
   "cell_type": "code",
   "execution_count": 4,
   "metadata": {},
   "outputs": [
    {
     "data": {
      "text/plain": [
       "4"
      ]
     },
     "execution_count": 4,
     "metadata": {},
     "output_type": "execute_result"
    }
   ],
   "source": [
    "import random\n",
    "\n",
    "DEF_FACES = 6\n",
    "\n",
    "class Die():\n",
    "    '''\n",
    "    A class to represent a die for playing games with.\n",
    "    Contains two data members:\n",
    "    num_faces: how many faces does this die have?\n",
    "    up_face: which face is up?\n",
    "    '''\n",
    "    def __init__(self, faces=DEF_FACES):\n",
    "        if not isinstance(faces, int):\n",
    "            raise(TypeError(\"faces must be an integer\"))\n",
    "        if faces < 2:\n",
    "            raise(ValueError(\"faces must be > 1\"))\n",
    "        num_faces = faces\n",
    "        self.num_faces = faces\n",
    "        self.up_face = None\n",
    "\n",
    "    def roll(self):\n",
    "        self.up_face = random.randint(1, self.num_faces)\n",
    "        return self.up_face\n",
    "\n",
    "    def get_value(self):\n",
    "        if self.up_face is None:\n",
    "            raise(ValueError(\"Must roll before getting value!\"))\n",
    "        return self.up_face\n",
    "    \n",
    "    def __str__(self):\n",
    "        return \"{}-sided die with face value of {}\".format(self.num_faces, \n",
    "                                                           self.get_value())\n",
    "    \n",
    "    def __call__(self):\n",
    "        self.roll()\n",
    "\n",
    "die = Die()\n",
    "die.roll()"
   ]
  },
  {
   "cell_type": "markdown",
   "metadata": {},
   "source": [
    "We will define a class `Creature` that will be the parent of `Player`s and `Monster`s."
   ]
  },
  {
   "cell_type": "code",
   "execution_count": 8,
   "metadata": {},
   "outputs": [],
   "source": [
    "DEF_HEALTH = 12\n",
    "DEF_STRENGTH = DEF_FACES\n",
    "\n",
    "\n",
    "class Creature(object):\n",
    "    '''This class will be the parent of Player and Monster.\n",
    "       Creatures will have a name, a location (?),\n",
    "       health rating, and strength rating.\n",
    "    '''\n",
    "    def __init__(self, name, health=DEF_HEALTH, strength=DEF_STRENGTH):\n",
    "        '''Initialize a Creature.'''\n",
    "        self.name = name\n",
    "        self.health = health\n",
    "        self.strength = strength\n",
    "        \n",
    "    def __str__(self):\n",
    "        return self.name\n",
    "    \n",
    "    def __repr__(self):\n",
    "        return \"I am {} with health of {} and strength of {}\".format(self.name,\n",
    "                                                                     self.health,\n",
    "                                                                     self.strength)"
   ]
  },
  {
   "cell_type": "code",
   "execution_count": 10,
   "metadata": {},
   "outputs": [
    {
     "name": "stdout",
     "output_type": "stream",
     "text": [
      "John Li\n",
      "I am John Li with health of 12 and strength of 6\n"
     ]
    }
   ],
   "source": [
    "cr1 = Creature(\"John Li\")\n",
    "print(cr1)\n",
    "print(repr(cr1))"
   ]
  },
  {
   "cell_type": "markdown",
   "metadata": {},
   "source": [
    "Let's set up the descendant classes of `Creature`:"
   ]
  },
  {
   "cell_type": "code",
   "execution_count": 11,
   "metadata": {},
   "outputs": [],
   "source": [
    "class Monster(Creature):\n",
    "    '''A dangerous, dice-rolling monster!'''\n",
    "    def __init__(self, name, health=DEF_HEALTH, strength=DEF_STRENGTH):\n",
    "        super().__init__(name, health=health, strength=strength)\n",
    "        self.die = Die(strength)\n",
    "        \n",
    "    def attack(self):\n",
    "        '''Attack a foe with a certain force.'''\n",
    "        return self.die.roll()"
   ]
  },
  {
   "cell_type": "code",
   "execution_count": 18,
   "metadata": {},
   "outputs": [
    {
     "name": "stdout",
     "output_type": "stream",
     "text": [
      "I am The Blob with health of 12 and strength of 6\n",
      "Blob attack: 5\n"
     ]
    }
   ],
   "source": [
    "blob = Monster(\"The Blob\")\n",
    "print(repr(blob))\n",
    "print(\"Blob attack:\", blob.attack())"
   ]
  },
  {
   "cell_type": "code",
   "execution_count": 20,
   "metadata": {},
   "outputs": [],
   "source": [
    "class Player(Creature):\n",
    "    '''A heroic adventurer facing dice monsters in a dungeon.'''\n",
    "    def __init__(self, name):\n",
    "        super().__init__(name)\n",
    "        \n",
    "    def attack(self):\n",
    "        '''Attack a foe with a certain force.'''\n",
    "        return self.strength // 2"
   ]
  },
  {
   "cell_type": "code",
   "execution_count": 21,
   "metadata": {},
   "outputs": [
    {
     "name": "stdout",
     "output_type": "stream",
     "text": [
      "I am Michael Lippe with health of 12 and strength of 6\n",
      "Michael attack: 3\n"
     ]
    }
   ],
   "source": [
    "michael = Player(\"Michael Lippe\")\n",
    "print(repr(michael))\n",
    "print(\"Michael attack:\", michael.attack())"
   ]
  },
  {
   "cell_type": "code",
   "execution_count": 24,
   "metadata": {},
   "outputs": [],
   "source": [
    "DEF_HEIGHT = 10\n",
    "DEF_WIDTH = 10\n",
    "\n",
    "\n",
    "class Dungeon(object):\n",
    "    '''A place for monsters and players to roam and battle.'''\n",
    "    def __init__(self, name, width=DEF_WIDTH, height=DEF_HEIGHT):\n",
    "        self.name = name\n",
    "        self.width = width\n",
    "        self.height = height\n",
    "\n",
    "    def __str__(self):\n",
    "        return self.name\n",
    "    \n",
    "    def confront(self, creat1, creat2):\n",
    "        '''Two denizens of the dungeon confront each other.'''"
   ]
  },
  {
   "cell_type": "code",
   "execution_count": 25,
   "metadata": {},
   "outputs": [
    {
     "name": "stdout",
     "output_type": "stream",
     "text": [
      "Catacomb of Horrors\n"
     ]
    }
   ],
   "source": [
    "catacomb = Dungeon(\"Catacomb of Horrors\")\n",
    "print(catacomb)"
   ]
  },
  {
   "cell_type": "code",
   "execution_count": null,
   "metadata": {},
   "outputs": [],
   "source": []
  }
 ],
 "metadata": {
  "kernelspec": {
   "display_name": "Python 3",
   "language": "python",
   "name": "python3"
  },
  "language_info": {
   "codemirror_mode": {
    "name": "ipython",
    "version": 3
   },
   "file_extension": ".py",
   "mimetype": "text/x-python",
   "name": "python",
   "nbconvert_exporter": "python",
   "pygments_lexer": "ipython3",
   "version": "3.9.0"
  }
 },
 "nbformat": 4,
 "nbformat_minor": 4
}
