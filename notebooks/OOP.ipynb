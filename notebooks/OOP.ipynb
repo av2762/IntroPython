{
 "cells": [
  {
   "cell_type": "markdown",
   "metadata": {},
   "source": [
    "## Object-Oriented Programming"
   ]
  },
  {
   "cell_type": "markdown",
   "metadata": {},
   "source": [
    "We use classes to build our own types. The class defines what form the class's data takes and what operations can be performed on that data.\n",
    "\n",
    "We have been accessing object's methods all semester:"
   ]
  },
  {
   "cell_type": "code",
   "execution_count": null,
   "metadata": {},
   "outputs": [],
   "source": [
    "s = \"hello\"\n",
    "old_s = s\n",
    "s = s.capitalize()\n",
    "print(\"s = \", s)\n",
    "print(\"old_s = \", old_s)"
   ]
  },
  {
   "cell_type": "code",
   "execution_count": null,
   "metadata": {},
   "outputs": [],
   "source": [
    "s = \"Hello\"\n",
    "len(s)"
   ]
  },
  {
   "cell_type": "markdown",
   "metadata": {},
   "source": [
    "**Quiz**: What method did we access above?\n",
    "\n",
    "a) `s.length()`  \n",
    "b) `s.len()`  \n",
    "c) `s.__len__()`  \n",
    "d) `s._len()`  "
   ]
  },
  {
   "cell_type": "code",
   "execution_count": null,
   "metadata": {},
   "outputs": [],
   "source": [
    "# always write:\n",
    "print(len(s))\n",
    "# never write:\n",
    "print(s.__len__())"
   ]
  },
  {
   "cell_type": "markdown",
   "metadata": {},
   "source": [
    "Then, from those classes, we create objects to represent one instance of data that has the form of the class.\n",
    "\n",
    "A short definition: an *object* is some data and some code \"packaged\" together."
   ]
  },
  {
   "cell_type": "markdown",
   "metadata": {},
   "source": [
    "### Built-In Classes and Instances\n",
    "\n",
    "Data structures that are built into the language already are defined as a class:\n",
    "`list`, `tuple`, `dict`, `string`, etc.\n",
    "\n",
    "You can make an instance of these using the built-in constructors:"
   ]
  },
  {
   "cell_type": "code",
   "execution_count": null,
   "metadata": {},
   "outputs": [],
   "source": [
    "some_list = [1, 2, 3] \n",
    "some_dict = dict(food=1, beverage=2, desert=3)\n",
    "string = str(123.4)"
   ]
  },
  {
   "cell_type": "code",
   "execution_count": null,
   "metadata": {},
   "outputs": [],
   "source": [
    "print(type(some_list), type(some_dict), type(string))"
   ]
  },
  {
   "cell_type": "markdown",
   "metadata": {},
   "source": [
    "### Let's make our own class!\n",
    "\n",
    "We are going to create a simple (to start) class that defines a student.\n",
    "\n",
    "The first parameter to the methods below, `self`, is a special parameter that is the object a method is being called upon. (**Note**: Python **does not** require you name this parameter `self`. But *every* Python programmer does so! Don't call it anything else!)"
   ]
  },
  {
   "cell_type": "code",
   "execution_count": 2,
   "metadata": {},
   "outputs": [],
   "source": [
    "class Student():\n",
    "    '''\n",
    "    A simple Student class to represent a single student at NYU.\n",
    "    `__init__()`, `__str__()` and `__len__()`\n",
    "        are instances of *dunder* methods.\n",
    "    `__init__()` *initializes* the object.\n",
    "    '''\n",
    "    def __init__(self, first, last, nyu_id):   # initializer\n",
    "        print(\"In __init__()!\")\n",
    "        self.first_name = first\n",
    "        self.last_name = last\n",
    "        self.nyu_id = nyu_id\n",
    "        \n",
    "    def __str__(self):\n",
    "        '''Create a nice str rep of a student'''\n",
    "        return \"{} {}: ({})\".format(self.first_name,\n",
    "                                    self.last_name,\n",
    "                                    self.nyu_id)\n",
    "\n",
    "    def __len__(self):\n",
    "        '''\n",
    "        Let us make the len() of a student\n",
    "        be the len of first + len of last name\n",
    "        '''\n",
    "        return len(self.first_name) + len(self.last_name)"
   ]
  },
  {
   "cell_type": "markdown",
   "metadata": {},
   "source": [
    "Let's create some `Student` objects:"
   ]
  },
  {
   "cell_type": "code",
   "execution_count": 3,
   "metadata": {},
   "outputs": [
    {
     "name": "stdout",
     "output_type": "stream",
     "text": [
      "In __init__()!\n",
      "In __init__()!\n",
      "Porgie Tirebiter: (N23423)\n",
      "Porgie Tirebiter: (N23423)\n",
      "Porgie Tirebiter: (N23423)\n",
      "15\n",
      "2\n"
     ]
    }
   ],
   "source": [
    "new_student = Student(\"Porgie\", \"Tirebiter\", \"N23423\")\n",
    "another_student = Student(\"X\", \"Y\", \"N20099\")\n",
    "print(new_student)\n",
    "# we *could* write:\n",
    "s = new_student.__str__()\n",
    "print(s)\n",
    "# but instead we *should* write:\n",
    "s = str(new_student)\n",
    "print(s)\n",
    "print(len(new_student))\n",
    "print(len(another_student))"
   ]
  },
  {
   "cell_type": "markdown",
   "metadata": {},
   "source": [
    "Why should we use `str(new_student)`? It is easier to read!"
   ]
  },
  {
   "cell_type": "markdown",
   "metadata": {},
   "source": [
    "How does Python do use these \"magic\" methods?"
   ]
  },
  {
   "cell_type": "code",
   "execution_count": 12,
   "metadata": {},
   "outputs": [
    {
     "name": "stdout",
     "output_type": "stream",
     "text": [
      "15\n",
      "12\n"
     ]
    },
    {
     "ename": "TypeError",
     "evalue": "object of type <class 'int'> has no len()",
     "output_type": "error",
     "traceback": [
      "\u001b[0;31m---------------------------------------------------------------------------\u001b[0m",
      "\u001b[0;31mTypeError\u001b[0m                                 Traceback (most recent call last)",
      "\u001b[0;32m<ipython-input-12-cfa14eeb4513>\u001b[0m in \u001b[0;36m<module>\u001b[0;34m\u001b[0m\n\u001b[1;32m      7\u001b[0m \u001b[0mprint\u001b[0m\u001b[0;34m(\u001b[0m\u001b[0mlength\u001b[0m\u001b[0;34m(\u001b[0m\u001b[0mnew_student\u001b[0m\u001b[0;34m)\u001b[0m\u001b[0;34m)\u001b[0m\u001b[0;34m\u001b[0m\u001b[0;34m\u001b[0m\u001b[0m\n\u001b[1;32m      8\u001b[0m \u001b[0mprint\u001b[0m\u001b[0;34m(\u001b[0m\u001b[0mlength\u001b[0m\u001b[0;34m(\u001b[0m\u001b[0;34m\"Hello world!\"\u001b[0m\u001b[0;34m)\u001b[0m\u001b[0;34m)\u001b[0m\u001b[0;34m\u001b[0m\u001b[0;34m\u001b[0m\u001b[0m\n\u001b[0;32m----> 9\u001b[0;31m \u001b[0mprint\u001b[0m\u001b[0;34m(\u001b[0m\u001b[0mlength\u001b[0m\u001b[0;34m(\u001b[0m\u001b[0;36m100\u001b[0m\u001b[0;34m)\u001b[0m\u001b[0;34m)\u001b[0m\u001b[0;34m\u001b[0m\u001b[0;34m\u001b[0m\u001b[0m\n\u001b[0m\u001b[1;32m     10\u001b[0m \u001b[0;31m# print(len(100))\u001b[0m\u001b[0;34m\u001b[0m\u001b[0;34m\u001b[0m\u001b[0;34m\u001b[0m\u001b[0m\n",
      "\u001b[0;32m<ipython-input-12-cfa14eeb4513>\u001b[0m in \u001b[0;36mlength\u001b[0;34m(obj)\u001b[0m\n\u001b[1;32m      3\u001b[0m         \u001b[0;32mreturn\u001b[0m \u001b[0mobj\u001b[0m\u001b[0;34m.\u001b[0m\u001b[0m__len__\u001b[0m\u001b[0;34m(\u001b[0m\u001b[0;34m)\u001b[0m\u001b[0;34m\u001b[0m\u001b[0;34m\u001b[0m\u001b[0m\n\u001b[1;32m      4\u001b[0m     \u001b[0;32melse\u001b[0m\u001b[0;34m:\u001b[0m\u001b[0;34m\u001b[0m\u001b[0;34m\u001b[0m\u001b[0m\n\u001b[0;32m----> 5\u001b[0;31m         \u001b[0;32mraise\u001b[0m\u001b[0;34m(\u001b[0m\u001b[0mTypeError\u001b[0m\u001b[0;34m(\u001b[0m\u001b[0;34m\"object of type {} has no len()\"\u001b[0m\u001b[0;34m.\u001b[0m\u001b[0mformat\u001b[0m\u001b[0;34m(\u001b[0m\u001b[0mtype\u001b[0m\u001b[0;34m(\u001b[0m\u001b[0mobj\u001b[0m\u001b[0;34m)\u001b[0m\u001b[0;34m)\u001b[0m\u001b[0;34m)\u001b[0m\u001b[0;34m)\u001b[0m\u001b[0;34m\u001b[0m\u001b[0;34m\u001b[0m\u001b[0m\n\u001b[0m\u001b[1;32m      6\u001b[0m \u001b[0;34m\u001b[0m\u001b[0m\n\u001b[1;32m      7\u001b[0m \u001b[0mprint\u001b[0m\u001b[0;34m(\u001b[0m\u001b[0mlength\u001b[0m\u001b[0;34m(\u001b[0m\u001b[0mnew_student\u001b[0m\u001b[0;34m)\u001b[0m\u001b[0;34m)\u001b[0m\u001b[0;34m\u001b[0m\u001b[0;34m\u001b[0m\u001b[0m\n",
      "\u001b[0;31mTypeError\u001b[0m: object of type <class 'int'> has no len()"
     ]
    }
   ],
   "source": [
    "def length(obj):\n",
    "    if hasattr(obj, '__len__'):\n",
    "        return obj.__len__()\n",
    "    else:\n",
    "        raise(TypeError(\"object of type {} has no len()\".format(type(obj))))\n",
    "\n",
    "print(length(new_student))\n",
    "print(length(\"Hello world!\"))\n",
    "print(length(100))\n",
    "# print(len(100))"
   ]
  },
  {
   "cell_type": "markdown",
   "metadata": {},
   "source": [
    "Objects have data attributes that are stored within the object.\n",
    "\n",
    "Objects can be interacted with via their methods, which may or may not change the attribute's values in the object.\n",
    "\n",
    "Think of a class as a blueprint for making objects.  A blueprint is a document that defines how to construct a building (house, etc.) You can make variations from that, but the blueprint can be used over and over again to make houses that have the same design (number of rooms, number of bathrooms, placement of windows), but different attribute values (color of front door, size of walkway, flooring material).\n",
    "\n",
    "`student_name` is a specific object that has been created and intialized (instantiated)."
   ]
  },
  {
   "cell_type": "code",
   "execution_count": null,
   "metadata": {},
   "outputs": [],
   "source": [
    "student_name = \"Anakin Skywalker\"\n",
    "revised_name = student_name.lower() \n",
    "print(revised_name)\n",
    "print(id(student_name), id(revised_name))"
   ]
  },
  {
   "cell_type": "markdown",
   "metadata": {},
   "source": [
    "`another_student` is a second string object:"
   ]
  },
  {
   "cell_type": "code",
   "execution_count": null,
   "metadata": {},
   "outputs": [],
   "source": [
    "another_student = \"Kylo Ren\"\n",
    "print(id(another_student))"
   ]
  },
  {
   "cell_type": "markdown",
   "metadata": {},
   "source": [
    "We can see the details of a class by calling the built-in `dir()` function:"
   ]
  },
  {
   "cell_type": "code",
   "execution_count": null,
   "metadata": {},
   "outputs": [],
   "source": [
    "dir(Student)"
   ]
  },
  {
   "cell_type": "markdown",
   "metadata": {},
   "source": [
    "### Terminology Notes\n",
    "\n",
    "**Class**: class is a template for making a new object of a given type (like `int`, `string`, or your own type)\n",
    "\n",
    "**Instance**: an object made from a class is an *instance* of that class (student_name is a `str` instance).\n",
    "\n",
    "Class can \"stamp out\" instances (as many as we want), like a cookie cutter.\n",
    "\n",
    "<img src=\"https://upload.wikimedia.org/wikipedia/commons/thumb/1/14/Motlle_crespellines.jpg/440px-Motlle_crespellines.jpg\" width=\"30%\">\n",
    "\n",
    "The `int` type is a class which models the representation of an integer, which includes operations that can be performed on instances of the int type. "
   ]
  },
  {
   "cell_type": "markdown",
   "metadata": {},
   "source": [
    "### Dunder methods\n",
    "\n",
    "These are special methods for objects that have a *double underscore* to start and end the name of the method.\n",
    "\n",
    "We've already met `__init__()` and `__str__()`. There are many more. They allow our class to respond properly to built-in Python functions and operators."
   ]
  },
  {
   "cell_type": "code",
   "execution_count": 17,
   "metadata": {},
   "outputs": [],
   "source": [
    "class FunnyString(object):\n",
    "    '''A ridiculously behaved class.'''\n",
    "    def __init__(self, value):\n",
    "        if not isinstance(value, str):\n",
    "            raise(ValueError(\"{} is not a str\".format(value)))\n",
    "        self.value = value\n",
    "\n",
    "    def __eq__(self, other):\n",
    "        # all FunnyStrings are unequal, even to themselves!\n",
    "        return False\n",
    "    \n",
    "    def __gt__(self, other):\n",
    "        # all FunnyStrings are greater than all others!\n",
    "        return True\n",
    "\n",
    "    def __str__(self):\n",
    "        return str(self.value)\n",
    "    \n",
    "    def __len__(self):\n",
    "        return 5000000\n",
    "    \n",
    "    def __add__(self, str2):\n",
    "#    str1 + str2 => str1.__add__(str2)\n",
    "        temp = self.value\n",
    "        self.value = str2.value\n",
    "        str2.value = temp\n",
    "\n",
    "    def __sub__(self, param2):\n",
    "        new_str = self.value\n",
    "        for c in param2.value:\n",
    "            new_str = new_str.replace(c, '')\n",
    "        return FunnyString(new_str)\n",
    "    \n",
    "    def __mul__(self, param2):\n",
    "        return 42\n",
    "    \n",
    "    def __call__(self):\n",
    "        return \"You called?\""
   ]
  },
  {
   "cell_type": "code",
   "execution_count": 13,
   "metadata": {},
   "outputs": [
    {
     "name": "stdout",
     "output_type": "stream",
     "text": [
      "The length of the string the_string is 37.\n"
     ]
    }
   ],
   "source": [
    "the_string = \"DO NOT WRITE ON THE BACK OF ANY PAGE!\"\n",
    "print('The length of the string the_string is {}.'.format(len(the_string)))"
   ]
  },
  {
   "cell_type": "code",
   "execution_count": 16,
   "metadata": {},
   "outputs": [
    {
     "name": "stdout",
     "output_type": "stream",
     "text": [
      "The value of a_string is DO NOT WRITE ON THE BACK OF ANY PAGE!.\n",
      "The length of a_string is 5000000.\n",
      "Is a_string equal to itself? False\n",
      "Is a_string greater than itself? True\n"
     ]
    }
   ],
   "source": [
    "a_string = FunnyString(the_string)\n",
    "print('The value of a_string is {}.'.format(a_string))\n",
    "print('The length of a_string is {}.'.format(len(a_string)))\n",
    "print(\"Is a_string equal to itself?\", a_string == a_string)\n",
    "print(\"Is a_string greater than itself?\", a_string > a_string)"
   ]
  },
  {
   "cell_type": "code",
   "execution_count": 18,
   "metadata": {},
   "outputs": [
    {
     "name": "stdout",
     "output_type": "stream",
     "text": [
      "Is b_string greater than a_string? True\n",
      "Is a_string greater than b_string? True\n",
      "DO NOT WRITE ON THE BACK OF ANY PAGE!\n",
      "RUTGERS\n",
      "DO NO WI ON H BACK OF ANY PA!\n"
     ]
    }
   ],
   "source": [
    "b_string = FunnyString(\"RUTGERS\")\n",
    "print(\"Is b_string greater than a_string?\",\n",
    "      b_string > a_string)\n",
    "print(\"Is a_string greater than b_string?\",\n",
    "      a_string > b_string)\n",
    "result = a_string - b_string\n",
    "print(a_string)\n",
    "print(b_string)\n",
    "print(result)"
   ]
  },
  {
   "cell_type": "code",
   "execution_count": 19,
   "metadata": {},
   "outputs": [
    {
     "name": "stdout",
     "output_type": "stream",
     "text": [
      "<class '__main__.FunnyString'>\n",
      "42\n"
     ]
    }
   ],
   "source": [
    "print(type(result))\n",
    "print(a_string * b_string)"
   ]
  },
  {
   "cell_type": "code",
   "execution_count": 21,
   "metadata": {},
   "outputs": [
    {
     "data": {
      "text/plain": [
       "'You called?'"
      ]
     },
     "execution_count": 21,
     "metadata": {},
     "output_type": "execute_result"
    }
   ],
   "source": [
    "a_string()"
   ]
  },
  {
   "cell_type": "markdown",
   "metadata": {},
   "source": [
    "### Example: Let's Play Dice!\n",
    "\n",
    "First, we will create our `Die` object:"
   ]
  },
  {
   "cell_type": "code",
   "execution_count": 31,
   "metadata": {},
   "outputs": [],
   "source": [
    "import random\n",
    "\n",
    "DEF_FACES = 6\n",
    "\n",
    "class Die():\n",
    "    '''\n",
    "    A class to represent a die for playing games with.\n",
    "    Just has a single field: which face is up.\n",
    "    '''\n",
    "    def __init__(self, faces=DEF_FACES):\n",
    "        if not isinstance(faces, int):\n",
    "            raise(TypeError(\"faces must be an integer\"))\n",
    "        if faces < 2:\n",
    "            raise(ValueError(\"faces must be > 1\"))\n",
    "        self.num_faces = faces\n",
    "        self.face = None\n",
    "\n",
    "    def roll(self):\n",
    "        self.face = random.randint(1, self.num_faces)\n",
    "\n",
    "    def get_value(self):\n",
    "        if self.face is None:\n",
    "            raise(ValueError(\"Must roll before getting value!\"))\n",
    "        return self.face\n",
    "    \n",
    "    def __str__(self):\n",
    "        return \"Die with face value of \" + str(self.get_value())\n",
    "    \n",
    "    def __call__(self):\n",
    "        self.roll()"
   ]
  },
  {
   "cell_type": "code",
   "execution_count": 32,
   "metadata": {},
   "outputs": [
    {
     "name": "stdout",
     "output_type": "stream",
     "text": [
      "new_die value =  3\n",
      "Die with face value of 3\n",
      "unusual_die value =  3\n",
      "unusual_die value =  19\n"
     ]
    }
   ],
   "source": [
    "new_die = Die()\n",
    "new_die()\n",
    "print(\"new_die value = \", new_die.get_value())\n",
    "print(new_die)\n",
    "unusual_die = Die(faces=20)\n",
    "unusual_die()\n",
    "print(\"unusual_die value = \", unusual_die.get_value())\n",
    "unusual_die()\n",
    "print(\"unusual_die value = \", unusual_die.get_value())"
   ]
  },
  {
   "cell_type": "markdown",
   "metadata": {},
   "source": [
    "Now let's use our class to explore the law of large numbers:"
   ]
  },
  {
   "cell_type": "code",
   "execution_count": 49,
   "metadata": {},
   "outputs": [
    {
     "name": "stdout",
     "output_type": "stream",
     "text": [
      "  1: 1000378\n",
      "  2: 1000329\n",
      "  3: 999001\n",
      "  4: 1000985\n",
      "  5: 1000516\n",
      "  6: 999943\n",
      "  7: 999915\n",
      "  8: 999163\n",
      "  9: 1000467\n",
      " 10: 999303\n"
     ]
    }
   ],
   "source": [
    "SAMPLE_SIZE = 10000000\n",
    "FACES = 10\n",
    "rolls = [0]*(FACES+1)\n",
    "\n",
    "die = Die(FACES)\n",
    "for i in range(SAMPLE_SIZE):\n",
    "    die.roll()\n",
    "    rolls[die.get_value()] += 1\n",
    "\n",
    "for roll, count in enumerate(rolls):\n",
    "    if roll == 0:\n",
    "        continue\n",
    "    print(\"{:3d}: {}\".format(roll, count))"
   ]
  },
  {
   "cell_type": "markdown",
   "metadata": {},
   "source": [
    "### A Playlist App\n",
    "\n",
    "This is another example of creating our own classes:"
   ]
  },
  {
   "cell_type": "code",
   "execution_count": null,
   "metadata": {},
   "outputs": [],
   "source": [
    "class Song:\n",
    "    def __init__(self, artist, song_title, record_label=\"Unknown Label\",\n",
    "                 runtime=(0, 0), genre=None):\n",
    "        self.artist = artist\n",
    "        self.title = song_title\n",
    "        self.label = record_label\n",
    "        self.runtime = runtime\n",
    "        self.genre = genre\n",
    "    \n",
    "    def __str__(self):\n",
    "        return \"'{}' by {} ({}): {:d}:{:02d}, Genre: {}\".format(self.title,\n",
    "                                                     self.artist,\n",
    "                                                     self.label,\n",
    "                                                     self.runtime[0],\n",
    "                                                     self.runtime[1],\n",
    "                                                     self.genre)"
   ]
  },
  {
   "cell_type": "code",
   "execution_count": null,
   "metadata": {},
   "outputs": [],
   "source": [
    "my_song = Song(\"Elton John\", \"My Song\")\n",
    "print(my_song)"
   ]
  },
  {
   "cell_type": "code",
   "execution_count": null,
   "metadata": {},
   "outputs": [],
   "source": [
    "mylist = []\n",
    "dir(mylist)"
   ]
  },
  {
   "cell_type": "code",
   "execution_count": null,
   "metadata": {},
   "outputs": [],
   "source": [
    "class Playlist:\n",
    "    def __init__(self, name, songs=[]):\n",
    "        self.name = name\n",
    "        self.songs = songs.copy()\n",
    "\n",
    "    def add_song(self, artist=None, song_title=None, record_label=None,\n",
    "                 runtime=None, genre=None):\n",
    "        new_song = Song(artist, song_title, record_label, runtime, genre)\n",
    "        self.songs.append(new_song)\n",
    "        \n",
    "    def get_playlist_length(self):\n",
    "        return len(self.songs)\n",
    "    \n",
    "    def get_total_runtime(self):\n",
    "        total_minutes = 0\n",
    "        total_seconds = 0\n",
    "        for songs in self.songs:\n",
    "            total_minutes += songs.runtime[0]\n",
    "            total_seconds += songs.runtime[1]\n",
    "        \n",
    "        total_minutes += total_seconds // 60\n",
    "        total_seconds = total_seconds % 60\n",
    "        return (total_minutes, total_seconds)\n",
    "\n",
    "    def __add__(self, other):\n",
    "        return Playlist(self.name + \" + \" + other.name, self.songs + other.songs)\n",
    "    \n",
    "    def __mul__(self, num_times):\n",
    "        return Playlist(self.name + \" * \" + str(num_times), self.songs * num_times)\n",
    "   \n",
    "    def __str__(self):\n",
    "        totmin, totsec = self.get_total_runtime()\n",
    "        result = \"{} (total run time of {:d}:{:02d})\\n\".format(self.name, totmin, totsec)\n",
    "        for song in self.songs:\n",
    "            result += \" \" * 5 + str(song) + \"\\n\"\n",
    "        return result\n",
    "    \n",
    "    # def __iter__(self):\n",
    "    #    return iter(self.songs)\n",
    "    \n",
    "    def __getitem__(self, index):\n",
    "        return self.songs[index]"
   ]
  },
  {
   "cell_type": "code",
   "execution_count": null,
   "metadata": {
    "scrolled": true
   },
   "outputs": [],
   "source": [
    "hits = Playlist(\"Top 100 - 4/10/20\")\n",
    "\n",
    "hits.add_song(\"Drake\", \"Toosie Slide\", \"Republic\", (3, 4), \"Rap\")\n",
    "hits.add_song(\"The Weeknd\", \"Blinding Lights\", \"Republic\", (3, 11))\n",
    "hits.add_song(\"Roddy Ricch\", \"The Box\", \"Atlantic Records\", (2, 59))\n",
    "hits.add_song(\"Megan Thee Stallion\", \"Savage\", None, (2, 59))\n",
    "# print(hits)\n",
    "for song in hits:\n",
    "    print(song)\n",
    "\n",
    "print(dir(hits))\n",
    "\n",
    "fela = Playlist(\"Fela\", [])\n",
    "fela.add_song(\"Fela Kuti\", \"Mr. Follow Follow\", \"Island\", (12, 4), \"Afrobeat\")\n",
    "fela.add_song(\"Fela Kuti\", \"I Be Lady\", \"Island\", (15, 44), \"Afrobeat\")\n",
    "# print(fela)\n",
    "\n",
    "'''\n",
    "lots_of_fela = fela * 4\n",
    "print(lots_of_fela)\n",
    "\n",
    "combined_list = hits + lots_of_fela + hits\n",
    "\n",
    "print(combined_list)\n",
    "\n",
    "print(\"6th item in list:\", combined_list[5])\n",
    "'''\n"
   ]
  },
  {
   "cell_type": "markdown",
   "metadata": {},
   "source": [
    "#### A Complex Number Class"
   ]
  },
  {
   "cell_type": "code",
   "execution_count": null,
   "metadata": {},
   "outputs": [],
   "source": [
    "class Complex(object):\n",
    "    '''\n",
    "    A complex number class.\n",
    "    We will use lots of dunder methods here!\n",
    "    '''\n",
    "    def __init__(self, real=0.0, imag=0.0):\n",
    "        self.real = real\n",
    "        self.imag = imag\n",
    "\n",
    "    def __str__(self):\n",
    "        return str(self.real) + \" + \" + str(self.imag) + 'i'\n",
    "    \n",
    "    def __sub__(self, other):\n",
    "        return Complex(self.real - other.real,\n",
    "                       self.imag - other.imag)\n",
    "    \n",
    "    def __add__(self, other):\n",
    "        return Complex(self.real + other.real,\n",
    "                       self.imag + other.imag)\n",
    "\n",
    "    def __iadd__(self, other):\n",
    "        self.real += other.real\n",
    "        self.imag += other.imag\n",
    "        return self\n",
    "    \n",
    "    def __gt__(self, other):\n",
    "        return (self.real > other.real) and (self.imag > other.imag)\n",
    "    \n",
    "    def __eq__(self, other):\n",
    "        return (self.real == other.real) and (self.imag == other.imag)"
   ]
  },
  {
   "cell_type": "markdown",
   "metadata": {},
   "source": [
    "Having written our class, we should make sure it works:"
   ]
  },
  {
   "cell_type": "code",
   "execution_count": null,
   "metadata": {},
   "outputs": [],
   "source": [
    "two = Complex(2.0, 2.0)\n",
    "one = Complex(1.0, 1.0)\n",
    "other_four = Complex(4.0, 4.0)\n",
    "print(two)   # equivalent to print(str(zero))\n",
    "print(one)\n",
    "three = two + one\n",
    "print(\"Three before +=\", three)"
   ]
  },
  {
   "cell_type": "code",
   "execution_count": null,
   "metadata": {},
   "outputs": [],
   "source": [
    "\n",
    "three += two\n",
    "print(\"Three after +=\", three)\n",
    "four = three - one\n",
    "print(\"four = \", four)\n",
    "print(\"four > one:\", four > one)\n",
    "print(\"four == other_four:\", four == other_four)\n",
    "print(\"id(four), id(other_four):\", id(four), id(other_four))"
   ]
  },
  {
   "cell_type": "markdown",
   "metadata": {},
   "source": [
    "#### Some Dunder Methods"
   ]
  },
  {
   "cell_type": "markdown",
   "metadata": {},
   "source": [
    "#### Math\n",
    "\n",
    "- `__add__()`: Addition --> x+y\n",
    "\n",
    "- `__sub__()`: Subtraction --> x-y\n",
    "\n",
    "- `__mul__()`: Multiplication --> x*y\n",
    "\n",
    "- `__div__()`: Division --> x/y\n",
    "\n",
    "- `__iadd__()`: +=\n",
    "\n",
    "- `__isub__()`: -=\n",
    "\n",
    "- `__imul__()`: *=\n",
    "\n",
    "- `__idiv__()`: /=\n",
    "\n",
    "\n",
    "\n",
    "#### Comparisons\n",
    "\n",
    "- `__eq__()`: Equality --> x == y\n",
    "\n",
    "- `__gt__()`: Greater Than --> x > y\n",
    "\n",
    "- `__ge__()`: Greater Than Or Equal --> x >= y\n",
    "\n",
    "- `__lt__()`: Less Than --> x < y\n",
    "\n",
    "- `__le__()`: Less Than Or Equal --> x <= y\n",
    "\n",
    "- `__ne__()`: Not Equal --> x != y\n",
    "\n",
    "\n",
    "#### Collections\n",
    "\n",
    "- `__len__()`: Length --> len(x)\n",
    "\n",
    "- `__contains__()`: Does the sequence x, contain y --> x in y\n",
    "\n",
    "- `__getitem__()`: Access element key of sequence x --> x[key]\n",
    "\n",
    "- `__setitem__()`: Set element key of sequence x to value y -> x[key]=y\n",
    "\n",
    "- `__iter__()`: Return an iterator over the collection.\n",
    "\n",
    "\n",
    "#### General methods\n",
    "\n",
    "- `__init__()`: Constructor --> x = MyClass()\n",
    "\n",
    "- `__str__()`: Convert to a readable string --> print(x), str(x)\n",
    "\n",
    "- `__repr__()`: returns a representation of x --> x.__repr__() or repr(x)"
   ]
  },
  {
   "cell_type": "code",
   "execution_count": null,
   "metadata": {},
   "outputs": [],
   "source": []
  }
 ],
 "metadata": {
  "kernelspec": {
   "display_name": "Python 3",
   "language": "python",
   "name": "python3"
  },
  "language_info": {
   "codemirror_mode": {
    "name": "ipython",
    "version": 3
   },
   "file_extension": ".py",
   "mimetype": "text/x-python",
   "name": "python",
   "nbconvert_exporter": "python",
   "pygments_lexer": "ipython3",
   "version": "3.9.0"
  }
 },
 "nbformat": 4,
 "nbformat_minor": 2
}
