{
 "cells": [
  {
   "cell_type": "markdown",
   "metadata": {},
   "source": [
    "## Object-Oriented Programming"
   ]
  },
  {
   "cell_type": "markdown",
   "metadata": {},
   "source": [
    "We use classes to build our own types. The class defines what form the class's data takes and what operations can be performed on that data.\n",
    "\n",
    "We have been accessing object's methods all semester:"
   ]
  },
  {
   "cell_type": "code",
   "execution_count": 1,
   "metadata": {},
   "outputs": [
    {
     "data": {
      "text/plain": [
       "5"
      ]
     },
     "execution_count": 1,
     "metadata": {},
     "output_type": "execute_result"
    }
   ],
   "source": [
    "s = \"Hello\"\n",
    "len(s)"
   ]
  },
  {
   "cell_type": "markdown",
   "metadata": {},
   "source": [
    "**Quiz**: What method did we access above?\n",
    "\n",
    "a) `s.length()`  \n",
    "b) `s.len()`  \n",
    "c) `s.__len__()`  \n",
    "d) `s._len()`  "
   ]
  },
  {
   "cell_type": "code",
   "execution_count": 4,
   "metadata": {},
   "outputs": [
    {
     "name": "stdout",
     "output_type": "stream",
     "text": [
      "5\n",
      "5\n"
     ]
    }
   ],
   "source": [
    "# always write:\n",
    "print(len(s))\n",
    "# never write:\n",
    "print(s.__len__())"
   ]
  },
  {
   "cell_type": "markdown",
   "metadata": {},
   "source": [
    "Then, from those classes, we create objects to represent one instance of data that has the form of the class.\n",
    "\n",
    "A short definition: an *object* is some data and some code \"packaged\" together.\n",
    "\n",
    "Class: Student -->  [ Student1: (Joe, Smith, N1234), Student2: (Mary, Margaret, N4566) ]\n",
    "\n",
    "`self` is a special parameter that is the object a method is being called upon."
   ]
  },
  {
   "cell_type": "code",
   "execution_count": 25,
   "metadata": {},
   "outputs": [],
   "source": [
    "class Student():\n",
    "    '''\n",
    "    A simple Student class to represent a single student at NYU.\n",
    "    `__init__()` and `__str__()` are instances of *dunder* methods.\n",
    "    `__init__()` *initializes* the object.\n",
    "    '''\n",
    "    def __init__(self, first, last, nyu_id):   # initializer\n",
    "        print(\"In __init__()!\")\n",
    "        self.first_name = first\n",
    "        self.last_name = last\n",
    "        self.nyu_id = nyu_id\n",
    "        \n",
    "    def __str__(self):\n",
    "        return \"{} {}: ({})\".format(self.first_name,\n",
    "                                    self.last_name,\n",
    "                                    self.nyu_id)\n",
    "\n",
    "    def __len__(self):\n",
    "        return len(self.first_name) + len(self.last_name)"
   ]
  },
  {
   "cell_type": "code",
   "execution_count": 26,
   "metadata": {},
   "outputs": [
    {
     "name": "stdout",
     "output_type": "stream",
     "text": [
      "In __init__()!\n",
      "In __init__()!\n",
      "Porgie Tirebiter: (N23423)\n",
      "Porgie Tirebiter: (N23423)\n",
      "Porgie Tirebiter: (N23423)\n",
      "15\n",
      "2\n"
     ]
    }
   ],
   "source": [
    "new_student = Student(\"Porgie\", \"Tirebiter\", \"N23423\")\n",
    "another_student = Student(\"X\", \"Y\", \"N20099\")\n",
    "print(new_student)\n",
    "# we *could* write:\n",
    "s = new_student.__str__()\n",
    "print(s)\n",
    "# but instead we should write:\n",
    "s = str(new_student)\n",
    "print(s)\n",
    "print(len(new_student))\n",
    "print(len(another_student))"
   ]
  },
  {
   "cell_type": "markdown",
   "metadata": {},
   "source": [
    "Objects have attributes that are stored within the object (first_name_str, last_name_str, nyu_num)\n",
    "\n",
    "Objects can be interacted with via their methods, which may or may not change the attribute's values in the object.\n",
    "\n",
    "You've been using classes already:\n",
    "\n",
    "Examples: `list`, `dict`, `tuple`, `str`, `int`, `float`.\n",
    "\n",
    "Think of a class as a blueprint for making objects.  A blueprint is a document that defines how to construct a building (house, etc.) You can make variations from that, but the blueprint can be used over and over again to make houses that have the same design (number of rooms, number of bathrooms, placement of windows), but different attribute values (color of front door, size of walkway, flooring material).\n",
    "\n",
    "`student_name` is a specific object that has been created and intialized (instantiated)."
   ]
  },
  {
   "cell_type": "code",
   "execution_count": null,
   "metadata": {},
   "outputs": [],
   "source": [
    "student_name = \"Anakin Skywalker\"\n",
    "revised_name = student_name.lower() \n",
    "print(revised_name)\n",
    "print(id(student_name), id(revised_name))"
   ]
  },
  {
   "cell_type": "markdown",
   "metadata": {},
   "source": [
    "`another_student` is a second string object:"
   ]
  },
  {
   "cell_type": "code",
   "execution_count": null,
   "metadata": {},
   "outputs": [],
   "source": [
    "another_student = \"Kylo Ren\"\n",
    "print(id(another_student))"
   ]
  },
  {
   "cell_type": "markdown",
   "metadata": {},
   "source": [
    "We can see the details of a class by calling the built-in `dir()` function:"
   ]
  },
  {
   "cell_type": "code",
   "execution_count": null,
   "metadata": {},
   "outputs": [],
   "source": [
    "dir(str)"
   ]
  },
  {
   "cell_type": "markdown",
   "metadata": {},
   "source": [
    "### Terminology Notes\n",
    "\n",
    "**Class**: class is a template for making a new object of a given type (like `int`, `string`, or your own type)\n",
    "\n",
    "**Instance**: an object made from a class is an *instance* of that class (student_name is a string instance).\n",
    "\n",
    "Class can \"stamp out\" instances (infinite number), like a cookie cutter.\n",
    "\n",
    "The `int` type is a class which models the representation of an integer, which includes operations that can be performed on instances of the int type. "
   ]
  },
  {
   "cell_type": "markdown",
   "metadata": {},
   "source": [
    "### Built-In Classes and Instances\n",
    "\n",
    "Data structures that are built into the language already are defined as a class:\n",
    "`list`, `tuple`, `dict`, `string`, etc.\n",
    "\n",
    "You can make an instance of these using the built-in constructors:"
   ]
  },
  {
   "cell_type": "code",
   "execution_count": null,
   "metadata": {},
   "outputs": [],
   "source": [
    "some_list = [1, 2, 3] \n",
    "some_dict = dict(food=1, beverage=2, desert=3)\n",
    "string = str(123.4)"
   ]
  },
  {
   "cell_type": "code",
   "execution_count": null,
   "metadata": {},
   "outputs": [],
   "source": [
    "print(type(some_list), type(some_dict), type(string))"
   ]
  },
  {
   "cell_type": "markdown",
   "metadata": {},
   "source": [
    "### Example: Let's Play Dice!\n",
    "\n",
    "First, we will create our `Die` object:"
   ]
  },
  {
   "cell_type": "code",
   "execution_count": null,
   "metadata": {},
   "outputs": [],
   "source": [
    "import random\n",
    "\n",
    "DEF_FACES = 6\n",
    "\n",
    "class Die():\n",
    "    '''\n",
    "    A class to represent a die for playing games with.\n",
    "    Just has a single field: which face is up.\n",
    "    '''\n",
    "    def __init__(self, faces=DEF_FACES):\n",
    "        self.num_faces = faces\n",
    "        self.face = 1\n",
    "\n",
    "    def roll(self):\n",
    "        self.face = random.randint(1, self.num_faces)\n",
    "\n",
    "    def get_value(self):\n",
    "        return self.face\n",
    "    \n",
    "    def __str__(self):\n",
    "        return \"Die with face value of \" + str(self.get_value())"
   ]
  },
  {
   "cell_type": "code",
   "execution_count": null,
   "metadata": {},
   "outputs": [],
   "source": [
    "new_die = Die()\n",
    "print(\"new_die value = \", new_die.get_value())\n",
    "new_die.roll()\n",
    "print(\"new_die value = \", new_die.get_value())\n",
    "print(new_die)"
   ]
  },
  {
   "cell_type": "markdown",
   "metadata": {},
   "source": [
    "Now let's use it:"
   ]
  },
  {
   "cell_type": "code",
   "execution_count": null,
   "metadata": {},
   "outputs": [],
   "source": [
    "die1 = Die(faces=8)\n",
    "die2 = Die(faces=2)\n",
    "\n",
    "for _ in range(1, 20):\n",
    "    die1.roll()\n",
    "    die2.roll()\n",
    "\n",
    "    print(die1.get_value(), die2.get_value())"
   ]
  },
  {
   "cell_type": "markdown",
   "metadata": {},
   "source": [
    "### Shall We Work on Our Game?\n",
    "\n"
   ]
  },
  {
   "cell_type": "code",
   "execution_count": null,
   "metadata": {},
   "outputs": [],
   "source": [
    "# Let's make a character class!"
   ]
  },
  {
   "cell_type": "markdown",
   "metadata": {},
   "source": [
    "### A Playlist App\n",
    "\n"
   ]
  },
  {
   "cell_type": "code",
   "execution_count": null,
   "metadata": {},
   "outputs": [],
   "source": [
    "class Song:\n",
    "    def __init__(self, artist, song_title, record_label=\"Unknown Label\",\n",
    "                 runtime=(0, 0), genre=None):\n",
    "        self.artist = artist\n",
    "        self.title = song_title\n",
    "        self.label = record_label\n",
    "        self.runtime = runtime\n",
    "        self.genre = genre\n",
    "    \n",
    "    def __str__(self):\n",
    "        return \"'{}' by {} ({}): {:d}:{:02d}, Genre: {}\".format(self.title,\n",
    "                                                     self.artist,\n",
    "                                                     self.label,\n",
    "                                                     self.runtime[0],\n",
    "                                                     self.runtime[1],\n",
    "                                                     self.genre)"
   ]
  },
  {
   "cell_type": "code",
   "execution_count": null,
   "metadata": {},
   "outputs": [],
   "source": [
    "my_song = Song(\"Elton John\", \"My Song\")\n",
    "print(my_song)"
   ]
  },
  {
   "cell_type": "code",
   "execution_count": null,
   "metadata": {},
   "outputs": [],
   "source": [
    "mylist = []\n",
    "dir(mylist)"
   ]
  },
  {
   "cell_type": "code",
   "execution_count": null,
   "metadata": {},
   "outputs": [],
   "source": [
    "class Playlist:\n",
    "    def __init__(self, name, songs=[]):\n",
    "        self.name = name\n",
    "        self.songs = songs.copy()\n",
    "\n",
    "    def add_song(self, artist=None, song_title=None, record_label=None,\n",
    "                 runtime=None, genre=None):\n",
    "        new_song = Song(artist, song_title, record_label, runtime, genre)\n",
    "        self.songs.append(new_song)\n",
    "        \n",
    "    def get_playlist_length(self):\n",
    "        return len(self.songs)\n",
    "    \n",
    "    def get_total_runtime(self):\n",
    "        total_minutes = 0\n",
    "        total_seconds = 0\n",
    "        for songs in self.songs:\n",
    "            total_minutes += songs.runtime[0]\n",
    "            total_seconds += songs.runtime[1]\n",
    "        \n",
    "        total_minutes += total_seconds // 60\n",
    "        total_seconds = total_seconds % 60\n",
    "        return (total_minutes, total_seconds)\n",
    "\n",
    "    def __add__(self, other):\n",
    "        return Playlist(self.name + \" + \" + other.name, self.songs + other.songs)\n",
    "    \n",
    "    def __mul__(self, num_times):\n",
    "        return Playlist(self.name + \" * \" + str(num_times), self.songs * num_times)\n",
    "   \n",
    "    def __str__(self):\n",
    "        totmin, totsec = self.get_total_runtime()\n",
    "        result = \"{} (total run time of {:d}:{:02d})\\n\".format(self.name, totmin, totsec)\n",
    "        for song in self.songs:\n",
    "            result += \" \" * 5 + str(song) + \"\\n\"\n",
    "        return result\n",
    "    \n",
    "    # def __iter__(self):\n",
    "    #    return iter(self.songs)\n",
    "    \n",
    "    def __getitem__(self, index):\n",
    "        return self.songs[index]"
   ]
  },
  {
   "cell_type": "code",
   "execution_count": null,
   "metadata": {
    "scrolled": true
   },
   "outputs": [],
   "source": [
    "hits = Playlist(\"Top 100 - 4/10/20\")\n",
    "\n",
    "hits.add_song(\"Drake\", \"Toosie Slide\", \"Republic\", (3, 4), \"Rap\")\n",
    "hits.add_song(\"The Weeknd\", \"Blinding Lights\", \"Republic\", (3, 11))\n",
    "hits.add_song(\"Roddy Ricch\", \"The Box\", \"Atlantic Records\", (2, 59))\n",
    "hits.add_song(\"Megan Thee Stallion\", \"Savage\", None, (2, 59))\n",
    "# print(hits)\n",
    "for song in hits:\n",
    "    print(song)\n",
    "\n",
    "print(dir(hits))\n",
    "\n",
    "fela = Playlist(\"Fela\", [])\n",
    "fela.add_song(\"Fela Kuti\", \"Mr. Follow Follow\", \"Island\", (12, 4), \"Afrobeat\")\n",
    "fela.add_song(\"Fela Kuti\", \"I Be Lady\", \"Island\", (15, 44), \"Afrobeat\")\n",
    "# print(fela)\n",
    "\n",
    "'''\n",
    "lots_of_fela = fela * 4\n",
    "print(lots_of_fela)\n",
    "\n",
    "combined_list = hits + lots_of_fela + hits\n",
    "\n",
    "print(combined_list)\n",
    "\n",
    "print(\"6th item in list:\", combined_list[5])\n",
    "'''\n"
   ]
  },
  {
   "cell_type": "markdown",
   "metadata": {},
   "source": [
    "### Dunder methods\n",
    "\n",
    "These are special methods for objects that have a *double underscore* to start and end the name of the method.\n",
    "\n",
    "We've already met `__init__()` and `__str__()`. There are many more. They allow our class to respond properly to built-in Python functions and operators."
   ]
  },
  {
   "cell_type": "code",
   "execution_count": null,
   "metadata": {},
   "outputs": [],
   "source": [
    "class FunnyString(object):\n",
    "    def __init__(self, value):\n",
    "        self.value = value\n",
    "        \n",
    "    def __str__(self):\n",
    "        return str(self.value)\n",
    "    \n",
    "    def __len__(self):\n",
    "        return 5000000\n",
    "    \n",
    "    def __add__(self, str2):\n",
    "#    str1 + str2 => str1.__add__(str2)\n",
    "        temp = self.value\n",
    "        self.value = str2.value\n",
    "        str2.value = temp\n",
    "\n",
    "    def __sub__(self, param2):\n",
    "        new_str = self.value\n",
    "        for c in param2.value:\n",
    "            new_str = new_str.replace(c, '')\n",
    "        return FunnyString(new_str)\n",
    "    \n",
    "    def __mul__(self, param2):\n",
    "        return 42\n",
    "    \n",
    "    def __call__(self):\n",
    "        return \"You called?\""
   ]
  },
  {
   "cell_type": "code",
   "execution_count": null,
   "metadata": {},
   "outputs": [],
   "source": [
    "the_string = \"DO NOT WRITE ON THE BACK OF ANY PAGE!\"\n",
    "print('The length of the string the_string is {}.'.format(len(the_string)))\n",
    "\n",
    "a_string = FunnyString(the_string)\n",
    "print('The value of a_string is {}.'.format(a_string))\n",
    "print('The length of the FunnyString object a_string is {}.'.format(len(a_string)))\n",
    "\n",
    "b_string = FunnyString(\"RUTGERS\")\n",
    "result = a_string - b_string\n",
    "print(a_string)\n",
    "print(b_string)\n",
    "print(result)\n",
    "print(type(result))\n",
    "print(a_string())"
   ]
  },
  {
   "cell_type": "markdown",
   "metadata": {},
   "source": [
    "#### A Complex Number Class"
   ]
  },
  {
   "cell_type": "code",
   "execution_count": null,
   "metadata": {},
   "outputs": [],
   "source": [
    "class Complex(object):\n",
    "    '''\n",
    "    A complex number class.\n",
    "    '''\n",
    "    def __init__(self, real=0.0, imag=0.0):\n",
    "        self.real = real\n",
    "        self.imag = imag\n",
    "\n",
    "    def __str__(self):\n",
    "        return str(self.real) + \" + \" + str(self.imag) + 'i'\n",
    "    \n",
    "    def __sub__(self, other):\n",
    "        return Complex(self.real - other.real, self.imag - other.imag)\n",
    "    \n",
    "    def __add__(self, other):\n",
    "        return Complex(self.real + other.real, self.imag + other.imag)\n",
    "\n",
    "    def __iadd__(self, other):\n",
    "        self.real += other.real\n",
    "        self.imag += other.imag\n",
    "        return self\n",
    "    \n",
    "    def __gt__(self, other):\n",
    "        return (self.real > other.real) and (self.imag > other.imag)\n",
    "    \n",
    "    def __eq__(self, other):\n",
    "        return (self.real == other.real) and (self.imag == other.imag)\n",
    "\n",
    "    \n",
    "two = Complex(2.0, 2.0)\n",
    "one = Complex(1.0, 1.0)\n",
    "other_four = Complex(4.0, 4.0)\n",
    "print(two)   # equivalent to print(str(zero))\n",
    "print(one)\n",
    "three = two + one\n",
    "print(\"Three before +=\", three)\n",
    "three += two\n",
    "print(\"Three after +=\", three)\n",
    "four = three - one\n",
    "print(\"four = \", four)\n",
    "print(\"four > one:\", four > one)\n",
    "print(\"four == other_four:\", four == other_four)\n",
    "print(\"id(four), id(other_four):\", id(four), id(other_four))"
   ]
  },
  {
   "cell_type": "markdown",
   "metadata": {},
   "source": [
    "#### Some Dunder Methods"
   ]
  },
  {
   "cell_type": "markdown",
   "metadata": {},
   "source": [
    "#### Math\n",
    "\n",
    "- `__add__()`: Addition --> x+y\n",
    "\n",
    "- `__sub__()`: Subtraction --> x-y\n",
    "\n",
    "- `__mul__()`: Multiplication --> x*y\n",
    "\n",
    "- `__div__()`: Division --> x/y\n",
    "\n",
    "- `__iadd__()`: +=\n",
    "\n",
    "- `__isub__()`: -=\n",
    "\n",
    "- `__imul__()`: *=\n",
    "\n",
    "- `__idiv__()`: /=\n",
    "\n",
    "\n",
    "\n",
    "#### Comparisons\n",
    "\n",
    "- `__eq__()`: Equality --> x == y\n",
    "\n",
    "- `__gt__()`: Greater Than --> x > y\n",
    "\n",
    "- `__ge__()`: Greater Than Or Equal --> x >= y\n",
    "\n",
    "- `__lt__()`: Less Than --> x < y\n",
    "\n",
    "- `__le__()`: Less Than Or Equal --> x <= y\n",
    "\n",
    "- `__ne__()`: Not Equal --> x != y\n",
    "\n",
    "\n",
    "#### Collections\n",
    "\n",
    "- `__len__()`: Length --> len(x)\n",
    "\n",
    "- `__contains__()`: Does the sequence x, contain y --> x in y\n",
    "\n",
    "- `__getitem__()`: Access element key of sequence x --> x[key]\n",
    "\n",
    "- `__setitem__()`: Set element key of sequence x to value y -> x[key]=y\n",
    "\n",
    "- `__iter__()`: Return an iterator over the collection.\n",
    "\n",
    "\n",
    "#### General methods\n",
    "\n",
    "- `__init__()`: Constructor --> x = MyClass()\n",
    "\n",
    "- `__str__()`: Convert to a readable string --> print(x), str(x)\n",
    "\n",
    "- `__repr__()`: returns a representation of x --> x.__repr__() or repr(x)"
   ]
  },
  {
   "cell_type": "code",
   "execution_count": null,
   "metadata": {},
   "outputs": [],
   "source": []
  }
 ],
 "metadata": {
  "kernelspec": {
   "display_name": "Python 3",
   "language": "python",
   "name": "python3"
  },
  "language_info": {
   "codemirror_mode": {
    "name": "ipython",
    "version": 3
   },
   "file_extension": ".py",
   "mimetype": "text/x-python",
   "name": "python",
   "nbconvert_exporter": "python",
   "pygments_lexer": "ipython3",
   "version": "3.9.0"
  }
 },
 "nbformat": 4,
 "nbformat_minor": 2
}
