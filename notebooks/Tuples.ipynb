{
 "cells": [
  {
   "cell_type": "markdown",
   "metadata": {},
   "source": [
    "## Tuples"
   ]
  },
  {
   "cell_type": "markdown",
   "metadata": {},
   "source": [
    "*Tuples* are sequences like lists, except immutable."
   ]
  },
  {
   "cell_type": "code",
   "execution_count": 1,
   "metadata": {},
   "outputs": [
    {
     "name": "stdout",
     "output_type": "stream",
     "text": [
      "5\n"
     ]
    },
    {
     "ename": "TypeError",
     "evalue": "'tuple' object does not support item assignment",
     "output_type": "error",
     "traceback": [
      "\u001b[0;31m---------------------------------------------------------------------------\u001b[0m",
      "\u001b[0;31mTypeError\u001b[0m                                 Traceback (most recent call last)",
      "\u001b[0;32m<ipython-input-1-9b99c44d4a4b>\u001b[0m in \u001b[0;36m<module>\u001b[0;34m\u001b[0m\n\u001b[1;32m      2\u001b[0m \u001b[0mprint\u001b[0m\u001b[0;34m(\u001b[0m\u001b[0mmy_tuple\u001b[0m\u001b[0;34m[\u001b[0m\u001b[0;36m0\u001b[0m\u001b[0;34m]\u001b[0m\u001b[0;34m)\u001b[0m\u001b[0;34m\u001b[0m\u001b[0;34m\u001b[0m\u001b[0m\n\u001b[1;32m      3\u001b[0m \u001b[0;31m# can't do the following!\u001b[0m\u001b[0;34m\u001b[0m\u001b[0;34m\u001b[0m\u001b[0;34m\u001b[0m\u001b[0m\n\u001b[0;32m----> 4\u001b[0;31m \u001b[0mmy_tuple\u001b[0m\u001b[0;34m[\u001b[0m\u001b[0;36m0\u001b[0m\u001b[0;34m]\u001b[0m \u001b[0;34m=\u001b[0m \u001b[0;36m7\u001b[0m\u001b[0;34m\u001b[0m\u001b[0;34m\u001b[0m\u001b[0m\n\u001b[0m\u001b[1;32m      5\u001b[0m \u001b[0;34m\u001b[0m\u001b[0m\n\u001b[1;32m      6\u001b[0m \u001b[0malso_a_tuple\u001b[0m \u001b[0;34m=\u001b[0m \u001b[0;34m(\u001b[0m\u001b[0;36m4\u001b[0m\u001b[0;34m,\u001b[0m \u001b[0;36m8\u001b[0m\u001b[0;34m,\u001b[0m \u001b[0;36m12\u001b[0m\u001b[0;34m)\u001b[0m\u001b[0;34m\u001b[0m\u001b[0;34m\u001b[0m\u001b[0m\n",
      "\u001b[0;31mTypeError\u001b[0m: 'tuple' object does not support item assignment"
     ]
    }
   ],
   "source": [
    "my_tuple = 5, 10\n",
    "print(my_tuple[0])\n",
    "# can't do the following!\n",
    "my_tuple[0] = 7\n",
    "\n",
    "also_a_tuple = (4, 8, 12)\n",
    "print(also_a_tuple[1])"
   ]
  },
  {
   "cell_type": "markdown",
   "metadata": {},
   "source": [
    "Why would we want such a type? Well, for instance, we might be assigning something like GPS coordinates to cities: since we don't expect the cities to be roaming around, we don't want the coordinates changed: tuples do the job! (Note: this is an actual use for mixing types in a sequence.)"
   ]
  },
  {
   "cell_type": "code",
   "execution_count": 9,
   "metadata": {},
   "outputs": [],
   "source": [
    "NYC_COORDS = (40.7128, \"N\", 74.0060, \"W\")\n",
    "MILFORD_COORDS = (41.3223, \"N\", 74.8024, \"W\")"
   ]
  },
  {
   "cell_type": "markdown",
   "metadata": {},
   "source": [
    "Or consider or earlier example of a list containing the names of the days of the week. Do we really think these might need to be changed *in the middle of a run of our program*? (Of course, in the future, we might rename some day, but it will be a *major* change announced way in advance.) So we might better write:"
   ]
  },
  {
   "cell_type": "code",
   "execution_count": 5,
   "metadata": {},
   "outputs": [],
   "source": [
    "WEEKDAYS = (\"Monday\", \"Tuesday\", \"Wednesday\", \"Thursday\", \"Friday\")"
   ]
  },
  {
   "cell_type": "markdown",
   "metadata": {},
   "source": [
    "Parentheses without a comma inside are regarded as grouping, like `6 * (3 + 4)`, not as a tuple:"
   ]
  },
  {
   "cell_type": "code",
   "execution_count": 3,
   "metadata": {},
   "outputs": [
    {
     "name": "stdout",
     "output_type": "stream",
     "text": [
      "<class 'tuple'>\n",
      "<class 'str'>\n",
      "<class 'tuple'>\n"
     ]
    }
   ],
   "source": [
    "is_a_tuple = (1, 0)\n",
    "print(type(is_a_tuple))\n",
    "\n",
    "not_a_tuple = (\"Hello\")\n",
    "print(type(not_a_tuple))\n",
    "\n",
    "might_be_a_tuple = (\"Hello\",)\n",
    "print(type(might_be_a_tuple))"
   ]
  },
  {
   "cell_type": "code",
   "execution_count": null,
   "metadata": {},
   "outputs": [],
   "source": [
    "x, y = 'a', 3.14159\n",
    "print(x)\n",
    "print(y)\n",
    "\n",
    "z = x, y\n",
    "print(z)\n",
    "print(type(z))\n",
    "\n",
    "\n",
    "input(\"Enter to continue...\")\n",
    "print()"
   ]
  },
  {
   "cell_type": "markdown",
   "metadata": {},
   "source": [
    "### Lists versus tuples\n",
    "\n",
    "- operators `+` and `*` work with tuples\n",
    "- slicing also works\n",
    "- membership (`in`) and `for` iteration are the same as with lists.\n",
    "- `len`, `min`, `max`, `>`, `<`, , `>=`, `<=`, `sum` work on tuples\n",
    "- operations that change lists don't work on tuples (`extend`, `insert`, `remove`, `pop`, `reverse`, `sort`)"
   ]
  },
  {
   "cell_type": "code",
   "execution_count": 6,
   "metadata": {},
   "outputs": [
    {
     "name": "stdout",
     "output_type": "stream",
     "text": [
      "True\n"
     ]
    }
   ],
   "source": [
    "print(\"Tuesday\" in WEEKDAYS)"
   ]
  },
  {
   "cell_type": "code",
   "execution_count": 7,
   "metadata": {},
   "outputs": [
    {
     "name": "stdout",
     "output_type": "stream",
     "text": [
      "Monday is a weekday.\n",
      "Tuesday is a weekday.\n",
      "Wednesday is a weekday.\n",
      "Thursday is a weekday.\n",
      "Friday is a weekday.\n"
     ]
    }
   ],
   "source": [
    "for day in WEEKDAYS:\n",
    "    print(day, \"is a weekday.\")"
   ]
  },
  {
   "cell_type": "code",
   "execution_count": 21,
   "metadata": {},
   "outputs": [
    {
     "name": "stdout",
     "output_type": "stream",
     "text": [
      "(40.7128, 'N', 74.006, 'W', 'Monday', 'Tuesday', 'Wednesday', 'Thursday', 'Friday')\n",
      "(40.7128, 'N', 74.006, 'W', 'Monday', 'Tuesday', 'Wednesday', 'Thursday', 'Friday')\n",
      "ID of new_tuple: 139748943115632 ID of new_tuple_alt_name: 139748943115632\n",
      "Is new_tuple same object as new_tuple_alt_name? True\n"
     ]
    }
   ],
   "source": [
    "new_tuple = NYC_COORDS + WEEKDAYS\n",
    "new_tuple_alt_name = new_tuple\n",
    "print(new_tuple)\n",
    "print(new_tuple_alt_name)\n",
    "print(\"ID of new_tuple:\", id(new_tuple),\n",
    "      \"ID of new_tuple_alt_name:\",\n",
    "      id(new_tuple_alt_name))\n",
    "print(\"Is new_tuple same object as new_tuple_alt_name?\",\n",
    "     new_tuple is new_tuple_alt_name)"
   ]
  },
  {
   "cell_type": "code",
   "execution_count": 23,
   "metadata": {},
   "outputs": [
    {
     "name": "stdout",
     "output_type": "stream",
     "text": [
      "('Monday', 'Tuesday', 'Wednesday', 'Thursday', 'Friday', 'Monday', 'Tuesday', 'Wednesday', 'Thursday', 'Friday', 'Monday', 'Tuesday', 'Wednesday', 'Thursday', 'Friday', 'Monday', 'Tuesday', 'Wednesday', 'Thursday', 'Friday')\n",
      "****************************************\n",
      "(40.7128, 'N', 74.006, 'W', 'Monday', 'Tuesday', 'Wednesday', 'Thursday', 'Friday')\n",
      "ID of new_tuple: 139748948627176 ID of new_tuple_alt_name: 139748943115632\n",
      "Is new_tuple same object as new_tuple_alt_name? False\n"
     ]
    }
   ],
   "source": [
    "new_tuple = WEEKDAYS * 4\n",
    "print(new_tuple)\n",
    "print(\"*\" * 40)\n",
    "print(new_tuple_alt_name)\n",
    "print(\"ID of new_tuple:\", id(new_tuple),\n",
    "      \"ID of new_tuple_alt_name:\",\n",
    "      id(new_tuple_alt_name))\n",
    "print(\"Is new_tuple same object as new_tuple_alt_name?\",\n",
    "     new_tuple is new_tuple_alt_name)"
   ]
  },
  {
   "cell_type": "code",
   "execution_count": 25,
   "metadata": {},
   "outputs": [
    {
     "name": "stdout",
     "output_type": "stream",
     "text": [
      "Is new_tuple_alt_name equal in value to new_tuple? True\n",
      "Is new_tuple same object as new_tuple_alt_name? False\n"
     ]
    }
   ],
   "source": [
    "new_tuple_alt_name = WEEKDAYS * 4\n",
    "print(\"Is new_tuple_alt_name equal in value to new_tuple?\",\n",
    "     new_tuple_alt_name == new_tuple)\n",
    "print(\"Is new_tuple same object as new_tuple_alt_name?\",\n",
    "     new_tuple is new_tuple_alt_name)"
   ]
  },
  {
   "cell_type": "code",
   "execution_count": null,
   "metadata": {},
   "outputs": [],
   "source": [
    "# Tuples from lists\n",
    "a_list = [2, 4, 6, 8]\n",
    "a_tuple = tuple(a_list)\n",
    "a_list[0] = 0\n",
    "print(a_tuple)"
   ]
  },
  {
   "cell_type": "code",
   "execution_count": null,
   "metadata": {},
   "outputs": [],
   "source": []
  }
 ],
 "metadata": {
  "kernelspec": {
   "display_name": "Python 3",
   "language": "python",
   "name": "python3"
  },
  "language_info": {
   "codemirror_mode": {
    "name": "ipython",
    "version": 3
   },
   "file_extension": ".py",
   "mimetype": "text/x-python",
   "name": "python",
   "nbconvert_exporter": "python",
   "pygments_lexer": "ipython3",
   "version": "3.6.9"
  }
 },
 "nbformat": 4,
 "nbformat_minor": 2
}
