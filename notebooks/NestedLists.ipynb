{
 "cells": [
  {
   "cell_type": "markdown",
   "metadata": {},
   "source": [
    "# Nested Lists and Nested Loops"
   ]
  },
  {
   "cell_type": "markdown",
   "metadata": {},
   "source": [
    "Here is a nested list, in this case of students' grades:"
   ]
  },
  {
   "cell_type": "code",
   "execution_count": 2,
   "metadata": {},
   "outputs": [],
   "source": [
    "grades = [\n",
    "    [\"N23414\", 87.9, 92.1, 76.5],\n",
    "    [\"N96567\", 67.9, 82.4, 75.6],\n",
    "    [\"N20953\", 45.3, 52.1, 56.9],\n",
    "    [\"N86324\", 97.9, 94.4, 96.5],\n",
    "]"
   ]
  },
  {
   "cell_type": "markdown",
   "metadata": {},
   "source": [
    "How do we loop over this?"
   ]
  },
  {
   "cell_type": "code",
   "execution_count": 4,
   "metadata": {},
   "outputs": [],
   "source": [
    "# Here we will do progressive code refinement:\n",
    "# lecture 1 we will skip this."
   ]
  },
  {
   "cell_type": "markdown",
   "metadata": {},
   "source": [
    "Here is a triply nested list:"
   ]
  },
  {
   "cell_type": "code",
   "execution_count": 5,
   "metadata": {},
   "outputs": [],
   "source": [
    "weather_readings = [\n",
    "    [\"Vladivostock\",\n",
    "     [28, 12, 21],\n",
    "     [22, 5, 16],\n",
    "     [24, 1, 12],\n",
    "    ],\n",
    "    [\"Manilla\",\n",
    "     [92, 81, 86],\n",
    "     [94, 82, 87],\n",
    "     [91, 80, 85],\n",
    "    ],\n",
    "    [\"Accra\",\n",
    "     [86, 80, 83],\n",
    "     [88, 81, 84],\n",
    "     [87, 79, 83],\n",
    "    ],\n",
    "    [\"Brooklyn\",\n",
    "     [57, 41, 48],\n",
    "     [50, 36, 42],\n",
    "     [48, 32, 40],\n",
    "    ],\n",
    "]"
   ]
  },
  {
   "cell_type": "markdown",
   "metadata": {},
   "source": [
    "Let write a program to get the average high, average low, and mean."
   ]
  },
  {
   "cell_type": "code",
   "execution_count": null,
   "metadata": {},
   "outputs": [],
   "source": []
  }
 ],
 "metadata": {
  "kernelspec": {
   "display_name": "Python 3",
   "language": "python",
   "name": "python3"
  },
  "language_info": {
   "codemirror_mode": {
    "name": "ipython",
    "version": 3
   },
   "file_extension": ".py",
   "mimetype": "text/x-python",
   "name": "python",
   "nbconvert_exporter": "python",
   "pygments_lexer": "ipython3",
   "version": "3.6.2"
  }
 },
 "nbformat": 4,
 "nbformat_minor": 2
}
