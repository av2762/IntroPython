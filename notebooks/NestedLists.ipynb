{
 "cells": [
  {
   "cell_type": "markdown",
   "metadata": {},
   "source": [
    "# Nested Lists and Nested Loops"
   ]
  },
  {
   "cell_type": "markdown",
   "metadata": {},
   "source": [
    "Here is a nested list, in this case of students' grades:"
   ]
  },
  {
   "cell_type": "code",
   "execution_count": 2,
   "metadata": {},
   "outputs": [],
   "source": [
    "grades = [\n",
    "    [\"N23414\", 87.9, 92.1, 76.5],\n",
    "    [\"N96567\", 67.9, 82.4, 75.6],\n",
    "    [\"N20953\", 45.3, 52.1, 56.9],\n",
    "    [\"N86324\", 97.9, 94.4, 96.5],\n",
    "]"
   ]
  },
  {
   "cell_type": "markdown",
   "metadata": {},
   "source": [
    "How do we loop over this?"
   ]
  },
  {
   "cell_type": "code",
   "execution_count": 4,
   "metadata": {},
   "outputs": [],
   "source": [
    "# Here we will do progressive code refinement:\n",
    "# lecture 1 we will skip this."
   ]
  },
  {
   "cell_type": "markdown",
   "metadata": {},
   "source": [
    "Here is a triply nested list:"
   ]
  },
  {
   "cell_type": "code",
   "execution_count": 17,
   "metadata": {},
   "outputs": [],
   "source": [
    "# we want to name our indices with constants:\n",
    "CITY_NAME_IDX = 0\n",
    "HIGH_IDX = 0\n",
    "LOW_IDX = 1\n",
    "MEAN_IDX = 2\n",
    "\n",
    "weather_readings = [\n",
    "    [\"Vladivostock\",\n",
    "     [28, 12, 21],\n",
    "     [22, 5, 16],\n",
    "     [24, 1, 12],\n",
    "    ],\n",
    "    [\"Manilla\",\n",
    "     [92, 81, 86],\n",
    "     [94, 82, 87],\n",
    "     [91, 80, 85],\n",
    "    ],\n",
    "    [\"Accra\",\n",
    "     [86, 80, 83],\n",
    "     [88, 81, 84],\n",
    "     [87, 79, 83],\n",
    "    ],\n",
    "    [\"Brooklyn\",\n",
    "     [57, 41, 48],\n",
    "     [50, 36, 42],\n",
    "     [48, 32, 40],\n",
    "     [44, 28, 37],\n",
    "    ],\n",
    "]"
   ]
  },
  {
   "cell_type": "markdown",
   "metadata": {},
   "source": [
    "Let write a program to get the average high, average low, and mean."
   ]
  },
  {
   "cell_type": "code",
   "execution_count": null,
   "metadata": {},
   "outputs": [],
   "source": []
  },
  {
   "cell_type": "code",
   "execution_count": null,
   "metadata": {},
   "outputs": [],
   "source": []
  },
  {
   "cell_type": "code",
   "execution_count": null,
   "metadata": {},
   "outputs": [],
   "source": []
  },
  {
   "cell_type": "code",
   "execution_count": null,
   "metadata": {},
   "outputs": [],
   "source": []
  },
  {
   "cell_type": "code",
   "execution_count": null,
   "metadata": {},
   "outputs": [],
   "source": []
  },
  {
   "cell_type": "code",
   "execution_count": null,
   "metadata": {},
   "outputs": [],
   "source": []
  },
  {
   "cell_type": "code",
   "execution_count": null,
   "metadata": {},
   "outputs": [],
   "source": []
  },
  {
   "cell_type": "code",
   "execution_count": null,
   "metadata": {},
   "outputs": [],
   "source": []
  },
  {
   "cell_type": "code",
   "execution_count": null,
   "metadata": {},
   "outputs": [],
   "source": []
  },
  {
   "cell_type": "code",
   "execution_count": null,
   "metadata": {},
   "outputs": [],
   "source": []
  },
  {
   "cell_type": "code",
   "execution_count": 27,
   "metadata": {},
   "outputs": [
    {
     "name": "stdout",
     "output_type": "stream",
     "text": [
      "For Vladivostock, avg. high: 24.7, avg. low:  6.0, mean: 16.3\n",
      "For Manilla, avg. high: 92.3, avg. low: 81.0, mean: 86.0\n",
      "For Accra, avg. high: 87.0, avg. low: 80.0, mean: 83.3\n",
      "For Brooklyn, avg. high: 49.8, avg. low: 34.2, mean: 41.8\n"
     ]
    }
   ],
   "source": [
    "for city in weather_readings:\n",
    "    city_nm = city[CITY_NAME_IDX]\n",
    "    high_sum = 0\n",
    "    low_sum = 0\n",
    "    mean_sum = 0\n",
    "    for day in city[1:]:  # same as [1:len(city):1]\n",
    "        for i, temp in enumerate(day):\n",
    "            if i == HIGH_IDX:\n",
    "                high_sum += temp\n",
    "            elif i == LOW_IDX:\n",
    "                low_sum += temp\n",
    "            elif i == MEAN_IDX:\n",
    "                mean_sum += temp\n",
    "            else:\n",
    "                break\n",
    "    num_days = len(city) - 1\n",
    "    high_avg = high_sum / num_days\n",
    "    low_avg = low_sum / num_days\n",
    "    mean_avg = mean_sum / num_days\n",
    "    print(\"For {}, avg. high: {:4.1f}, avg. low: {:4.1f}, mean: {:4.1f}\".format(city_nm,\n",
    "                                                                                high_avg,\n",
    "                                                                                low_avg,\n",
    "                                                                                mean_avg))"
   ]
  },
  {
   "cell_type": "code",
   "execution_count": null,
   "metadata": {},
   "outputs": [],
   "source": []
  }
 ],
 "metadata": {
  "kernelspec": {
   "display_name": "Python 3",
   "language": "python",
   "name": "python3"
  },
  "language_info": {
   "codemirror_mode": {
    "name": "ipython",
    "version": 3
   },
   "file_extension": ".py",
   "mimetype": "text/x-python",
   "name": "python",
   "nbconvert_exporter": "python",
   "pygments_lexer": "ipython3",
   "version": "3.6.2"
  }
 },
 "nbformat": 4,
 "nbformat_minor": 2
}
