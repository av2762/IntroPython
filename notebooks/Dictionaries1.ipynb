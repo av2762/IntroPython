{
 "cells": [
  {
   "cell_type": "markdown",
   "metadata": {},
   "source": [
    "# Dictionaries"
   ]
  },
  {
   "cell_type": "markdown",
   "metadata": {},
   "source": [
    "Like lists and tuples, a *dictionary* is a *collection* of data.\n",
    "\n",
    "Unlike strings, lists and tuples it's not a *sequence* of data.\n",
    "\n",
    "Instead of sequential access, dictionaries are accessed by a *key*. Search for a key, obtain a value. They are designed to be very efficient.\n",
    "\n",
    "Dictionaries are also known as *maps*, *associative arrays* or *hash tables*.\n",
    "\n",
    "- **Dictionary**: the *key* is like the word we use to look up a definition (the *value*).\n",
    "- **Map**: the *key* maps to a *value*.\n",
    "- **Associative array**: the *key* is associated with a *value*.\n",
    "- **Hash table**: *hashing* is the technique by which key lookups are made fast.\n",
    "\n",
    "**Crucial point**: any Python type can be a key, so long as it is *immutable*. Why? If the key were mutable, once changed, it would no longer \"open\" the right value!\n",
    "\n",
    "**Q**: Which types can Python use as keys?\n",
    "\n",
    "a) strings and integers  \n",
    "b) lists  \n",
    "c) tuples  \n",
    "d) a and c  \n",
    "\n",
    "Now we might see a reason Python makes strings immutable!\n",
    "\n",
    "Let's look at an example: a phone directory.\n",
    "\n",
    "- Bill: 212-111-2233\n",
    "- Mary: 212-555-6677\n",
    "- Sue: 212-555-4444\n",
    "\n",
    "First we try this as a list:"
   ]
  },
  {
   "cell_type": "code",
   "execution_count": null,
   "metadata": {},
   "outputs": [],
   "source": [
    "contact_list = [\"Bill: 212-111-2233\",\n",
    "                \"Mary: 212-555-6677\",\n",
    "                \"Sue: 212-555-4444\"]\n",
    "for contact in contact_list:\n",
    "    if contact.startswith(\"Sue\"):\n",
    "        print(contact)"
   ]
  },
  {
   "cell_type": "markdown",
   "metadata": {},
   "source": [
    "We could also try this way:"
   ]
  },
  {
   "cell_type": "code",
   "execution_count": null,
   "metadata": {},
   "outputs": [],
   "source": [
    "contact_list = [\"Bill\", \"212-111-2233\",\n",
    "                \"Mary\", \"212-555-6677\",\n",
    "                \"Sue\", \"212-555-4444\"]\n",
    "for name_idx in range(0, len(contact_list), 2):\n",
    "    if contact_list[name_idx] == \"Sue\":\n",
    "        print(contact_list[name_idx + 1])"
   ]
  },
  {
   "cell_type": "markdown",
   "metadata": {},
   "source": [
    "Look how much easier this is with a dictionary:"
   ]
  },
  {
   "cell_type": "code",
   "execution_count": null,
   "metadata": {},
   "outputs": [],
   "source": [
    "contacts = {\"Bill\": \"212-111-2233\",\n",
    "            \"Mary\": \"212-555-6677\",\n",
    "            \"Sue\": \"212-555-4444\"}\n",
    "print(contacts[\"Bill\"])"
   ]
  },
  {
   "cell_type": "markdown",
   "metadata": {},
   "source": [
    "### Creating dictionaries"
   ]
  },
  {
   "cell_type": "markdown",
   "metadata": {},
   "source": [
    "Let's make a dictionary of dictionaries with a real use: looking up zip codes for a city:"
   ]
  },
  {
   "cell_type": "code",
   "execution_count": null,
   "metadata": {},
   "outputs": [],
   "source": [
    "states = {\n",
    "    \"AK\": {\"Anchorage\": [89783, 89728, 78676, 85463],\n",
    "           \"Juneau\": [39783, 39728, 38676],},\n",
    "    \"AL\": {\"Birmingham\": [49783, 49728, 48676],\n",
    "           \"Mobile\": [44783, 44728, 44676]},\n",
    "    \"AR\": {\"Little Rock\": [18783, 18728, 18676, 18183],\n",
    "           \"Hot Springs\": [99783, 99728, 98676]},\n",
    "}\n",
    "\n",
    "state = input(\"Enter a state: \")\n",
    "city = input(\"Enter a city: \")\n",
    "print(\"Zip codes for {}, {} are: {}\".format(city, state,\n",
    "                                            states[state][city]))"
   ]
  },
  {
   "cell_type": "markdown",
   "metadata": {},
   "source": [
    "What if we had a zip code and needed the neighborhood, city and state?"
   ]
  },
  {
   "cell_type": "code",
   "execution_count": null,
   "metadata": {},
   "outputs": [],
   "source": [
    "zips = {\n",
    "    # alternate structure:\n",
    "    # \"11231-2314\": [\"NY\", \"Brooklyn\", \"Sunset Park\"]\n",
    "    \"11231-2314\": {\"state\": \"NY\", \n",
    "                   \"city\": \"Brooklyn\",\n",
    "                   \"nhood\": \"Sunset Park\",\n",
    "                   \"pop.\": 125000},\n",
    "    \"11232-1244\": {\"state\": \"NY\", \n",
    "                   \"city\": \"Brooklyn\",\n",
    "                   \"nhood\": \"Carroll Gardens\",\n",
    "                   \"notes\": \"Good Italian food\",},\n",
    "    \"11201-1213\": {\"state\": \"NY\", \n",
    "                   \"city\": \"Brooklyn\",\n",
    "                   \"nhood\": \"Downtown\",\n",
    "                   \"notes\": \"Lots of offices\"},\n",
    "}\n",
    "\n",
    "zip = input(\"Please enter a 5+4 zip code: \")\n",
    "try:\n",
    "    print(\"That zip code is for {} in {}, {}\".format(zips[zip][\"nhood\"],\n",
    "                                                     zips[zip][\"city\"],\n",
    "                                                     zips[zip][\"state\"]))\n",
    "except KeyError as kerr:\n",
    "    print(\"Zip code not found:\", kerr)\n",
    "print(\"Got here!\")"
   ]
  },
  {
   "cell_type": "markdown",
   "metadata": {},
   "source": [
    "**Q**: `KeyError` is ______.\n",
    "\n",
    "a) an error message  \n",
    "b) an exception  \n",
    "c) a container  \n",
    "d) a return value  "
   ]
  },
  {
   "cell_type": "markdown",
   "metadata": {},
   "source": [
    "If we don't want a `KeyError` we can have a default by using the `get()` method:"
   ]
  },
  {
   "cell_type": "code",
   "execution_count": null,
   "metadata": {},
   "outputs": [],
   "source": [
    "place = zips.get(\"11201-1214\", \"Zip code not found!\")\n",
    "print(place)"
   ]
  },
  {
   "cell_type": "markdown",
   "metadata": {},
   "source": [
    "### Dictionary Indexing and Assignment\n",
    "\n",
    "We use index operator `[ ]` to access elements, but we do **not**\n",
    "use index numbers. The keys are used to access the values."
   ]
  },
  {
   "cell_type": "code",
   "execution_count": null,
   "metadata": {},
   "outputs": [],
   "source": [
    "contacts = {\"Bill\" : \"212-111-2233\", \n",
    "            \"Mary\" : \"212-555-6677\",\n",
    "            \"Sue\" : \"212-555-4444\" }\n",
    "\n",
    "# Accessing one contact, access through the *key*:\n",
    "contacts['Mary']"
   ]
  },
  {
   "cell_type": "markdown",
   "metadata": {},
   "source": [
    "Modifying a value using a key:"
   ]
  },
  {
   "cell_type": "code",
   "execution_count": null,
   "metadata": {},
   "outputs": [],
   "source": [
    "contacts[\"Bill\"] = \"401-846-4318\"\n",
    "print(contacts)"
   ]
  },
  {
   "cell_type": "markdown",
   "metadata": {},
   "source": [
    "### Add a key-value pair via an assignment\n",
    "\n",
    "If the key does not exist, it is created and then\n",
    "associated with the specified value, otherwise the\n",
    "key's value is updated (see above)."
   ]
  },
  {
   "cell_type": "code",
   "execution_count": null,
   "metadata": {},
   "outputs": [],
   "source": [
    "# with a list, we can't add an item with lst[idx] = '865-5523'\n",
    "contacts['Deanna'] = '865-5523'\n",
    "print(contacts)"
   ]
  },
  {
   "cell_type": "markdown",
   "metadata": {},
   "source": [
    "### Dictionary Operations"
   ]
  },
  {
   "cell_type": "code",
   "execution_count": 8,
   "metadata": {
    "scrolled": true
   },
   "outputs": [
    {
     "name": "stdout",
     "output_type": "stream",
     "text": [
      "Enter NetID to look up: ejc369\n",
      "Eugene Callahan\n",
      "\n"
     ]
    },
    {
     "ename": "TypeError",
     "evalue": "unhashable type: 'list'",
     "output_type": "error",
     "traceback": [
      "\u001b[0;31m---------------------------------------------------------------------------\u001b[0m",
      "\u001b[0;31mTypeError\u001b[0m                                 Traceback (most recent call last)",
      "\u001b[0;32m<ipython-input-8-6f3e7c6aa318>\u001b[0m in \u001b[0;36m<module>\u001b[0;34m\u001b[0m\n\u001b[1;32m     10\u001b[0m \u001b[0mlen\u001b[0m\u001b[0;34m(\u001b[0m\u001b[0mnyu_by_id\u001b[0m\u001b[0;34m)\u001b[0m\u001b[0;34m\u001b[0m\u001b[0;34m\u001b[0m\u001b[0m\n\u001b[1;32m     11\u001b[0m \u001b[0mnet_id\u001b[0m \u001b[0;34m=\u001b[0m \u001b[0;34m[\u001b[0m\u001b[0;34m\"er2345\"\u001b[0m\u001b[0;34m,\u001b[0m \u001b[0;34m\"excelsius.regnum\"\u001b[0m\u001b[0;34m]\u001b[0m\u001b[0;34m\u001b[0m\u001b[0;34m\u001b[0m\u001b[0m\n\u001b[0;32m---> 12\u001b[0;31m \u001b[0mnyu_by_id\u001b[0m\u001b[0;34m[\u001b[0m\u001b[0mnet_id\u001b[0m\u001b[0;34m]\u001b[0m \u001b[0;34m=\u001b[0m \u001b[0;34m\"Excelsius Regnum\"\u001b[0m\u001b[0;34m\u001b[0m\u001b[0;34m\u001b[0m\u001b[0m\n\u001b[0m",
      "\u001b[0;31mTypeError\u001b[0m: unhashable type: 'list'"
     ]
    }
   ],
   "source": [
    "nyu_by_id = {}\n",
    "with open(\"nyu_by_id.txt\", \"r\") as nyu_file:\n",
    "    for line in nyu_file:\n",
    "        (net_id, name) = line.split(',')\n",
    "        nyu_by_id[net_id] = name\n",
    "        # print(id, name)\n",
    "net_id = input(\"Enter NetID to look up: \")\n",
    "print(nyu_by_id[net_id])\n",
    "\n",
    "len(nyu_by_id)\n",
    "net_id = [\"er2345\", \"excelsius.regnum\"]\n",
    "nyu_by_id[net_id] = \"Excelsius Regnum\""
   ]
  },
  {
   "cell_type": "markdown",
   "metadata": {},
   "source": [
    "### Sidebar: Hashing\n",
    "\n",
    "What does Python mean by \"unhashable\"? What is \"hashing\"? Hashing is how Python objects are turned into indexes to get a value from a *hash table*:\n",
    "\n",
    "Let's write a *very* simple hash function:"
   ]
  },
  {
   "cell_type": "code",
   "execution_count": null,
   "metadata": {},
   "outputs": [],
   "source": [
    "TABLE_SIZE = 100\n",
    "hash_table = [None]*TABLE_SIZE\n",
    "# print(hash_table)\n",
    "\n",
    "def hash_it(s):\n",
    "    hash_val = 0\n",
    "    for i, ch in enumerate(s):\n",
    "        hash_val += ord(ch) * 10**i\n",
    "    return hash_val % TABLE_SIZE\n",
    "\n",
    "# print(hash_it(\"nahallaC\"))\n",
    "print(hash_it(\"Mitchell\"))\n",
    "print(hash_it(\"Callahan\"))\n",
    "print(hash_it(\"nahallaC\"))\n",
    "\n",
    "hash_table[hash_it(\"Mitchell\")] = \"Student\"\n",
    "hash_table[hash_it(\"Callahan\")] = \"Professor\"\n",
    "hash_table[hash_it(\"nahallaC\")] = \"Anti-Professor\"\n",
    "\n",
    "print(hash_it(\"Mitchell\"), \":\", hash_table[hash_it(\"Mitchell\")])\n",
    "print(hash_it(\"Callahan\"), \":\", hash_table[hash_it(\"Callahan\")])\n"
   ]
  },
  {
   "cell_type": "markdown",
   "metadata": {},
   "source": [
    "### Back to dictionary methods"
   ]
  },
  {
   "cell_type": "markdown",
   "metadata": {},
   "source": [
    "`in` returns `True` if a **key** is in the dictionary, otherwise `False`:"
   ]
  },
  {
   "cell_type": "code",
   "execution_count": null,
   "metadata": {},
   "outputs": [],
   "source": [
    "result = fname in my_dict\n",
    "print(result)\n",
    "print(2 in my_dict)\n",
    "print(\"Last name:\", my_dict[fname])"
   ]
  },
  {
   "cell_type": "code",
   "execution_count": null,
   "metadata": {},
   "outputs": [],
   "source": [
    "result = 'smith' in my_dict\n",
    "print(result)"
   ]
  },
  {
   "cell_type": "markdown",
   "metadata": {},
   "source": [
    "Another way to protect against `KeyError`:"
   ]
  },
  {
   "cell_type": "code",
   "execution_count": null,
   "metadata": {},
   "outputs": [],
   "source": [
    "# an alternative to `zips.get(\"11201-1214\", \"Zip not found!\")`\n",
    "\n",
    "zip = \"82673-7666\"\n",
    "if zip in zips:\n",
    "    zips[zip]\n",
    "else:\n",
    "    print(zip, \"not found!\")"
   ]
  },
  {
   "cell_type": "markdown",
   "metadata": {},
   "source": [
    "We can iterate through keys in the dictionary:"
   ]
  },
  {
   "cell_type": "code",
   "execution_count": null,
   "metadata": {},
   "outputs": [],
   "source": [
    "nyu_schools = {\n",
    "    \"Tandon\": [\"CSE\", \"ChemEng\", \"Physics\", \"CivilEng\"],\n",
    "    \"Stern\": [\"Management\", \"Finance\"],\n",
    "    \"Courant\": [\"Mathematics\", \"CS\"],\n",
    "    \"Galatin\": [\"Independent Study\"],\n",
    "}\n",
    "for school in nyu_schools:\n",
    "    print(\"school =\", school, \"; departments =\",\n",
    "          nyu_schools[school])"
   ]
  },
  {
   "cell_type": "markdown",
   "metadata": {},
   "source": [
    "### Dictionary Methods"
   ]
  },
  {
   "cell_type": "markdown",
   "metadata": {},
   "source": [
    "`items()` iterates through all the key-value pairs as tuples:"
   ]
  },
  {
   "cell_type": "code",
   "execution_count": null,
   "metadata": {},
   "outputs": [],
   "source": [
    "for school, depts in nyu_schools.items():\n",
    "    print(\"Key: {}, Value: {}\".format(school, depts))"
   ]
  },
  {
   "cell_type": "markdown",
   "metadata": {},
   "source": [
    "We can also get the keys, and turn them into a list, if we need that for some reason:"
   ]
  },
  {
   "cell_type": "code",
   "execution_count": null,
   "metadata": {},
   "outputs": [],
   "source": [
    "schools = nyu_schools.keys()\n",
    "print(type(schools))\n",
    "schools_list = list(schools)\n",
    "print(\"Here are the schools at NYU:\", schools_list)"
   ]
  },
  {
   "cell_type": "markdown",
   "metadata": {},
   "source": [
    "We can also iterate over just the values:"
   ]
  },
  {
   "cell_type": "code",
   "execution_count": null,
   "metadata": {},
   "outputs": [],
   "source": [
    "for depts in nyu_schools.values():\n",
    "    print(\"Departments: {}\".format(depts))"
   ]
  },
  {
   "cell_type": "markdown",
   "metadata": {},
   "source": [
    "How do we see all of the methods available for a dictionary named `my_dict`?\n",
    "\n",
    "a) methods(my_dict)  \n",
    "b) len(my_dict)  \n",
    "c) dir(my_dict)  \n",
    "d) repr(my_dict)  "
   ]
  },
  {
   "cell_type": "code",
   "execution_count": null,
   "metadata": {},
   "outputs": [],
   "source": [
    "dir(my_dict)"
   ]
  },
  {
   "cell_type": "markdown",
   "metadata": {},
   "source": [
    "Let's try out `fromkeys()`:"
   ]
  },
  {
   "cell_type": "code",
   "execution_count": null,
   "metadata": {},
   "outputs": [],
   "source": [
    "from random import randint\n",
    "\n",
    "apps = ['Calendar', 'Mail', 'Safari', 'Slack',\n",
    "        'Photo', 'Duo', 'App Store', 'Facetime']\n",
    "app_dict = dict.fromkeys(apps, 0)\n",
    "print(app_dict)\n",
    "for app in app_dict:\n",
    "    app_dict[app] = randint(0, 100)\n",
    "app_nm = input(\"What app do you want to know about? \")\n",
    "print(\"This week you used {} {} times\".format(app_nm, app_dict[app_nm]))"
   ]
  },
  {
   "cell_type": "markdown",
   "metadata": {},
   "source": [
    "### Dictionaries with Different Key Types\n",
    "\n",
    "**Keys**: different types can be used in the same dictionary, as long as they are immutable.\n",
    "\n",
    "**Values**: can be any object, even another dictionary."
   ]
  },
  {
   "cell_type": "code",
   "execution_count": null,
   "metadata": {},
   "outputs": [],
   "source": [
    "demo = {2: ['a', 'b', 'c'], (2, 4): 27, 'x': {1: 1.25, 'a': 3}}\n",
    "\n",
    "print(demo)\n",
    "\n",
    "print(demo[2])\n",
    "print(demo[(2, 4)])\n",
    "print(demo['x'])\n",
    "print(demo['x']['a'])"
   ]
  },
  {
   "cell_type": "markdown",
   "metadata": {},
   "source": [
    "### A Concordance Program"
   ]
  },
  {
   "cell_type": "markdown",
   "metadata": {},
   "source": [
    "A *concordance* is a list of words from a text along with how many times the words appear in that text.\n",
    "\n",
    "Note: what is `string.punctuation`?"
   ]
  },
  {
   "cell_type": "code",
   "execution_count": 1,
   "metadata": {},
   "outputs": [
    {
     "data": {
      "text/plain": [
       "'!\"#$%&\\'()*+,-./:;<=>?@[\\\\]^_`{|}~'"
      ]
     },
     "execution_count": 1,
     "metadata": {},
     "output_type": "execute_result"
    }
   ],
   "source": [
    "import string\n",
    "string.punctuation"
   ]
  },
  {
   "cell_type": "code",
   "execution_count": 7,
   "metadata": {},
   "outputs": [
    {
     "name": "stdout",
     "output_type": "stream",
     "text": [
      "Input the filename: input.txt\n",
      "126 unique words out of 210 words total.\n",
      "a            : ***\n",
      "about        : *\n",
      "all          : *\n",
      "along        : *\n",
      "an           : *\n",
      "and          : *******\n",
      "arrayed      : *\n",
      "at           : *\n",
      "aunt         : **\n",
      "aunt’s       : *\n",
      "be           : ****\n",
      "before       : *\n",
      "beside       : *\n",
      "black        : *\n",
      "blinds       : *\n",
      "blowing      : *\n",
      "boot         : *\n",
      "bridal       : *\n",
      "cast         : *\n",
      "caught       : *\n",
      "chair        : *\n",
      "clothes      : *\n",
      "console      : *\n",
      "crying       : *\n",
      "dancing      : *\n",
      "dangled      : *\n",
      "died         : *\n",
      "down         : **\n",
      "drawing-room : *\n",
      "drawn        : *\n",
      "dressed      : *\n",
      "emotions     : *\n",
      "eyes         : *\n",
      "face         : *\n",
      "fallen       : *\n",
      "fellow       : *\n",
      "find         : *\n",
      "floor        : *\n",
      "foolish      : *\n",
      "for          : ***\n",
      "from         : ****\n",
      "good-night   : *\n",
      "had          : *****\n",
      "haggard      : *\n",
      "hall         : *\n",
      "happen       : *\n",
      "hat          : *\n",
      "he           : ****\n",
      "her          : ****\n",
      "him          : ***\n",
      "his          : ********\n",
      "horse        : *\n",
      "hour         : *\n",
      "how          : *\n",
      "in           : *****\n",
      "it           : **\n",
      "its          : **\n",
      "julia        : **\n",
      "kate         : *\n",
      "knees        : *\n",
      "lame         : *\n",
      "lay          : *\n",
      "limp         : *\n",
      "look         : *\n",
      "merry-making : *\n",
      "might        : *\n",
      "mind         : *\n",
      "moment       : *\n",
      "morkan       : *\n",
      "moved        : *\n",
      "nose         : *\n",
      "not          : *\n",
      "of           : ******\n",
      "on           : *\n",
      "one          : *\n",
      "ones         : *\n",
      "only         : *\n",
      "over         : *\n",
      "own          : *\n",
      "patrick      : *\n",
      "perhaps      : **\n",
      "petticoat    : *\n",
      "pleasure     : *\n",
      "poor         : *\n",
      "proceeded    : *\n",
      "riot         : *\n",
      "river        : *\n",
      "same         : *\n",
      "saying       : *\n",
      "shade        : **\n",
      "she          : ****\n",
      "side         : *\n",
      "silk         : *\n",
      "singing      : *\n",
      "sitting      : **\n",
      "snow         : *\n",
      "some         : **\n",
      "soon         : ***\n",
      "speech       : *\n",
      "stood        : *\n",
      "story        : *\n",
      "string       : *\n",
      "supper       : *\n",
      "telling      : *\n",
      "that         : ****\n",
      "the          : **************\n",
      "thrown       : *\n",
      "to           : **\n",
      "told         : *\n",
      "too          : *\n",
      "upon         : **\n",
      "upper        : *\n",
      "upright      : *\n",
      "useless      : *\n",
      "very         : *\n",
      "walk         : *\n",
      "was          : *\n",
      "what         : *\n",
      "when         : **\n",
      "which        : *\n",
      "wine         : *\n",
      "with         : *\n",
      "wondered     : *\n",
      "words        : *\n",
      "would        : *******\n",
      "yes          : **\n"
     ]
    }
   ],
   "source": [
    "import os\n",
    "import string\n",
    "\n",
    "def get_filename():\n",
    "    filename = input(\"Input the filename: \")\n",
    "    while not os.path.exists(filename):\n",
    "        print(\"That file does not exist.\")\n",
    "        filename = input (\"Input the filename: \")\n",
    "    return filename\n",
    "\n",
    "\n",
    "def chunk_to_word(chunk):\n",
    "    \"\"\"Clean up chunks to turn them into words.\"\"\"\n",
    "    chunk = chunk.lower()\n",
    "    chunk = chunk.strip()\n",
    "    word = chunk.strip(string.punctuation)\n",
    "    return word\n",
    "\n",
    "\n",
    "def add_to_word_count(word, concordance):\n",
    "    \"\"\"If word is in concordance, up its count.\n",
    "    Otherwise, add the word and set its count to 1.\"\"\"\n",
    "    if word in concordance:  # we already saw this word\n",
    "        concordance[word] += 1\n",
    "        return 0\n",
    "    else:  # word we haven't seen before\n",
    "        concordance[word] = 1\n",
    "        return 1  # return 1 cause new word\n",
    "\n",
    "        \n",
    "def build_concordance(name):\n",
    "    concordance = {}\n",
    "    uniq_words = 0\n",
    "    total_words = 0\n",
    "    \n",
    "    file = open(name, 'r')\n",
    "    for line in file:\n",
    "        text_chunks = line.split()  # split line on spaces\n",
    "        # we will get chunks like 'final!' or 'come,'\n",
    "        # or 'Final' `chunk_to_word()` will fix these.\n",
    "        for chunk in text_chunks:\n",
    "            word = chunk_to_word(chunk)\n",
    "            uniq_words += add_to_word_count(word, concordance)\n",
    "            total_words += 1\n",
    "\n",
    "    print(\"{} unique words out of {} words total.\".format(uniq_words,\n",
    "                                                          total_words))\n",
    "    return concordance\n",
    "        \n",
    "\n",
    "def get_max_word(word_list):\n",
    "    max = 0\n",
    "    for word in word_list:\n",
    "        if len(word) > max:\n",
    "            max = len(word)\n",
    "    return max\n",
    "\n",
    "\n",
    "def sort_words(words):\n",
    "    \"\"\"\n",
    "    We're going to use `keys()` to get a list and then sort it.\n",
    "    Return the sorted list.\n",
    "    \"\"\"\n",
    "    word_list = list(words.keys())\n",
    "    word_list.sort()\n",
    "    return word_list\n",
    "\n",
    "\n",
    "def print_pairs(concordance, key_list, length):\n",
    "    format_str = \"{:\" + str(length) + \"s}: {}\"\n",
    "    for key in key_list:\n",
    "        print(format_str.format(key, \"*\"*concordance[key]))\n",
    "\n",
    "    \n",
    "def main():\n",
    "    filename = get_filename()\n",
    "    concordance = build_concordance(filename)\n",
    "    words = sort_words(concordance)\n",
    "    print_pairs(concordance, words, get_max_word(words) + 1)\n",
    "\n",
    "main()"
   ]
  },
  {
   "cell_type": "markdown",
   "metadata": {},
   "source": [
    "### An OS database"
   ]
  },
  {
   "cell_type": "markdown",
   "metadata": {},
   "source": [
    "Let's say we want to find out if there is a difference in OS usage between men and women. This program explores that question:"
   ]
  },
  {
   "cell_type": "code",
   "execution_count": null,
   "metadata": {},
   "outputs": [],
   "source": [
    "BROWSER_COL = 11\n",
    "\n",
    "\n",
    "def open_file():\n",
    "    file_ok = False\n",
    "    while not file_ok:\n",
    "        filename = input(\"Input the filename: \")\n",
    "        try:\n",
    "            file_handle = open(filename, \"r\")\n",
    "        except FileNotFoundError:\n",
    "            print(\"That file does not exist.\")\n",
    "        else:\n",
    "            file_ok = True\n",
    "    return file_handle\n",
    "\n",
    "\n",
    "def build_dictionary(file):\n",
    "    gender_data = { }\n",
    "    first_line = True\n",
    "    for lines in file:\n",
    "        if not first_line:\n",
    "            lines = lines.strip()\n",
    "            columns = lines.split(\",\")\n",
    "            data_list = list(columns[1:])\n",
    "            gender_data[columns[0]] = data_list\n",
    "        else:\n",
    "            first_line = False\n",
    "            \n",
    "    return gender_data\n",
    "\n",
    "\n",
    "def get_os(browser):\n",
    "    if browser.find(\"Windows\") != -1:\n",
    "        os = \"Windows\"\n",
    "    elif browser.find(\"Macintosh\") != -1:\n",
    "        os = \"Macintosh\"\n",
    "    elif browser.find(\"Linux\") != -1:\n",
    "        os = \"Linux\"\n",
    "    else:\n",
    "        os = \"Other\"\n",
    "    return os\n",
    "\n",
    "\n",
    "def os_list_by_gender(dictionary):\n",
    "    data_dict = {'female': {}, 'male': {}}\n",
    "    for value in dictionary.values():\n",
    "        gender = value[0].strip()\n",
    "        this_os = get_os(value[BROWSER_COL].strip())\n",
    "        \n",
    "        if this_os in data_dict[gender]:\n",
    "            data_dict[gender][this_os] += 1\n",
    "        else:\n",
    "            data_dict[gender][this_os] = 1\n",
    "    return data_dict\n",
    "\n",
    "\n",
    "def print_report(data):\n",
    "    for gender in data:\n",
    "        print(gender)\n",
    "        for op_sys in data[gender]:\n",
    "            print(\"{:>12s}: {}\".format(op_sys, data[gender][op_sys]))\n",
    "\n",
    "\n",
    "def main():\n",
    "    file = open_file()\n",
    "    dictionary = build_dictionary(file)    \n",
    "    os_list = os_list_by_gender(dictionary)\n",
    "    print_report(os_list)\n",
    "    \n",
    "\n",
    "main()"
   ]
  },
  {
   "cell_type": "code",
   "execution_count": null,
   "metadata": {},
   "outputs": [],
   "source": [
    "!cat names.csv"
   ]
  },
  {
   "cell_type": "code",
   "execution_count": null,
   "metadata": {},
   "outputs": [],
   "source": []
  }
 ],
 "metadata": {
  "kernelspec": {
   "display_name": "Python 3",
   "language": "python",
   "name": "python3"
  },
  "language_info": {
   "codemirror_mode": {
    "name": "ipython",
    "version": 3
   },
   "file_extension": ".py",
   "mimetype": "text/x-python",
   "name": "python",
   "nbconvert_exporter": "python",
   "pygments_lexer": "ipython3",
   "version": "3.9.0"
  }
 },
 "nbformat": 4,
 "nbformat_minor": 2
}
