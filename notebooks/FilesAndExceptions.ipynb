{
 "cells": [
  {
   "cell_type": "markdown",
   "metadata": {},
   "source": [
    "## Exceptions and More File I/O"
   ]
  },
  {
   "cell_type": "markdown",
   "metadata": {},
   "source": [
    "Exceptions are a solution to some problems... and create some problems!\n",
    "\n",
    "So far, if we hit an error, like bad input, we could:\n",
    "\n",
    "1. Return an error code; or\n",
    "2. Print an error message.\n",
    "\n",
    "The problems? Error code returns can be ignored, and for 'headless' programs, there is no one there to read the message.\n",
    "\n",
    "Problem one:"
   ]
  },
  {
   "cell_type": "code",
   "execution_count": null,
   "metadata": {},
   "outputs": [],
   "source": [
    "# we expect format s1:\n",
    "s1 = \"(347)882-8881\"\n",
    "i = s1.find(')')\n",
    "area_code = s1[1:i]\n",
    "print(\"s1 area code:\", area_code)"
   ]
  },
  {
   "cell_type": "markdown",
   "metadata": {},
   "source": [
    "What will happen if we get s2?"
   ]
  },
  {
   "cell_type": "code",
   "execution_count": 10,
   "metadata": {},
   "outputs": [
    {
     "ename": "ValueError",
     "evalue": "Bad phone number: must have parens around area code!",
     "output_type": "error",
     "traceback": [
      "\u001b[0;31m---------------------------------------------------------------------------\u001b[0m",
      "\u001b[0;31mValueError\u001b[0m                                Traceback (most recent call last)",
      "\u001b[0;32m<ipython-input-10-df6541a06604>\u001b[0m in \u001b[0;36m<module>\u001b[0;34m\u001b[0m\n\u001b[1;32m      2\u001b[0m \u001b[0mi\u001b[0m \u001b[0;34m=\u001b[0m \u001b[0ms2\u001b[0m\u001b[0;34m.\u001b[0m\u001b[0mfind\u001b[0m\u001b[0;34m(\u001b[0m\u001b[0;34m')'\u001b[0m\u001b[0;34m)\u001b[0m\u001b[0;34m\u001b[0m\u001b[0;34m\u001b[0m\u001b[0m\n\u001b[1;32m      3\u001b[0m \u001b[0;32mif\u001b[0m \u001b[0mi\u001b[0m \u001b[0;34m==\u001b[0m \u001b[0;34m-\u001b[0m\u001b[0;36m1\u001b[0m\u001b[0;34m:\u001b[0m\u001b[0;34m\u001b[0m\u001b[0;34m\u001b[0m\u001b[0m\n\u001b[0;32m----> 4\u001b[0;31m     \u001b[0;32mraise\u001b[0m\u001b[0;34m(\u001b[0m\u001b[0mValueError\u001b[0m\u001b[0;34m(\u001b[0m\u001b[0;34m\"Bad phone number: must have parens around area code!\"\u001b[0m\u001b[0;34m)\u001b[0m\u001b[0;34m)\u001b[0m\u001b[0;34m\u001b[0m\u001b[0;34m\u001b[0m\u001b[0m\n\u001b[0m\u001b[1;32m      5\u001b[0m \u001b[0mprint\u001b[0m\u001b[0;34m(\u001b[0m\u001b[0;34m\"i =\"\u001b[0m\u001b[0;34m,\u001b[0m \u001b[0mi\u001b[0m\u001b[0;34m)\u001b[0m\u001b[0;34m\u001b[0m\u001b[0;34m\u001b[0m\u001b[0m\n\u001b[1;32m      6\u001b[0m \u001b[0marea_code\u001b[0m \u001b[0;34m=\u001b[0m \u001b[0ms2\u001b[0m\u001b[0;34m[\u001b[0m\u001b[0;36m1\u001b[0m\u001b[0;34m:\u001b[0m\u001b[0mi\u001b[0m\u001b[0;34m]\u001b[0m\u001b[0;34m\u001b[0m\u001b[0;34m\u001b[0m\u001b[0m\n",
      "\u001b[0;31mValueError\u001b[0m: Bad phone number: must have parens around area code!"
     ]
    }
   ],
   "source": [
    "s2 = \"347-882-8881\"\n",
    "i = s2.find(')')\n",
    "if i == -1:\n",
    "    raise(ValueError(\"Bad phone number: must have parens around area code!\"))\n",
    "print(\"i =\", i)\n",
    "area_code = s2[1:i]\n",
    "print(\"s2 area code:\", area_code)"
   ]
  },
  {
   "cell_type": "markdown",
   "metadata": {},
   "source": [
    "What will go wrong?\n",
    "\n",
    "a) `i` is not a valid index  \n",
    "b) `find()` doesn't work on strings  \n",
    "c) the programmer ignored the error return from `find()`  \n",
    "d) Syntax error"
   ]
  },
  {
   "cell_type": "markdown",
   "metadata": {},
   "source": [
    "Or consider the following code running on the chip in your car's braking system:"
   ]
  },
  {
   "cell_type": "code",
   "execution_count": null,
   "metadata": {},
   "outputs": [],
   "source": [
    "def brakes_failing():\n",
    "    # some code\n",
    "    return True\n",
    "\n",
    "if brakes_failing():\n",
    "    print(\"Caution: failure in automatic braking system!\")\n"
   ]
  },
  {
   "cell_type": "markdown",
   "metadata": {},
   "source": [
    "Who is going to see that message?"
   ]
  },
  {
   "cell_type": "markdown",
   "metadata": {},
   "source": [
    "### The Solution: Exceptions\n",
    "\n",
    "Exceptions were developed to handle these problems, as well as the issue of centralizing error handling.\n",
    "\n",
    "In Python we *raise* an exception when something goes wrong in our code. We can *handle* the exception with a `try` block. Or, if there is no handler, the exception terminates our program.\n",
    "\n",
    "Exceptions are a type of Python object, one that encapsulates an error."
   ]
  },
  {
   "cell_type": "code",
   "execution_count": 5,
   "metadata": {},
   "outputs": [
    {
     "name": "stdout",
     "output_type": "stream",
     "text": [
      "Which index character do you want? 345345\n",
      "The value you entered is not a valid index into the string.\n",
      "Which index character do you want? sdfsdf\n",
      "The value inputted is not an int.\n",
      "Which index character do you want? 4\n",
      "The char is: W\n",
      "Still in control!\n"
     ]
    }
   ],
   "source": [
    "some_string = \"The Week 10 NFL slate is stacked with great matchups.\"\n",
    "\n",
    "# some_index = int(input(\"Which index character do you want? \"))\n",
    "# print(\"The char is: {}\".format(some_string[some_index]))\n",
    "\n",
    "good_input = False\n",
    "while not good_input:\n",
    "    try:\n",
    "        some_index = int(input(\"Which index character do you want? \"))\n",
    "        print(\"The char is: {}\".format(some_string[some_index]))\n",
    "        good_input = True\n",
    "    except ValueError:\n",
    "        print(\"The value inputted is not an int.\")\n",
    "    except IndexError:\n",
    "        print(\"The value you entered is not a valid index into the string.\")\n",
    "\n",
    "print(\"Still in control!\")"
   ]
  },
  {
   "cell_type": "code",
   "execution_count": null,
   "metadata": {},
   "outputs": [],
   "source": []
  },
  {
   "cell_type": "markdown",
   "metadata": {},
   "source": [
    "### Python Builtin Exceptions\n",
    "\n",
    "`ModuleNotFoundError` is thrown when an imported module can not be found."
   ]
  },
  {
   "cell_type": "code",
   "execution_count": null,
   "metadata": {},
   "outputs": [],
   "source": [
    "graphics = False\n",
    "try:\n",
    "    import matplotlib\n",
    "except ModuleNotFoundError:\n",
    "    print(\"No graphics package: oh well!\")\n",
    "else:\n",
    "    graphics = True\n",
    "finally:\n",
    "    print(\"Done with graphics check.\")\n",
    "# later...\n",
    "if graphics:\n",
    "    # do something fancy on the screen\n",
    "    print(\"Do fancy graphics!\")"
   ]
  },
  {
   "cell_type": "markdown",
   "metadata": {},
   "source": [
    "`ImportError` is thrown when a specified name can not be found."
   ]
  },
  {
   "cell_type": "code",
   "execution_count": null,
   "metadata": {},
   "outputs": [],
   "source": [
    "from random import SGDFhjdgfhjsdgf"
   ]
  },
  {
   "cell_type": "markdown",
   "metadata": {},
   "source": [
    "`TypeError` is thrown when an operation or function is applied to an object\n",
    "of an inappropriate type."
   ]
  },
  {
   "cell_type": "code",
   "execution_count": null,
   "metadata": {},
   "outputs": [],
   "source": [
    "'2' + 2"
   ]
  },
  {
   "cell_type": "markdown",
   "metadata": {},
   "source": [
    "`ValueError` is thrown when a function's argument is of an inappropriate type."
   ]
  },
  {
   "cell_type": "code",
   "execution_count": null,
   "metadata": {},
   "outputs": [],
   "source": [
    "int('str')"
   ]
  },
  {
   "cell_type": "markdown",
   "metadata": {},
   "source": [
    "`ZeroDivisionError` is thrown when the second operator in the division is zero."
   ]
  },
  {
   "cell_type": "code",
   "execution_count": null,
   "metadata": {},
   "outputs": [],
   "source": [
    "100/0"
   ]
  },
  {
   "cell_type": "markdown",
   "metadata": {},
   "source": [
    "`KeyboardInterrupt` is thrown when the user hits the interrupt key (normally Control-C) during the execution of the program. **NOTE**: This works from the command line, but **not** inside a notebook!"
   ]
  },
  {
   "cell_type": "code",
   "execution_count": null,
   "metadata": {},
   "outputs": [],
   "source": [
    "value = True\n",
    "\n",
    "try:\n",
    "    while value:\n",
    "        print(\".\", end='')\n",
    "\n",
    "except KeyboardInterrupt:\n",
    "    print(\"Program terminated by user.\")"
   ]
  },
  {
   "cell_type": "markdown",
   "metadata": {},
   "source": [
    "### Exceptions and Files"
   ]
  },
  {
   "cell_type": "code",
   "execution_count": null,
   "metadata": {},
   "outputs": [],
   "source": [
    "file_name = input(\"Enter file name: \")\n",
    "file_opened = False\n",
    "while not file_opened:\n",
    "    try:\n",
    "        input_file = open(file_name, \"r\")\n",
    "    except FileNotFoundError:\n",
    "        print(\"File \", file_name, \"not found; try again!\")\n",
    "        file_name = input(\"Enter file name: \")\n",
    "    else:\n",
    "        file_opened = True\n",
    "print(\"That last name was OK!\")\n",
    "input_file.close()"
   ]
  },
  {
   "cell_type": "code",
   "execution_count": null,
   "metadata": {},
   "outputs": [],
   "source": [
    "file_name = input(\"What file do you want to open? \")\n",
    "line_num_str = input(\"What line of the file do you want to see? \")\n",
    "\n",
    "try:\n",
    "    input_file = open(file_name)\n",
    "    find_line_int = int(line_num_str)\n",
    "\n",
    "    line_count_int = 1\n",
    "\n",
    "    for line_str in input_file:\n",
    "        if line_count_int == find_line_int:\n",
    "            print(\"Line {} of file {} is: {}\".format(line_count_int, file_name, \\\n",
    "                                                     line_str))\n",
    "            break\n",
    "        line_count_int += 1\n",
    "\n",
    "    else:\n",
    "        print(\"Line {} of file {} not found.\".format(find_line_int, file_name))\n",
    "\n",
    "    input_file.close()\n",
    "\n",
    "except FileNotFoundError:\n",
    "    print(\"The file {} does not exist.\".format(file_name))\n",
    "\n",
    "except ValueError:\n",
    "    print(\"Line {} isn't a legal line number.\".format(line_num_str))\n",
    "\n",
    "print(\"End of program\")"
   ]
  },
  {
   "cell_type": "markdown",
   "metadata": {},
   "source": [
    "### Try-Except-Else-Finally"
   ]
  },
  {
   "cell_type": "code",
   "execution_count": null,
   "metadata": {},
   "outputs": [],
   "source": [
    "file_name = \"grudes.txt\"\n",
    "try:\n",
    "    input_file = open(file_name)\n",
    "\n",
    "except FileNotFoundError:\n",
    "    print(\"File does not exist:\", file_name)\n",
    "\n",
    "else:\n",
    "    # executed if try block is error-free\n",
    "    print(\"Processing\", file_name)\n",
    "    \n",
    "finally:\n",
    "    # executed irrespective of exception occured or not\n",
    "    print(\"All done!\")"
   ]
  },
  {
   "cell_type": "markdown",
   "metadata": {},
   "source": [
    "### Problems with exceptions\n",
    "\n",
    "1. They terminate the program if not handled. The Mars Rover coding standards *forbid* throwing exceptions.\n",
    "2. They transfer control non-locally."
   ]
  },
  {
   "cell_type": "code",
   "execution_count": null,
   "metadata": {},
   "outputs": [],
   "source": []
  }
 ],
 "metadata": {
  "kernelspec": {
   "display_name": "Python 3",
   "language": "python",
   "name": "python3"
  },
  "language_info": {
   "codemirror_mode": {
    "name": "ipython",
    "version": 3
   },
   "file_extension": ".py",
   "mimetype": "text/x-python",
   "name": "python",
   "nbconvert_exporter": "python",
   "pygments_lexer": "ipython3",
   "version": "3.9.0"
  }
 },
 "nbformat": 4,
 "nbformat_minor": 2
}
