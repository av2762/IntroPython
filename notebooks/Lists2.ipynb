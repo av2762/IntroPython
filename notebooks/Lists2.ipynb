{
 "cells": [
  {
   "cell_type": "markdown",
   "metadata": {},
   "source": [
    "## More on Lists\n"
   ]
  },
  {
   "cell_type": "markdown",
   "metadata": {},
   "source": [
    "### List slicing"
   ]
  },
  {
   "cell_type": "markdown",
   "metadata": {},
   "source": [
    "*Slicing* uses the bracket operator (`[]`) to copies a *slice* out of a list. The syntax is `lst[start:stop:step]`. Every parameter is optional. The defaults are equivalent to writing `lst[0:len(lst):1]`.\n",
    "\n",
    "Copy of whole list:"
   ]
  },
  {
   "cell_type": "code",
   "execution_count": null,
   "metadata": {},
   "outputs": [],
   "source": [
    "a_list = [1, 2, 'a', 'string', 3.14159, True, \"red\", 3]\n",
    "new_list = a_list[:]  # new_list now a copy of a_list\n",
    "# same as `new_list = a_list[0:len(a_list):1]\n",
    "print(\"new_list:\", new_list)\n",
    "a_list[0] = 999\n",
    "print(\"a_list:\", a_list)\n",
    "print(\"new_list:\", new_list)"
   ]
  },
  {
   "cell_type": "markdown",
   "metadata": {},
   "source": [
    "Copy of list from 3 on:"
   ]
  },
  {
   "cell_type": "code",
   "execution_count": null,
   "metadata": {},
   "outputs": [],
   "source": [
    "print(a_list)\n",
    "new_list = a_list[3:]  \n",
    "print(new_list)"
   ]
  },
  {
   "cell_type": "markdown",
   "metadata": {},
   "source": [
    "Copy of list up to 4:"
   ]
  },
  {
   "cell_type": "code",
   "execution_count": null,
   "metadata": {},
   "outputs": [],
   "source": [
    "new_list = a_list[:4]  \n",
    "print(new_list)"
   ]
  },
  {
   "cell_type": "markdown",
   "metadata": {},
   "source": [
    "We can also index from the back of the list, using negative indices:"
   ]
  },
  {
   "cell_type": "code",
   "execution_count": null,
   "metadata": {},
   "outputs": [],
   "source": [
    "print(a_list[-3:-1])"
   ]
  },
  {
   "cell_type": "code",
   "execution_count": null,
   "metadata": {},
   "outputs": [],
   "source": [
    "print(\"a_list:\", a_list)\n",
    "print(\"[1:8:3]:\", a_list[1:8:3])\n",
    "print(\"[::2]:\", a_list[::2])"
   ]
  },
  {
   "cell_type": "markdown",
   "metadata": {},
   "source": [
    "### `del`\n",
    "\n",
    "- `pop()` takes items off the back of a list.\n",
    "- `remove()` deletes items by value.\n",
    "\n",
    "So how do we delete, say, the 5th item in a list? The answer is `del`."
   ]
  },
  {
   "cell_type": "code",
   "execution_count": null,
   "metadata": {},
   "outputs": [],
   "source": [
    "lst = [0, 2, 4, 6, 8, 10, 12, 14, 16]\n",
    "del lst[5]\n",
    "print(lst)\n",
    "del lst[6:8]  # we can use a range\n",
    "print(lst)"
   ]
  },
  {
   "cell_type": "markdown",
   "metadata": {},
   "source": [
    "### `min` and `max`\n",
    "\n",
    "We can get the minimum and maximum values in a list with `min()` and `max()`:"
   ]
  },
  {
   "cell_type": "code",
   "execution_count": null,
   "metadata": {},
   "outputs": [],
   "source": [
    "min(lst)"
   ]
  },
  {
   "cell_type": "code",
   "execution_count": null,
   "metadata": {},
   "outputs": [],
   "source": [
    "max(lst)"
   ]
  },
  {
   "cell_type": "markdown",
   "metadata": {},
   "source": [
    "Let's write a version of `max()` ourselves to see how it works:"
   ]
  },
  {
   "cell_type": "code",
   "execution_count": null,
   "metadata": {},
   "outputs": [],
   "source": [
    "def our_max(lst):\n",
    "    \"\"\"Return max value from a list.\"\"\"\n",
    "    if not lst:\n",
    "        return None\n",
    "    this_max = lst[0]\n",
    "    for i in range(1, len(lst)):\n",
    "        if lst[i] > this_max:\n",
    "            this_max = lst[i]\n",
    "    return this_max\n",
    "            \n",
    "print(our_max(lst))"
   ]
  },
  {
   "cell_type": "markdown",
   "metadata": {},
   "source": [
    "What happens if we try `min()` or `max()` on a list of mixed types? Let's find out!"
   ]
  },
  {
   "cell_type": "code",
   "execution_count": null,
   "metadata": {},
   "outputs": [],
   "source": [
    "mixed_list = [0, -2.34, 'abc', 7, None, 2.718]\n",
    "min(mixed_list)"
   ]
  },
  {
   "cell_type": "markdown",
   "metadata": {},
   "source": [
    "### Sorting lists\n",
    "\n",
    "Lists have a `sort()` method in Python. It sorts the list in place, and returns `None`: "
   ]
  },
  {
   "cell_type": "code",
   "execution_count": null,
   "metadata": {},
   "outputs": [],
   "source": [
    "lst = [10, 1, 22, 3, 1.4, 5, 66, 77, 8]\n",
    "print(lst.sort())\n",
    "print(lst)\n",
    "print(lst.sort(reverse=True))\n",
    "print(lst)"
   ]
  },
  {
   "cell_type": "markdown",
   "metadata": {},
   "source": [
    "### Lists and strings\n",
    "\n",
    "We can take a list of strings and join them into a single string:"
   ]
  },
  {
   "cell_type": "code",
   "execution_count": 1,
   "metadata": {},
   "outputs": [
    {
     "name": "stdout",
     "output_type": "stream",
     "text": [
      "Type of words: <class 'list'>\n",
      "Type of sentence: <class 'str'>\n",
      "id words: 140044998727944 ; id sentence: 140044998723584\n",
      "These are some words in a list\n"
     ]
    }
   ],
   "source": [
    "words = ['These', 'are', 'some',\n",
    "         'words', 'in', 'a', 'list']\n",
    "sentence = ' '.join(words)\n",
    "\n",
    "print(\"Type of words:\", type(words))\n",
    "print(\"Type of sentence:\", type(sentence))\n",
    "print(\"id words:\", id(words), \"; id sentence:\",\n",
    "      id(sentence))\n",
    "print(sentence)"
   ]
  },
  {
   "cell_type": "code",
   "execution_count": null,
   "metadata": {},
   "outputs": [],
   "source": [
    "sentence2 = sentence\n",
    "print(\"id sentence2:\", id(sentence2))\n",
    "print(\"id sentence:\", id(sentence))\n",
    "print(\"sen2 == sen ?\", sentence2 == sentence)\n",
    "print(\"sen2 is sen ?\", sentence2 is sentence)"
   ]
  },
  {
   "cell_type": "code",
   "execution_count": null,
   "metadata": {},
   "outputs": [],
   "source": [
    "sentence3 = ' '.join(words)\n",
    "\n",
    "print(\"id sentence2:\", id(sentence2))\n",
    "print(\"id sentence3:\", id(sentence3))\n",
    "print(\"sen2 == sen3 ?\", sentence2 == sentence3)\n",
    "print(\"sen2 is sen3 ?\", sentence2 is sentence3)"
   ]
  },
  {
   "cell_type": "markdown",
   "metadata": {},
   "source": [
    "We can also do the opposite operation, and separate a string into a list of strings:"
   ]
  },
  {
   "cell_type": "code",
   "execution_count": 2,
   "metadata": {},
   "outputs": [
    {
     "name": "stdout",
     "output_type": "stream",
     "text": [
      "['These', 'are', 'some', 'words', 'in', 'a', 'list']\n"
     ]
    }
   ],
   "source": [
    "words = sentence.split()\n",
    "print(words)"
   ]
  },
  {
   "cell_type": "code",
   "execution_count": 3,
   "metadata": {},
   "outputs": [
    {
     "name": "stdout",
     "output_type": "stream",
     "text": [
      "['Monday', '45.3', '76.2', '.1', '32']\n"
     ]
    }
   ],
   "source": [
    "csv_line = \"Monday,45.3,76.2,.1,32\"\n",
    "fields = csv_line.split(\",\")\n",
    "print(fields)"
   ]
  },
  {
   "cell_type": "code",
   "execution_count": 4,
   "metadata": {},
   "outputs": [
    {
     "name": "stdout",
     "output_type": "stream",
     "text": [
      "Area code: 347\n"
     ]
    }
   ],
   "source": [
    "phone_num = \"347-876-1234\"\n",
    "(area_code, exchange, rest) = phone_num.split(\"-\")\n",
    "print(\"Area code:\", area_code)"
   ]
  },
  {
   "cell_type": "code",
   "execution_count": 5,
   "metadata": {},
   "outputs": [
    {
     "name": "stdout",
     "output_type": "stream",
     "text": [
      "The year is: 2020\n"
     ]
    }
   ],
   "source": [
    "date = \"10/21/2020\"\n",
    "(month, day, year) = date.split(\"/\")\n",
    "print(\"The year is:\", year)"
   ]
  },
  {
   "cell_type": "markdown",
   "metadata": {},
   "source": [
    "### A list as a parameter to a function which changes the list\n",
    "\n",
    "Let's randomly replace 3 elements in a list with 'x'.\n",
    "This function modifies the list *in-place* and does not return it."
   ]
  },
  {
   "cell_type": "code",
   "execution_count": null,
   "metadata": {},
   "outputs": [],
   "source": [
    "import random\n",
    "\n",
    "def random_list_changer(lst):\n",
    "    for loop_index in range(3):\n",
    "        # may overwrite same location! \n",
    "        rand_index = random.randrange(0, len(lst))\n",
    "        print(\"index =\", rand_index)\n",
    "        lst[rand_index] = 'x'\n",
    "\n",
    "def main():\n",
    "    a_list = ['a', 'b', 'c', 'd', 'e', 'f', 'g']\n",
    "    random_list_changer(a_list)\n",
    "    print(a_list)   # Note that the list has changed!\n",
    "\n",
    "main()"
   ]
  },
  {
   "cell_type": "markdown",
   "metadata": {},
   "source": [
    "#### When are objects actually the same object?"
   ]
  },
  {
   "cell_type": "markdown",
   "metadata": {},
   "source": [
    "Two ints:"
   ]
  },
  {
   "cell_type": "code",
   "execution_count": null,
   "metadata": {},
   "outputs": [],
   "source": [
    "an_int = 257\n",
    "my_int = 257\n",
    "# an_int = 6\n",
    "# my_int = 8\n",
    "\n",
    "print(\"my_int == an_int:\", my_int == an_int)\n",
    "print(id(an_int), id(my_int))\n",
    "print(\"an int is my int?\", an_int is my_int)"
   ]
  },
  {
   "cell_type": "markdown",
   "metadata": {},
   "source": [
    "Two lists:"
   ]
  },
  {
   "cell_type": "code",
   "execution_count": null,
   "metadata": {},
   "outputs": [],
   "source": [
    "a_list = [1, 2, 3, 4, 5]\n",
    "b_list = a_list\n",
    "# a_list = \"Hello\"\n",
    "\n",
    "print(id(a_list), id(b_list))\n",
    "print(a_list is b_list)"
   ]
  },
  {
   "cell_type": "markdown",
   "metadata": {},
   "source": [
    "Let's change an item in a_list and see what happens:"
   ]
  },
  {
   "cell_type": "code",
   "execution_count": null,
   "metadata": {},
   "outputs": [],
   "source": [
    "a_list[3] = 10\n",
    "print(\"a_list =\", a_list, \"; b_list =\", b_list)"
   ]
  },
  {
   "cell_type": "markdown",
   "metadata": {},
   "source": [
    "Taking a list slice creates a new list!"
   ]
  },
  {
   "cell_type": "code",
   "execution_count": null,
   "metadata": {},
   "outputs": [],
   "source": [
    "c_list = [2, 4, 6, 8]\n",
    "d_list = c_list[:]  # list copy via slice\n",
    "print(d_list)\n",
    "print(c_list == d_list)"
   ]
  },
  {
   "cell_type": "code",
   "execution_count": null,
   "metadata": {},
   "outputs": [],
   "source": [
    "print(c_list is d_list)\n",
    "print(id(c_list), id(d_list))"
   ]
  },
  {
   "cell_type": "code",
   "execution_count": null,
   "metadata": {},
   "outputs": [],
   "source": [
    "c_list[0] = 'Hello'\n",
    "print(\"c_list =\", c_list, \"; d_list =\", d_list)"
   ]
  },
  {
   "cell_type": "markdown",
   "metadata": {},
   "source": [
    "### Looping over nested lists\n",
    "\n",
    "We saw lists containing lists earlier... how can we loop over such an entity?"
   ]
  },
  {
   "cell_type": "code",
   "execution_count": 10,
   "metadata": {},
   "outputs": [
    {
     "name": "stdout",
     "output_type": "stream",
     "text": [
      "Bad data at  Bad data!\n",
      "Student N23414 has a test average of NA\n",
      "Student N96567 has a test average of 59.23333333333333\n",
      "Student N20953 has a test average of 50.06666666666666\n",
      "Student N86324 has a test average of 96.26666666666667\n",
      "Student N96345 has a test average of NA\n"
     ]
    }
   ],
   "source": [
    "NYU_ID_IDX = 2\n",
    "FIRST_GRADE_IDX = 3\n",
    "\n",
    "students = [\n",
    "    [True, \"ejc369\", \"N23414\", \"Bad data!\", 92.1, 76.5],\n",
    "    [True, \"rty334\", \"N96567\", 67.9, 34.2, 75.6],\n",
    "    [True, \"aty934\", \"N20953\", 45.3, 48.0, 56.9],\n",
    "    [True, \"ztq323\", \"N86324\", 97.9, 94.4, 96.5],\n",
    "    [False, \"atq123\", \"N96345\", ],\n",
    "]\n",
    "\n",
    "for i in range(len(students)):\n",
    "    test_sum = 0\n",
    "    num_grades = 0\n",
    "    for j in range(len(students[i])):\n",
    "        if j == NYU_ID_IDX:\n",
    "            nyu_id = students[i][j]\n",
    "        elif j >= FIRST_GRADE_IDX:  # at the start of the grades\n",
    "            if not isinstance(students[i][j], float):\n",
    "                print(\"Bad data at\", students[i][j])\n",
    "                break\n",
    "            test_sum += students[i][j]\n",
    "            num_grades += 1\n",
    "    avg = \"NA\"\n",
    "    if num_grades > 0:\n",
    "        avg = test_sum / num_grades\n",
    "    print(\"Student {} has a test average of {}\".format(nyu_id, avg))"
   ]
  },
  {
   "cell_type": "code",
   "execution_count": null,
   "metadata": {},
   "outputs": [],
   "source": []
  }
 ],
 "metadata": {
  "kernelspec": {
   "display_name": "Python 3",
   "language": "python",
   "name": "python3"
  },
  "language_info": {
   "codemirror_mode": {
    "name": "ipython",
    "version": 3
   },
   "file_extension": ".py",
   "mimetype": "text/x-python",
   "name": "python",
   "nbconvert_exporter": "python",
   "pygments_lexer": "ipython3",
   "version": "3.6.9"
  }
 },
 "nbformat": 4,
 "nbformat_minor": 2
}
