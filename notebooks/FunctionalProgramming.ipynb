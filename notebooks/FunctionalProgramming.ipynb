{
 "cells": [
  {
   "cell_type": "markdown",
   "metadata": {},
   "source": [
    "# Functional Programming"
   ]
  },
  {
   "cell_type": "markdown",
   "metadata": {},
   "source": [
    "In computer science, there is a style of programming called *functional programming*. It focuses on using *pure functions* as much as possible:\n",
    "\n",
    "1. Have no side effects.\n",
    "2. Have a return value that depends only on their inputs.\n",
    "\n",
    "What does this mean? Well, let's look at some \"impure\" functions to see:"
   ]
  },
  {
   "cell_type": "code",
   "execution_count": 1,
   "metadata": {},
   "outputs": [],
   "source": [
    "def impure1(s):\n",
    "    print(s)\n",
    "    # Oops, this outputs to the screen!\n",
    "    # That's a side effect."
   ]
  },
  {
   "cell_type": "code",
   "execution_count": 2,
   "metadata": {},
   "outputs": [],
   "source": [
    "big_bad_global_var = 17\n",
    "\n",
    "def impure2():\n",
    "    # Here, the return depends on something\n",
    "    # other than the function's arguments.\n",
    "    return big_bad_global_var * 2"
   ]
  },
  {
   "cell_type": "markdown",
   "metadata": {},
   "source": [
    "Here is another exampe of a side-effect; this function *modifies* its argument:"
   ]
  },
  {
   "cell_type": "code",
   "execution_count": 3,
   "metadata": {},
   "outputs": [],
   "source": [
    "def impure3(lst):\n",
    "    if \"foobar\" in lst:\n",
    "        lst.remove(\"foobar\")"
   ]
  },
  {
   "cell_type": "markdown",
   "metadata": {},
   "source": [
    "Let's write a function that computes the product and sum of a list."
   ]
  },
  {
   "cell_type": "code",
   "execution_count": 1,
   "metadata": {},
   "outputs": [
    {
     "name": "stdout",
     "output_type": "stream",
     "text": [
      "Sum = 15, prod = 120\n"
     ]
    }
   ],
   "source": [
    "def calc_prod_and_sum(lst):\n",
    "    sum = 0\n",
    "    prod = 1\n",
    "    for num in lst:\n",
    "        prod *= num\n",
    "        sum += num\n",
    "    print(\"Sum = {}, prod = {}\".format(sum, prod))\n",
    "    \n",
    "calc_prod_and_sum([1, 2, 3, 4, 5])"
   ]
  },
  {
   "cell_type": "code",
   "execution_count": null,
   "metadata": {},
   "outputs": [],
   "source": []
  },
  {
   "cell_type": "code",
   "execution_count": null,
   "metadata": {},
   "outputs": [],
   "source": []
  },
  {
   "cell_type": "markdown",
   "metadata": {},
   "source": [
    "### Why functional programming?\n",
    "\n",
    "- Functions with side-effects can produce mysterious results the caller doesn't expect.\n",
    "- Functions whose return does not depend only upon their inputs can produce mysterious return values.\n",
    "\n",
    "Let's look at a couple of examples:"
   ]
  },
  {
   "cell_type": "code",
   "execution_count": 7,
   "metadata": {},
   "outputs": [
    {
     "name": "stdout",
     "output_type": "stream",
     "text": [
      "[2, 4, 6, 8, 10]\n",
      "[None, None, None, None, None]\n"
     ]
    }
   ],
   "source": [
    "def double_list(lst):\n",
    "    \"\"\"Function will return a new list with\n",
    "    values in lst doubled.\"\"\"\n",
    "    new_lst = []\n",
    "    for i in range(len(lst)):\n",
    "        new_lst.append(lst[i] * 2)\n",
    "        lst[i] = None  # side effect!\n",
    "    return new_lst\n",
    "\n",
    "lst = [1, 2, 3, 4, 5]\n",
    "new_list = double_list(lst)\n",
    "print(new_list)  # looks good!\n",
    "print(lst)  # oops!"
   ]
  },
  {
   "cell_type": "markdown",
   "metadata": {},
   "source": [
    "The caller of `double_list()` only expected to get back a list with the arguments valued doubled... but got its own list's values wiped out in the process! This side effect makes understanding the program harder."
   ]
  },
  {
   "cell_type": "code",
   "execution_count": 8,
   "metadata": {},
   "outputs": [
    {
     "name": "stdout",
     "output_type": "stream",
     "text": [
      "0\n",
      "1\n",
      "4\n",
      "9\n",
      "17\n",
      "25\n",
      "36\n",
      "49\n",
      "64\n",
      "81\n",
      "100\n"
     ]
    }
   ],
   "source": [
    "import random\n",
    "ADJ_FACTOR = 1\n",
    "\n",
    "def square_it(num):\n",
    "    square = num * num\n",
    "    if random.random() < .1:\n",
    "        square += ADJ_FACTOR\n",
    "    return square\n",
    "\n",
    "nums = [0, 1, 2, 3, 4, 5, 6, 7, 8, 9, 10]\n",
    "for num in nums:\n",
    "    print(square_it(num))"
   ]
  },
  {
   "cell_type": "code",
   "execution_count": null,
   "metadata": {},
   "outputs": [],
   "source": []
  }
 ],
 "metadata": {
  "kernelspec": {
   "display_name": "Python 3",
   "language": "python",
   "name": "python3"
  },
  "language_info": {
   "codemirror_mode": {
    "name": "ipython",
    "version": 3
   },
   "file_extension": ".py",
   "mimetype": "text/x-python",
   "name": "python",
   "nbconvert_exporter": "python",
   "pygments_lexer": "ipython3",
   "version": "3.6.9"
  }
 },
 "nbformat": 4,
 "nbformat_minor": 4
}
