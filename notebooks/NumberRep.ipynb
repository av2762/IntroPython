{
 "cells": [
  {
   "cell_type": "markdown",
   "metadata": {},
   "source": [
    "## Numeral Systems\n",
    "\n",
    "We typically represent numbers in base-10. Speculation is that's because of the number of fingers we have. But base-20, base-60, and base-33 have all [been used in the past] (https://en.wikipedia.org/wiki/List_of_numeral_systems).\n",
    "\n",
    "The simplest possible number system is *base-1*: we just make a mark for everything we count. So if there are five dogs, we write down:\n",
    "/////\n",
    "\n",
    "The Roman numeral system is probably somewhat familiar to you. It is actually partially unary: 1, 2 and 3 are *I*, *II*, and *III*. Five is *V*, while four is \"5 - 1,\" designated by putting the *I* before the *V*: *IV*. Then 6, 7 and 8 go back to unary: *VI*, *VII*, *VIII*. Ten is *X*, while nine is \"10 - 1\": *IX*.\n",
    "\n",
    "This system is awkward: The user has to remember lots of different letters, as the numbers keep going up, and the digits do not lineup well for operations like addition and multiplication. Fifty minus eight looks like:\n",
    "\n",
    "`\n",
    " L\n",
    "-VIII\n",
    "`\n",
    "\n",
    "Instead of:\n",
    "\n",
    "`\n",
    " 50\n",
    " -8\n",
    "`"
   ]
  },
  {
   "cell_type": "markdown",
   "metadata": {},
   "source": [
    "### Positional systems\n",
    "\n",
    "Things get much better when we line numbers up in positions according to some *base* factor, and have the idea of *zero* available for when some place is missing. So, in base ten, we have, on the far right, the *units* place, followed by the *tens* place, the *hundreds* place, the *thousands* place, and so on. With this system, we can use the same digits over and over again, to represent a number however big we want. So:"
   ]
  },
  {
   "cell_type": "code",
   "execution_count": null,
   "metadata": {},
   "outputs": [],
   "source": [
    "2**64"
   ]
  },
  {
   "cell_type": "markdown",
   "metadata": {},
   "source": [
    "The main positional systems we use in computing are:\n",
    "\n",
    "- base 2 (binary)\n",
    "- base 8 (octal)\n",
    "- base 10 (decimal)\n",
    "- base 16 (hexidecimal)"
   ]
  },
  {
   "cell_type": "markdown",
   "metadata": {},
   "source": [
    "How do we count in, say, base-2? Just like in base-10, except that our numbers \"roll over\" to the next place every power of 2, instead of every power of 10. Let's count in base 2:\n",
    "\n",
    "[INSERT GRAPHIC HERE]"
   ]
  },
  {
   "cell_type": "markdown",
   "metadata": {},
   "source": [
    "Python can convert between these common bases. Let's write a small converter program:"
   ]
  },
  {
   "cell_type": "code",
   "execution_count": 10,
   "metadata": {},
   "outputs": [
    {
     "name": "stdout",
     "output_type": "stream",
     "text": [
      "Type a decimal number to convert: 24\n"
     ]
    }
   ],
   "source": [
    "num = int(input(\"Type a decimal number to convert: \"))"
   ]
  },
  {
   "cell_type": "code",
   "execution_count": 9,
   "metadata": {},
   "outputs": [
    {
     "name": "stdout",
     "output_type": "stream",
     "text": [
      "255  in binary is  0b11111111\n",
      "255  in octal is  0o377\n",
      "255  in hex is  0xff\n"
     ]
    }
   ],
   "source": [
    "print(num, \" in binary is \", bin(num))\n",
    "print(num, \" in octal is \", oct(num))\n",
    "print(num, \" in hex is \", hex(num))"
   ]
  },
  {
   "cell_type": "code",
   "execution_count": null,
   "metadata": {},
   "outputs": [],
   "source": []
  }
 ],
 "metadata": {
  "kernelspec": {
   "display_name": "Python 3",
   "language": "python",
   "name": "python3"
  },
  "language_info": {
   "codemirror_mode": {
    "name": "ipython",
    "version": 3
   },
   "file_extension": ".py",
   "mimetype": "text/x-python",
   "name": "python",
   "nbconvert_exporter": "python",
   "pygments_lexer": "ipython3",
   "version": "3.9.0"
  }
 },
 "nbformat": 4,
 "nbformat_minor": 2
}
