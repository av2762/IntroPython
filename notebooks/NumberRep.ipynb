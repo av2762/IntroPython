{
 "cells": [
  {
   "cell_type": "markdown",
   "metadata": {},
   "source": [
    "## Numeral Systems\n",
    "\n",
    "We typically represent numbers in base-10. Speculation is that's because of the number of fingers we have. But base-20, base-60, and base-33 have all [been used in the past] (https://en.wikipedia.org/wiki/List_of_numeral_systems).\n",
    "\n",
    "The simplest possible number system is *base-1* (or a *tally* system): we just make a mark for everything we count. So if there are five scores for Player A in some game, we write down:\n",
    "/////.\n",
    "\n",
    "Base-1 is fine if we are tallying wins in dice or *Yu-Gi-Oh!*, but what if our bank kept our account balance in a tally system? If you have a million dollars in the bank, your account balance statement would consist of one million tally marks! It would take about 200 pages to print your account statement just to show the balance, and it would be very hard to know if the bank were cheating you!\n",
    "\n",
    "The Roman numeral system is probably somewhat familiar to you. It is actually partially unary: 1, 2 and 3 are *I*, *II*, and *III*. Five is *V*, while four is \"5 - 1,\" designated by putting the *I* before the *V*: *IV*. Then 6, 7 and 8 go back to unary: *VI*, *VII*, *VIII*. Ten is *X*, while nine is \"10 - 1\": *IX*.\n",
    "\n",
    "This system is awkward: The user has to remember lots of different letters, as the numbers keep going up, and the digits do not lineup well for operations like addition and multiplication. Fifty minus eight looks like:\n",
    "\n",
    "`\n",
    " L\n",
    "-VIII\n",
    "`\n",
    "\n",
    "Instead of:\n",
    "\n",
    "`\n",
    " 50\n",
    " -8\n",
    "`"
   ]
  },
  {
   "cell_type": "markdown",
   "metadata": {},
   "source": [
    "### Positional systems\n",
    "\n",
    "Things get much better when we line numbers up in positions according to some *base* factor, and have the idea of *zero* available for when some place is missing. These are called [positional systems](https://en.wikipedia.org/wiki/Positional_notation). So, in base ten, we have, on the far right, the *units* place, followed by the *tens* place, the *hundreds* place, the *thousands* place, and so on. With this system, we can use the same digits over and over again, to represent a number however big we want. So:"
   ]
  },
  {
   "cell_type": "code",
   "execution_count": null,
   "metadata": {},
   "outputs": [],
   "source": [
    "2**64"
   ]
  },
  {
   "cell_type": "markdown",
   "metadata": {},
   "source": [
    "The main positional systems we use in computing are:\n",
    "\n",
    "- base 2 (binary)\n",
    "- base 8 (octal)\n",
    "- base 10 (decimal)\n",
    "- base 16 (hexidecimal)"
   ]
  },
  {
   "cell_type": "markdown",
   "metadata": {},
   "source": [
    "### Binary\n",
    "\n",
    "How do we count in, say, base-2? Just like in base-10, except that our numbers \"roll over\" to the next place every power of 2, instead of every power of 10. Let's count in base 2:\n",
    "\n",
    "| Base-10 number | Base-2 number | Power of 2 |\n",
    "| -------------- | ------------- | ---------- |\n",
    "| 0              |             0 |            | \n",
    "| 1              |             1 |  2<sup>0</sup> |\n",
    "| 2              |            10 |  2<sup>1</sup> |\n",
    "| 3              |            11 |\n",
    "| 4              |           100 |  2<sup>2</sup> |\n",
    "| 5              |           101 |\n",
    "| 6              |           110 |\n",
    "| 7              |           111 |\n",
    "| 8              |          1000 |  2<sup>3</sup> |\n",
    "| 9              |          1001 |\n",
    "| 10             |          1010 |\n",
    "| 11             |          1011 |\n",
    "| 12             |          1100 |\n",
    "| 13             |          1101 |\n",
    "| 14             |          1110 |\n",
    "| 15             |          1111 |\n",
    "| 16             |         10000 |  2<sup>4</sup> |\n",
    "\n",
    "Notice how the \"space\" on the number line captured by each additional digit gets bigger and bigger... in fact, that space increases with the power of the base. So, with a base-1 (tally) system, we need 1 million '1's to write one million, but in base-2, we only need 20 digits! The introduction of zero adds remarkable power to number representations.\n"
   ]
  },
  {
   "cell_type": "markdown",
   "metadata": {},
   "source": [
    "### Octal\n",
    "\n",
    "| Base-10 number | Base-8 number | Power of 8 |\n",
    "| -------------- | ------------- | ---------- |\n",
    "| 0              |             0 |            | \n",
    "| 1              |             1 |  8<sup>0</sup> |\n",
    "| 2              |             2 |            |\n",
    "| 3              |             3 |\n",
    "| 4              |             4 |            |\n",
    "| 5              |             5 |\n",
    "| 6              |             6 |\n",
    "| 7              |             7 |\n",
    "| 8              |            10 |  8<sup>1</sup> |\n",
    "| 9              |            11 |\n",
    "| 10             |            12 |\n",
    "| 11             |            13 |\n",
    "| 12             |            14 |\n",
    "| 13             |            15 |\n",
    "| 14             |            16 |\n",
    "| 15             |            17 |\n",
    "| 16             |            ?? |\n",
    "| ...            |           ... |\n",
    "| 64             |           100 |  8<sup>2</sup> |\n",
    "| 512            |          1000 |  8<sup>3</sup> |\n",
    "| 4096           |         10000 |  8<sup>4</sup> |\n"
   ]
  },
  {
   "cell_type": "markdown",
   "metadata": {},
   "source": [
    "### Hexadecimal (Hex)\n",
    "\n",
    "| Base-10 number | Base-16 number | Power of 16 |\n",
    "| -------------- | ------------- | ---------- |\n",
    "| 0              |             0 |            | \n",
    "| 1              |             1 | 16<sup>0</sup> |\n",
    "| 2              |             2 |            |\n",
    "| 3              |             3 |\n",
    "| 4              |             4 |            |\n",
    "| 5              |             5 |\n",
    "| 6              |             6 |\n",
    "| 7              |             7 |\n",
    "| 8              |             8 |            |\n",
    "| 9              |             9 |\n",
    "| 10             |             a |\n",
    "| 11             |             b |\n",
    "| 12             |             c |\n",
    "| 13             |             d |\n",
    "| 14             |             e |\n",
    "| 15             |             f |\n",
    "| 16             |            10 | 16<sup>1</sup> |\n",
    "| ...            |           ... |\n",
    "| 256            |           100 |  16<sup>2</sup> |\n",
    "| 4096           |          1000 |  16<sup>3</sup> |\n",
    "| 65536          |         10000 |  16<sup>4</sup> |\n"
   ]
  },
  {
   "cell_type": "markdown",
   "metadata": {},
   "source": [
    "Python can convert between these common bases. Let's write a small converter program:"
   ]
  },
  {
   "cell_type": "code",
   "execution_count": 6,
   "metadata": {},
   "outputs": [
    {
     "name": "stdout",
     "output_type": "stream",
     "text": [
      "Type a decimal number to convert: 65536\n",
      "65536 in binary is 0b10000000000000000\n",
      "65536 in octal is 0o200000\n",
      "65536 in hex is 0x10000\n"
     ]
    }
   ],
   "source": [
    "num = int(input(\"Type a decimal number to convert: \"))\n",
    "print(num, \"in binary is\", bin(num))\n",
    "print(num, \"in octal is\", oct(num))\n",
    "print(num, \"in hex is\", hex(num))"
   ]
  },
  {
   "cell_type": "code",
   "execution_count": null,
   "metadata": {},
   "outputs": [],
   "source": []
  }
 ],
 "metadata": {
  "kernelspec": {
   "display_name": "Python 3",
   "language": "python",
   "name": "python3"
  },
  "language_info": {
   "codemirror_mode": {
    "name": "ipython",
    "version": 3
   },
   "file_extension": ".py",
   "mimetype": "text/x-python",
   "name": "python",
   "nbconvert_exporter": "python",
   "pygments_lexer": "ipython3",
   "version": "3.9.0"
  }
 },
 "nbformat": 4,
 "nbformat_minor": 2
}
