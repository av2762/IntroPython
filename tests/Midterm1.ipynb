{
 "cells": [
  {
   "cell_type": "markdown",
   "metadata": {},
   "source": [
    "# Midterm 1"
   ]
  },
  {
   "cell_type": "code",
   "execution_count": null,
   "metadata": {},
   "outputs": [],
   "source": [
    "import pandas as pd"
   ]
  },
  {
   "cell_type": "code",
   "execution_count": null,
   "metadata": {},
   "outputs": [],
   "source": [
    "df = pd.read_csv(\"Midterm1.csv\")"
   ]
  },
  {
   "cell_type": "markdown",
   "metadata": {},
   "source": [
    "Let's make sure it read in OK:"
   ]
  },
  {
   "cell_type": "code",
   "execution_count": null,
   "metadata": {},
   "outputs": [],
   "source": [
    "df.head()"
   ]
  },
  {
   "cell_type": "markdown",
   "metadata": {},
   "source": [
    "Get rid of unneeded columns:"
   ]
  },
  {
   "cell_type": "code",
   "execution_count": null,
   "metadata": {
    "scrolled": true
   },
   "outputs": [],
   "source": [
    "df.drop(labels=\"section_name\", axis=1, inplace=True)\n",
    "df.drop(labels=\"Status\", axis=1, inplace=True)\n",
    "df.drop(labels=\"Submission Time\", axis=1, inplace=True)\n",
    "df.drop(labels=\"Lateness\", axis=1, inplace=True)\n",
    "df.drop(labels=\"1: Oath\", axis=1, inplace=True)\n",
    "df.drop(labels=\"2: Exam Rules\", axis=1, inplace=True)\n",
    "df.drop(labels=\"Email\", axis=1, inplace=True)\n",
    "df.drop(labels=\"Max Points\", axis=1, inplace=True)\n",
    "df.drop(labels=\"2: Exam Rules \", axis=1, inplace=True)\n",
    "df.drop(labels=\"Total\", axis=1, inplace=True)\n",
    "df.head()"
   ]
  },
  {
   "cell_type": "markdown",
   "metadata": {},
   "source": [
    "Save a version:"
   ]
  },
  {
   "cell_type": "code",
   "execution_count": null,
   "metadata": {},
   "outputs": [],
   "source": [
    "df.to_csv(\"Midterm1.1.csv\")"
   ]
  },
  {
   "cell_type": "markdown",
   "metadata": {},
   "source": [
    "Clean up the column names so we don't have to worry about extra spaces, etc.:"
   ]
  },
  {
   "cell_type": "code",
   "execution_count": null,
   "metadata": {},
   "outputs": [],
   "source": [
    "cols = df.columns.tolist()\n",
    "cols"
   ]
  },
  {
   "cell_type": "code",
   "execution_count": null,
   "metadata": {},
   "outputs": [],
   "source": [
    "df.columns = ['FName',\n",
    " 'LName',\n",
    " 'SID',\n",
    " 'Total',\n",
    " 'SubID',\n",
    " '3.1',\n",
    " '3.2',\n",
    " '3.3',\n",
    " '3.4',\n",
    " '3.5',\n",
    " '3.6',\n",
    " '3.7',\n",
    " '3.8',\n",
    " '3.9',\n",
    " '3.10',\n",
    " '3.11',\n",
    " '3.12',\n",
    " '4.1',\n",
    " '4.2',\n",
    " '4.3',\n",
    " '4.4',\n",
    " '4.5',\n",
    " '4.6',\n",
    " '4.7',\n",
    " '4.8',\n",
    " '5.1',\n",
    " '5.2',\n",
    " '5.3',\n",
    " '5.4']"
   ]
  },
  {
   "cell_type": "markdown",
   "metadata": {},
   "source": [
    "Set Karel question to max points:"
   ]
  },
  {
   "cell_type": "code",
   "execution_count": null,
   "metadata": {},
   "outputs": [],
   "source": [
    "df['5.4'] = 12.0"
   ]
  },
  {
   "cell_type": "code",
   "execution_count": null,
   "metadata": {},
   "outputs": [],
   "source": [
    "df.head(20)"
   ]
  },
  {
   "cell_type": "markdown",
   "metadata": {},
   "source": [
    "Save a version:"
   ]
  },
  {
   "cell_type": "code",
   "execution_count": null,
   "metadata": {},
   "outputs": [],
   "source": [
    "df.to_csv(\"Midterm1.2.csv\")"
   ]
  },
  {
   "cell_type": "markdown",
   "metadata": {},
   "source": [
    "Now let's get the total for all '5' cols: this will be the best 3 scores out of the 4 cols. First we just add the 4:"
   ]
  },
  {
   "cell_type": "code",
   "execution_count": null,
   "metadata": {},
   "outputs": [],
   "source": [
    "TOTAL_5 = '5 total'\n",
    "df[TOTAL_5] = df['5.1'] + df['5.2'] + df['5.3'] + df['5.4']"
   ]
  },
  {
   "cell_type": "code",
   "execution_count": null,
   "metadata": {},
   "outputs": [],
   "source": [
    "df.head(10)"
   ]
  },
  {
   "cell_type": "markdown",
   "metadata": {},
   "source": [
    "Now create a column that is the min of the 5s:"
   ]
  },
  {
   "cell_type": "code",
   "execution_count": null,
   "metadata": {},
   "outputs": [],
   "source": [
    "new = df[['5.1', '5.2', '5.3', '5.4']].min(axis=1)\n",
    "\n",
    "df['min5'] = new"
   ]
  },
  {
   "cell_type": "code",
   "execution_count": null,
   "metadata": {},
   "outputs": [],
   "source": [
    "df.head(10)"
   ]
  },
  {
   "cell_type": "markdown",
   "metadata": {},
   "source": [
    "Now subtract min5 from TOTAL_5:"
   ]
  },
  {
   "cell_type": "code",
   "execution_count": null,
   "metadata": {},
   "outputs": [],
   "source": [
    "df[TOTAL_5] -= df['min5']"
   ]
  },
  {
   "cell_type": "code",
   "execution_count": null,
   "metadata": {},
   "outputs": [],
   "source": [
    "df.head(10)"
   ]
  },
  {
   "cell_type": "markdown",
   "metadata": {},
   "source": [
    "Now caclulate the total score:"
   ]
  },
  {
   "cell_type": "code",
   "execution_count": null,
   "metadata": {},
   "outputs": [],
   "source": [
    "df['Total'] = (df['3.1']\n",
    "               + df['3.2']\n",
    "               + df['3.3']\n",
    "               + df['3.4']\n",
    "               + df['3.5']\n",
    "               + df['3.6']\n",
    "               + df['3.7']\n",
    "               + df['3.8']\n",
    "               + df['3.9']\n",
    "               + df['3.10']\n",
    "               + df['3.11']\n",
    "               + df['3.12']\n",
    "               + df['4.1']\n",
    "               + df['4.2']\n",
    "               + df['4.3']\n",
    "               + df['4.4']\n",
    "               + df['4.5']\n",
    "               + df['4.6']\n",
    "               + df['4.7']\n",
    "               + df['4.8']\n",
    "               + df[TOTAL_5]\n",
    "              )"
   ]
  },
  {
   "cell_type": "code",
   "execution_count": null,
   "metadata": {},
   "outputs": [],
   "source": [
    "df.head(20)"
   ]
  },
  {
   "cell_type": "code",
   "execution_count": null,
   "metadata": {},
   "outputs": [],
   "source": [
    "df.to_csv(\"midterm1.final.csv\")"
   ]
  },
  {
   "cell_type": "code",
   "execution_count": null,
   "metadata": {},
   "outputs": [],
   "source": []
  }
 ],
 "metadata": {
  "kernelspec": {
   "display_name": "Python 3",
   "language": "python",
   "name": "python3"
  },
  "language_info": {
   "codemirror_mode": {
    "name": "ipython",
    "version": 3
   },
   "file_extension": ".py",
   "mimetype": "text/x-python",
   "name": "python",
   "nbconvert_exporter": "python",
   "pygments_lexer": "ipython3",
   "version": "3.6.9"
  }
 },
 "nbformat": 4,
 "nbformat_minor": 4
}
